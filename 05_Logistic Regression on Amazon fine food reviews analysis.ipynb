{
 "cells": [
  {
   "cell_type": "markdown",
   "metadata": {},
   "source": [
    "# Logistic Regression on Amazon Fine Food Reviews Analysis\n",
    "\n",
    "\n",
    "The Amazon Fine Food Reviews dataset consists of reviews of fine foods from Amazon.<br>\n",
    "\n",
    "Number of reviews: 568,454<br>\n",
    "Number of users: 256,059<br>\n",
    "Number of products: 74,258<br>\n",
    "Timespan: Oct 1999 - Oct 2012<br>\n",
    "Number of Attributes/Columns in data: 10 \n",
    "\n",
    "Attribute Information:\n",
    "\n",
    "1. Id\n",
    "2. ProductId - unique identifier for the product\n",
    "3. UserId - unqiue identifier for the user\n",
    "4. ProfileName\n",
    "5. HelpfulnessNumerator - number of users who found the review helpful\n",
    "6. HelpfulnessDenominator - number of users who indicated whether they found the review helpful or not\n",
    "7. Score - rating between 1 and 5\n",
    "8. Time - timestamp for the review\n",
    "9. Summary - brief summary of the review\n",
    "10. Text - text of the review\n",
    "\n",
    "\n",
    "#### Objective:\n",
    "Given a review, determine whether the review is positive (Rating of 4 or 5) or negative (rating of 1 or 2).\n",
    "\n",
    "<br>\n",
    "[Q] How to determine if a review is positive or negative?<br>\n",
    "<br> \n",
    "[Ans] We could use the Score/Rating. A rating of 4 or 5 could be cosnidered a positive review. A review of 1 or 2 could be considered negative. A review of 3 is nuetral and ignored. This is an approximate and proxy way of determining the polarity (positivity/negativity) of a review.\n",
    "\n",
    "\n"
   ]
  },
  {
   "cell_type": "code",
   "execution_count": 5,
   "metadata": {},
   "outputs": [],
   "source": [
    "%matplotlib inline\n",
    "import warnings\n",
    "warnings.filterwarnings(\"ignore\")\n",
    "\n",
    "import sqlite3\n",
    "import pandas as pd\n",
    "import numpy as np\n",
    "import nltk\n",
    "import string\n",
    "import matplotlib.pyplot as plt\n",
    "import seaborn as sns\n",
    "from sklearn.feature_extraction.text import TfidfTransformer\n",
    "from sklearn.feature_extraction.text import TfidfVectorizer\n",
    "from sklearn.preprocessing import StandardScaler\n",
    "\n",
    "from sklearn.feature_extraction.text import CountVectorizer\n",
    "from sklearn.metrics import confusion_matrix\n",
    "from sklearn import metrics\n",
    "from sklearn.metrics import roc_curve, auc\n",
    "from nltk.stem.porter import PorterStemmer\n",
    "\n",
    "from sklearn.cross_validation import train_test_split\n",
    "from sklearn.linear_model import LogisticRegression\n",
    "from sklearn.grid_search import GridSearchCV\n",
    "from sklearn.grid_search import RandomizedSearchCV\n",
    "from sklearn.metrics import accuracy_score\n",
    "from sklearn.cross_validation import cross_val_score\n",
    "from collections import Counter\n",
    "from sklearn.metrics import accuracy_score\n",
    "from sklearn import cross_validation\n",
    "from sklearn import datasets, neighbors\n",
    "from prettytable import PrettyTable"
   ]
  },
  {
   "cell_type": "markdown",
   "metadata": {},
   "source": [
    "#### Reading back the preprocessed data saved in final.sqlite"
   ]
  },
  {
   "cell_type": "code",
   "execution_count": 3,
   "metadata": {},
   "outputs": [
    {
     "data": {
      "text/html": [
       "<div>\n",
       "<style scoped>\n",
       "    .dataframe tbody tr th:only-of-type {\n",
       "        vertical-align: middle;\n",
       "    }\n",
       "\n",
       "    .dataframe tbody tr th {\n",
       "        vertical-align: top;\n",
       "    }\n",
       "\n",
       "    .dataframe thead th {\n",
       "        text-align: right;\n",
       "    }\n",
       "</style>\n",
       "<table border=\"1\" class=\"dataframe\">\n",
       "  <thead>\n",
       "    <tr style=\"text-align: right;\">\n",
       "      <th></th>\n",
       "      <th>index</th>\n",
       "      <th>Id</th>\n",
       "      <th>ProductId</th>\n",
       "      <th>UserId</th>\n",
       "      <th>ProfileName</th>\n",
       "      <th>HelpfulnessNumerator</th>\n",
       "      <th>HelpfulnessDenominator</th>\n",
       "      <th>Score</th>\n",
       "      <th>Time</th>\n",
       "      <th>Summary</th>\n",
       "      <th>Text</th>\n",
       "      <th>CleanedText</th>\n",
       "    </tr>\n",
       "  </thead>\n",
       "  <tbody>\n",
       "    <tr>\n",
       "      <th>0</th>\n",
       "      <td>138706</td>\n",
       "      <td>150524</td>\n",
       "      <td>0006641040</td>\n",
       "      <td>ACITT7DI6IDDL</td>\n",
       "      <td>shari zychinski</td>\n",
       "      <td>0</td>\n",
       "      <td>0</td>\n",
       "      <td>positive</td>\n",
       "      <td>939340800</td>\n",
       "      <td>EVERY book is educational</td>\n",
       "      <td>this witty little book makes my son laugh at l...</td>\n",
       "      <td>witti littl book make son laugh loud recit car...</td>\n",
       "    </tr>\n",
       "    <tr>\n",
       "      <th>1</th>\n",
       "      <td>138688</td>\n",
       "      <td>150506</td>\n",
       "      <td>0006641040</td>\n",
       "      <td>A2IW4PEEKO2R0U</td>\n",
       "      <td>Tracy</td>\n",
       "      <td>1</td>\n",
       "      <td>1</td>\n",
       "      <td>positive</td>\n",
       "      <td>1194739200</td>\n",
       "      <td>Love the book, miss the hard cover version</td>\n",
       "      <td>I grew up reading these Sendak books, and watc...</td>\n",
       "      <td>grew read sendak book watch realli rosi movi i...</td>\n",
       "    </tr>\n",
       "    <tr>\n",
       "      <th>2</th>\n",
       "      <td>138689</td>\n",
       "      <td>150507</td>\n",
       "      <td>0006641040</td>\n",
       "      <td>A1S4A3IQ2MU7V4</td>\n",
       "      <td>sally sue \"sally sue\"</td>\n",
       "      <td>1</td>\n",
       "      <td>1</td>\n",
       "      <td>positive</td>\n",
       "      <td>1191456000</td>\n",
       "      <td>chicken soup with rice months</td>\n",
       "      <td>This is a fun way for children to learn their ...</td>\n",
       "      <td>fun way children learn month year learn poem t...</td>\n",
       "    </tr>\n",
       "    <tr>\n",
       "      <th>3</th>\n",
       "      <td>138690</td>\n",
       "      <td>150508</td>\n",
       "      <td>0006641040</td>\n",
       "      <td>AZGXZ2UUK6X</td>\n",
       "      <td>Catherine Hallberg \"(Kate)\"</td>\n",
       "      <td>1</td>\n",
       "      <td>1</td>\n",
       "      <td>positive</td>\n",
       "      <td>1076025600</td>\n",
       "      <td>a good swingy rhythm for reading aloud</td>\n",
       "      <td>This is a great little book to read aloud- it ...</td>\n",
       "      <td>great littl book read nice rhythm well good re...</td>\n",
       "    </tr>\n",
       "    <tr>\n",
       "      <th>4</th>\n",
       "      <td>138691</td>\n",
       "      <td>150509</td>\n",
       "      <td>0006641040</td>\n",
       "      <td>A3CMRKGE0P909G</td>\n",
       "      <td>Teresa</td>\n",
       "      <td>3</td>\n",
       "      <td>4</td>\n",
       "      <td>positive</td>\n",
       "      <td>1018396800</td>\n",
       "      <td>A great way to learn the months</td>\n",
       "      <td>This is a book of poetry about the months of t...</td>\n",
       "      <td>book poetri month year goe month cute littl po...</td>\n",
       "    </tr>\n",
       "  </tbody>\n",
       "</table>\n",
       "</div>"
      ],
      "text/plain": [
       "    index      Id   ProductId          UserId                  ProfileName  \\\n",
       "0  138706  150524  0006641040   ACITT7DI6IDDL              shari zychinski   \n",
       "1  138688  150506  0006641040  A2IW4PEEKO2R0U                        Tracy   \n",
       "2  138689  150507  0006641040  A1S4A3IQ2MU7V4        sally sue \"sally sue\"   \n",
       "3  138690  150508  0006641040     AZGXZ2UUK6X  Catherine Hallberg \"(Kate)\"   \n",
       "4  138691  150509  0006641040  A3CMRKGE0P909G                       Teresa   \n",
       "\n",
       "   HelpfulnessNumerator  HelpfulnessDenominator     Score        Time  \\\n",
       "0                     0                       0  positive   939340800   \n",
       "1                     1                       1  positive  1194739200   \n",
       "2                     1                       1  positive  1191456000   \n",
       "3                     1                       1  positive  1076025600   \n",
       "4                     3                       4  positive  1018396800   \n",
       "\n",
       "                                      Summary  \\\n",
       "0                   EVERY book is educational   \n",
       "1  Love the book, miss the hard cover version   \n",
       "2               chicken soup with rice months   \n",
       "3      a good swingy rhythm for reading aloud   \n",
       "4             A great way to learn the months   \n",
       "\n",
       "                                                Text  \\\n",
       "0  this witty little book makes my son laugh at l...   \n",
       "1  I grew up reading these Sendak books, and watc...   \n",
       "2  This is a fun way for children to learn their ...   \n",
       "3  This is a great little book to read aloud- it ...   \n",
       "4  This is a book of poetry about the months of t...   \n",
       "\n",
       "                                         CleanedText  \n",
       "0  witti littl book make son laugh loud recit car...  \n",
       "1  grew read sendak book watch realli rosi movi i...  \n",
       "2  fun way children learn month year learn poem t...  \n",
       "3  great littl book read nice rhythm well good re...  \n",
       "4  book poetri month year goe month cute littl po...  "
      ]
     },
     "execution_count": 3,
     "metadata": {},
     "output_type": "execute_result"
    }
   ],
   "source": [
    "\n",
    "#Using sqlite3 to retrieve data from sqlite file\n",
    "\n",
    "con = sqlite3.connect(\"final.sqlite\")#Loading Cleaned/ Preprocesed text that we did in Text Preprocessing\n",
    "\n",
    "#Using pandas functions to query from sql table\n",
    "df = pd.read_sql_query(\"\"\"\n",
    "SELECT * FROM Reviews \n",
    "\"\"\",con)\n",
    "\n",
    "#Reviews is the name of the table given\n",
    "#Taking only the data where score != 3 as score 3 will be neutral and it won't help us much\n",
    "df.head()"
   ]
  },
  {
   "cell_type": "code",
   "execution_count": 4,
   "metadata": {},
   "outputs": [],
   "source": [
    "df.sort_values('Time', axis=0, ascending=False, inplace=True, kind='quicksort', na_position='last')"
   ]
  },
  {
   "cell_type": "code",
   "execution_count": 5,
   "metadata": {},
   "outputs": [],
   "source": [
    "df_data=df[ 0:100000]"
   ]
  },
  {
   "cell_type": "code",
   "execution_count": 6,
   "metadata": {},
   "outputs": [],
   "source": [
    "X = df_data['CleanedText']\n",
    "y = df_data['Score']"
   ]
  },
  {
   "cell_type": "code",
   "execution_count": 7,
   "metadata": {
    "scrolled": true
   },
   "outputs": [
    {
     "name": "stdout",
     "output_type": "stream",
     "text": [
      "(70000,) (70000,) (30000,) (30000,)\n"
     ]
    }
   ],
   "source": [
    "# split the data set into crossvalidation train and test\n",
    "X_train, X_test, y_train, y_test = cross_validation.train_test_split(X, y, test_size=0.3, random_state=0)\n",
    "print(X_train.shape, y_train.shape, X_test.shape, y_test.shape)"
   ]
  },
  {
   "cell_type": "markdown",
   "metadata": {},
   "source": [
    "### Hyperparameter tuning using GridSearchCV"
   ]
  },
  {
   "cell_type": "code",
   "execution_count": 8,
   "metadata": {},
   "outputs": [],
   "source": [
    "from sklearn.metrics import make_scorer\n",
    "from sklearn.metrics import f1_score\n",
    "tuned_parameters = [{'C': [1000,500,100,50,10,5,1,0.5,0.1,0.05,0.01,0.005,0.001,0.0005,0.0001]}]\n",
    "f1_scorer = make_scorer(f1_score, pos_label=\"negative\")\n",
    "model = GridSearchCV(LogisticRegression(), tuned_parameters, scoring = f1_scorer, cv=5)"
   ]
  },
  {
   "cell_type": "markdown",
   "metadata": {},
   "source": [
    "### Hyperparameter tuning using RandomSearchCV"
   ]
  },
  {
   "cell_type": "code",
   "execution_count": 9,
   "metadata": {},
   "outputs": [],
   "source": [
    "#soucecode:https://chrisalbon.com/machine_learning/model_selection/hyperparameter_tuning_using_random_search/\n",
    "\n",
    "from scipy.stats import uniform\n",
    "penalty = ['l1', 'l2']\n",
    "#Create regularization hyperparameter distribution using uniform distribution\n",
    "C1 = uniform(loc=0, scale=4)\n",
    "hyperparameters = dict(C=C1, penalty=penalty)\n",
    "model_random = RandomizedSearchCV(LogisticRegression(),hyperparameters,scoring = f1_scorer, cv=5)"
   ]
  },
  {
   "cell_type": "markdown",
   "metadata": {},
   "source": [
    "# Bag of Words (BoW)"
   ]
  },
  {
   "cell_type": "code",
   "execution_count": 10,
   "metadata": {},
   "outputs": [],
   "source": [
    "from sklearn.preprocessing import StandardScaler\n",
    "count_vec = CountVectorizer()\n",
    "X_trainbow = count_vec.fit_transform(X_train)\n",
    "# Test Vectorizor\n",
    "X_testbow = count_vec.transform(X_test)\n",
    "X_trainbow_std = StandardScaler(with_mean = False).fit_transform(X_trainbow)"
   ]
  },
  {
   "cell_type": "markdown",
   "metadata": {},
   "source": [
    "##### Logistic Regression usin GridSearch CV "
   ]
  },
  {
   "cell_type": "code",
   "execution_count": 24,
   "metadata": {},
   "outputs": [
    {
     "name": "stderr",
     "output_type": "stream",
     "text": [
      "C:\\Users\\Admin\\Anaconda3\\lib\\site-packages\\sklearn\\metrics\\classification.py:1135: UndefinedMetricWarning: F-score is ill-defined and being set to 0.0 due to no predicted samples.\n",
      "  'precision', 'predicted', average, warn_for)\n",
      "C:\\Users\\Admin\\Anaconda3\\lib\\site-packages\\sklearn\\metrics\\classification.py:1135: UndefinedMetricWarning: F-score is ill-defined and being set to 0.0 due to no predicted samples.\n",
      "  'precision', 'predicted', average, warn_for)\n",
      "C:\\Users\\Admin\\Anaconda3\\lib\\site-packages\\sklearn\\metrics\\classification.py:1135: UndefinedMetricWarning: F-score is ill-defined and being set to 0.0 due to no predicted samples.\n",
      "  'precision', 'predicted', average, warn_for)\n",
      "C:\\Users\\Admin\\Anaconda3\\lib\\site-packages\\sklearn\\metrics\\classification.py:1135: UndefinedMetricWarning: F-score is ill-defined and being set to 0.0 due to no predicted samples.\n",
      "  'precision', 'predicted', average, warn_for)\n",
      "C:\\Users\\Admin\\Anaconda3\\lib\\site-packages\\sklearn\\metrics\\classification.py:1135: UndefinedMetricWarning: F-score is ill-defined and being set to 0.0 due to no predicted samples.\n",
      "  'precision', 'predicted', average, warn_for)\n"
     ]
    },
    {
     "data": {
      "text/plain": [
       "GridSearchCV(cv=5, error_score='raise',\n",
       "       estimator=LogisticRegression(C=1.0, class_weight=None, dual=False, fit_intercept=True,\n",
       "          intercept_scaling=1, max_iter=100, multi_class='ovr', n_jobs=1,\n",
       "          penalty='l2', random_state=None, solver='liblinear', tol=0.0001,\n",
       "          verbose=0, warm_start=False),\n",
       "       fit_params={}, iid=True, n_jobs=1,\n",
       "       param_grid=[{'C': [0.0001, 0.01, 1, 100, 10000]}],\n",
       "       pre_dispatch='2*n_jobs', refit=True,\n",
       "       scoring=make_scorer(f1_score, pos_label=negative), verbose=0)"
      ]
     },
     "execution_count": 24,
     "metadata": {},
     "output_type": "execute_result"
    }
   ],
   "source": [
    "model.fit(X_trainbow,y_train)\n",
    "print(model.best_estimator_)"
   ]
  },
  {
   "cell_type": "markdown",
   "metadata": {},
   "source": [
    "#### Accuracy Report with Best C"
   ]
  },
  {
   "cell_type": "code",
   "execution_count": 11,
   "metadata": {},
   "outputs": [
    {
     "name": "stdout",
     "output_type": "stream",
     "text": [
      "\n",
      "The accuracy of the classifier is 86.820000%\n",
      "accuracy on train data is 98.9%\n",
      "error on train data is 1.0999999999999943%\n",
      "error on test data is 13.180000000000007%\n"
     ]
    }
   ],
   "source": [
    "\n",
    "logistic_optimal = LogisticRegression(C=1,penalty='l2')\n",
    "\n",
    "# fitting the model\n",
    "logistic_optimal.fit(X_trainbow_std, y_train)\n",
    "\n",
    "# predict the response\n",
    "\n",
    "predicted_labels = []\n",
    "for i in range(0,30000 , 1000):\n",
    "    predicted_labels.append(logistic_optimal.predict(X_testbow[i:i+1000]))\n",
    "\n",
    "pred_bow = np.hstack(predicted_labels)\n",
    "#pred_bow= knn_optimal.predict(X_testbow)\n",
    "# evaluate accuracy\n",
    "acc_bow = accuracy_score(y_test, pred_bow) * 100\n",
    "print('\\nThe accuracy of the classifier is %f%%' %(acc_bow))\n",
    "for i in range(0,70000 , 1000):\n",
    "    acc_train_bow = logistic_optimal.score(X_trainbow_std[i:i+1000],y_train[i:i+1000])*100\n",
    "print(\"accuracy on train data is {}%\".format(acc_train_bow))\n",
    "error_train_bow = (100-acc_train_bow)\n",
    "print(\"error on train data is {}%\".format(error_train_bow))\n",
    "error_test_bow = (100-acc_bow)\n",
    "print(\"error on test data is {}%\".format(error_test_bow))"
   ]
  },
  {
   "cell_type": "markdown",
   "metadata": {},
   "source": [
    "##### Logistic Regression usin RandomSearch CV "
   ]
  },
  {
   "cell_type": "code",
   "execution_count": 37,
   "metadata": {},
   "outputs": [
    {
     "name": "stderr",
     "output_type": "stream",
     "text": [
      "C:\\Users\\Admin\\Anaconda3\\lib\\site-packages\\sklearn\\metrics\\classification.py:1135: UndefinedMetricWarning: F-score is ill-defined and being set to 0.0 due to no predicted samples.\n",
      "  'precision', 'predicted', average, warn_for)\n",
      "C:\\Users\\Admin\\Anaconda3\\lib\\site-packages\\sklearn\\metrics\\classification.py:1135: UndefinedMetricWarning: F-score is ill-defined and being set to 0.0 due to no predicted samples.\n",
      "  'precision', 'predicted', average, warn_for)\n",
      "C:\\Users\\Admin\\Anaconda3\\lib\\site-packages\\sklearn\\metrics\\classification.py:1135: UndefinedMetricWarning: F-score is ill-defined and being set to 0.0 due to no predicted samples.\n",
      "  'precision', 'predicted', average, warn_for)\n",
      "C:\\Users\\Admin\\Anaconda3\\lib\\site-packages\\sklearn\\metrics\\classification.py:1135: UndefinedMetricWarning: F-score is ill-defined and being set to 0.0 due to no predicted samples.\n",
      "  'precision', 'predicted', average, warn_for)\n",
      "C:\\Users\\Admin\\Anaconda3\\lib\\site-packages\\sklearn\\metrics\\classification.py:1135: UndefinedMetricWarning: F-score is ill-defined and being set to 0.0 due to no predicted samples.\n",
      "  'precision', 'predicted', average, warn_for)\n"
     ]
    },
    {
     "data": {
      "text/plain": [
       "RandomizedSearchCV(cv=5, error_score='raise',\n",
       "          estimator=LogisticRegression(C=1.0, class_weight=None, dual=False, fit_intercept=True,\n",
       "          intercept_scaling=1, max_iter=100, multi_class='ovr', n_jobs=1,\n",
       "          penalty='l2', random_state=None, solver='liblinear', tol=0.0001,\n",
       "          verbose=0, warm_start=False),\n",
       "          fit_params={}, iid=True, n_iter=100, n_jobs=1,\n",
       "          param_distributions={'C': <scipy.stats._distn_infrastructure.rv_frozen object at 0x000000001405C6D8>, 'penalty': ['l1', 'l2']},\n",
       "          pre_dispatch='2*n_jobs', random_state=None, refit=True,\n",
       "          scoring=make_scorer(f1_score, pos_label=negative), verbose=0)"
      ]
     },
     "execution_count": 37,
     "metadata": {},
     "output_type": "execute_result"
    }
   ],
   "source": [
    "model_random.fit(X_trainbow,y_train)"
   ]
  },
  {
   "cell_type": "code",
   "execution_count": 14,
   "metadata": {},
   "outputs": [
    {
     "name": "stdout",
     "output_type": "stream",
     "text": [
      "\n",
      "The accuracy of the classifier is 86.820000%\n",
      "accuracy on train data is 98.9%\n",
      "error on train data is 1.0999999999999943%\n",
      "error on test data is 13.180000000000007%\n"
     ]
    }
   ],
   "source": [
    "\n",
    "logistic_optimal = LogisticRegression(C=1,penalty='l2')\n",
    "\n",
    "# fitting the model\n",
    "logistic_optimal.fit(X_trainbow_std, y_train)\n",
    "\n",
    "# predict the response\n",
    "\n",
    "predicted_labels = []\n",
    "for i in range(0,30000 , 1000):\n",
    "    predicted_labels.append(logistic_optimal.predict(X_testbow[i:i+1000]))\n",
    "\n",
    "pred_bow = np.hstack(predicted_labels)\n",
    "#pred_bow= knn_optimal.predict(X_testbow)\n",
    "# evaluate accuracy\n",
    "acc_bow = accuracy_score(y_test, pred_bow) * 100\n",
    "print('\\nThe accuracy of the classifier is %f%%' %(acc_bow))\n",
    "for i in range(0,70000 , 1000):\n",
    "    acc_train_bow = logistic_optimal.score(X_trainbow_std[i:i+1000],y_train[i:i+1000])*100\n",
    "print(\"accuracy on train data is {}%\".format(acc_train_bow))\n",
    "error_train_bow = (100-acc_train_bow)\n",
    "print(\"error on train data is {}%\".format(error_train_bow))\n",
    "error_test_bow = (100-acc_bow)\n",
    "print(\"error on test data is {}%\".format(error_test_bow))"
   ]
  },
  {
   "cell_type": "markdown",
   "metadata": {},
   "source": [
    "#### Confusion matrix"
   ]
  },
  {
   "cell_type": "code",
   "execution_count": 12,
   "metadata": {},
   "outputs": [
    {
     "data": {
      "text/plain": [
       "array([[ 1405,  3743],\n",
       "       [  211, 24641]], dtype=int64)"
      ]
     },
     "execution_count": 12,
     "metadata": {},
     "output_type": "execute_result"
    }
   ],
   "source": [
    "from sklearn.metrics import confusion_matrix\n",
    "confusion_matrix(y_test, pred_bow)"
   ]
  },
  {
   "cell_type": "code",
   "execution_count": 51,
   "metadata": {
    "scrolled": true
   },
   "outputs": [
    {
     "data": {
      "text/plain": [
       "<matplotlib.axes._subplots.AxesSubplot at 0x1b206828>"
      ]
     },
     "execution_count": 51,
     "metadata": {},
     "output_type": "execute_result"
    },
    {
     "data": {
      "image/png": "[encoded data removed]",
      "text/plain": [
       "<Figure size 432x288 with 2 Axes>"
      ]
     },
     "metadata": {},
     "output_type": "display_data"
    }
   ],
   "source": [
    "import seaborn as sns\n",
    "def plot_confusion_matrix(targets, predictions,title='Confusion matrix', cmap=\"Blues\"):\n",
    "    \"\"\"Plot Confusion Matrix.\"\"\"\n",
    "    cm = confusion_matrix(targets, predictions)\n",
    "   # cm = 100 * cm.astype('float') / cm.sum(axis=1)[:, np.newaxis]\n",
    " \n",
    "    df = pd.DataFrame(data=cm)\n",
    "    g = sns.heatmap(df, annot=True, fmt=\".1f\", linewidths=.5,cmap=cmap)\n",
    "    g.set_title(title)\n",
    "    g.set_ylabel('True label')\n",
    "    g.set_xlabel('Predicted label')\n",
    "    return g\n",
    "plot_confusion_matrix(y_test, pred_bow)"
   ]
  },
  {
   "cell_type": "markdown",
   "metadata": {},
   "source": [
    "#### Classification Report"
   ]
  },
  {
   "cell_type": "code",
   "execution_count": 13,
   "metadata": {},
   "outputs": [
    {
     "name": "stdout",
     "output_type": "stream",
     "text": [
      "             precision    recall  f1-score   support\n",
      "\n",
      "   negative       0.87      0.27      0.42      5148\n",
      "   positive       0.87      0.99      0.93     24852\n",
      "\n",
      "avg / total       0.87      0.87      0.84     30000\n",
      "\n"
     ]
    }
   ],
   "source": [
    "from sklearn.metrics import classification_report\n",
    "print(classification_report(y_test, pred_bow))"
   ]
  },
  {
   "cell_type": "markdown",
   "metadata": {},
   "source": [
    "##### Observing Sparsity and error with Variation in  C with L1 Reguralization"
   ]
  },
  {
   "cell_type": "code",
   "execution_count": 13,
   "metadata": {},
   "outputs": [
    {
     "name": "stdout",
     "output_type": "stream",
     "text": [
      "number of non zero elements is 0\n",
      "error with considered c is12.773333333333337\n"
     ]
    }
   ],
   "source": [
    "clf = LogisticRegression(C=0.0001, penalty='l1');\n",
    "clf.fit(X_trainbow_std, y_train);\n",
    "w4 = clf.coef_\n",
    "print(\"number of non zero elements is {}\".format(np.count_nonzero(w4)))\n",
    "predicted_labels = []\n",
    "for i in range(0,30000 , 1000):\n",
    "    predicted_labels.append(logistic_optimal.predict(X_testbow[i:i+1000]))\n",
    "pred_bow = np.hstack(predicted_labels)\n",
    "error_bow_c4=1-accuracy_score(y_test,pred_bow)\n",
    "print(\"error with considered c is{}\".format(error_bow_c4*100))"
   ]
  },
  {
   "cell_type": "code",
   "execution_count": 14,
   "metadata": {},
   "outputs": [
    {
     "name": "stdout",
     "output_type": "stream",
     "text": [
      "number of non zero elements is 3565\n",
      "error with considered c is12.773333333333337\n"
     ]
    }
   ],
   "source": [
    "clf = LogisticRegression(C=0.01, penalty='l1');\n",
    "clf.fit(X_trainbow_std, y_train);\n",
    "w2 = clf.coef_\n",
    "print(\"number of non zero elements is {}\".format(np.count_nonzero(w2)))\n",
    "predicted_labels = []\n",
    "for i in range(0,30000 , 1000):\n",
    "    predicted_labels.append(logistic_optimal.predict(X_testbow[i:i+1000]))\n",
    "pred_bow = np.hstack(predicted_labels)\n",
    "error_bow_c2=1-accuracy_score(y_test,pred_bow)\n",
    "print(\"error with considered c is{}\".format(error_bow_c2*100))"
   ]
  },
  {
   "cell_type": "code",
   "execution_count": 16,
   "metadata": {},
   "outputs": [
    {
     "name": "stdout",
     "output_type": "stream",
     "text": [
      "number of non zero elements is 860\n",
      "error with considered c is12.773333333333337\n"
     ]
    }
   ],
   "source": [
    "\n",
    "clf = LogisticRegression(C=0.1, penalty='l1');\n",
    "clf.fit(X_trainbow, y_train);\n",
    "w1 = clf.coef_\n",
    "print(\"number of non zero elements is {}\".format(np.count_nonzero(w1)))\n",
    "predicted_labels = []\n",
    "for i in range(0,30000 , 1000):\n",
    "    predicted_labels.append(logistic_optimal.predict(X_testbow[i:i+1000]))\n",
    "pred_bow = np.hstack(predicted_labels)\n",
    "error_bow_c1=1-accuracy_score(y_test,pred_bow)\n",
    "print(\"error with considered c is{}\".format(error_bow_c1*100))"
   ]
  },
  {
   "cell_type": "code",
   "execution_count": null,
   "metadata": {},
   "outputs": [],
   "source": [
    "clf = LogisticRegression(C=1000, penalty='l1');\n",
    "clf.fit(X_trainbow, y_train);\n",
    "w3 = clf.coef_\n",
    "print(\"number of non zero elements is {}\".format(np.count_nonzero(w3)))\n",
    "predicted_labels = []\n",
    "for i in range(0,30000 , 1000):\n",
    "    predicted_labels.append(logistic_optimal.predict(X_testbow[i:i+1000]))\n",
    "pred_bow = np.hstack(predicted_labels)\n",
    "error_bow_c3=1-accuracy_score(y_test,pred_bow)\n",
    "print(\"error with considered c is{}\".format(error_bow_c3*100))"
   ]
  },
  {
   "cell_type": "markdown",
   "metadata": {},
   "source": [
    "##### Observation:\n",
    "      As C increases Sparsity Increases,and error remains constant"
   ]
  },
  {
   "cell_type": "markdown",
   "metadata": {},
   "source": [
    "#### Feature Importance"
   ]
  },
  {
   "cell_type": "code",
   "execution_count": 11,
   "metadata": {},
   "outputs": [
    {
     "data": {
      "text/plain": [
       "(1, 31637)"
      ]
     },
     "execution_count": 11,
     "metadata": {},
     "output_type": "execute_result"
    }
   ],
   "source": [
    "W = logistic_optimal.coef_\n",
    "W.shape\n"
   ]
  },
  {
   "cell_type": "code",
   "execution_count": 12,
   "metadata": {},
   "outputs": [],
   "source": [
    "epsilon=np.random.normal(loc=0.0, scale=0.00000001)\n",
    "X_trainbow_std.data = X_trainbow_std.data + epsilon"
   ]
  },
  {
   "cell_type": "code",
   "execution_count": 13,
   "metadata": {},
   "outputs": [
    {
     "data": {
      "text/plain": [
       "(70000, 31637)"
      ]
     },
     "execution_count": 13,
     "metadata": {},
     "output_type": "execute_result"
    }
   ],
   "source": [
    "X_trainbow_std.shape"
   ]
  },
  {
   "cell_type": "code",
   "execution_count": 14,
   "metadata": {},
   "outputs": [
    {
     "data": {
      "text/plain": [
       "LogisticRegression(C=1, class_weight=None, dual=False, fit_intercept=True,\n",
       "          intercept_scaling=1, max_iter=100, multi_class='ovr', n_jobs=1,\n",
       "          penalty='l2', random_state=None, solver='liblinear', tol=0.0001,\n",
       "          verbose=0, warm_start=False)"
      ]
     },
     "execution_count": 14,
     "metadata": {},
     "output_type": "execute_result"
    }
   ],
   "source": [
    "logistic_optimal.fit(X_trainbow_std,y_train)"
   ]
  },
  {
   "cell_type": "code",
   "execution_count": 16,
   "metadata": {},
   "outputs": [
    {
     "data": {
      "text/plain": [
       "31637"
      ]
     },
     "execution_count": 16,
     "metadata": {},
     "output_type": "execute_result"
    }
   ],
   "source": [
    "W1 = logistic_optimal.coef_\n",
    "W1.size"
   ]
  },
  {
   "cell_type": "code",
   "execution_count": 17,
   "metadata": {},
   "outputs": [],
   "source": [
    "weights_diff = (abs(W - W1)/W) * 100"
   ]
  },
  {
   "cell_type": "code",
   "execution_count": 18,
   "metadata": {},
   "outputs": [
    {
     "name": "stdout",
     "output_type": "stream",
     "text": [
      "1440\n"
     ]
    }
   ],
   "source": [
    "print(weights_diff[np.where(weights_diff > 30)].size)"
   ]
  },
  {
   "cell_type": "code",
   "execution_count": 19,
   "metadata": {},
   "outputs": [],
   "source": [
    "bow_features = count_vec.get_feature_names()"
   ]
  },
  {
   "cell_type": "code",
   "execution_count": 20,
   "metadata": {},
   "outputs": [
    {
     "data": {
      "text/plain": [
       "(1, 31637)"
      ]
     },
     "execution_count": 20,
     "metadata": {},
     "output_type": "execute_result"
    }
   ],
   "source": [
    "# To count feature for each class while fitting the model\n",
    "# Number of samples encountered for each (class, feature) during fitting\n",
    "\n",
    "feat_count = logistic_optimal.coef_\n",
    "feat_count.shape"
   ]
  },
  {
   "cell_type": "code",
   "execution_count": 21,
   "metadata": {},
   "outputs": [
    {
     "data": {
      "text/plain": [
       "array([[-1.54095643e-05,  6.72225397e-05, -1.93002455e-05, ...,\n",
       "        -4.13070863e-05,  3.78088409e-03,  7.27680327e-06]])"
      ]
     },
     "execution_count": 21,
     "metadata": {},
     "output_type": "execute_result"
    }
   ],
   "source": [
    "log_weight = logistic_optimal.coef_[:25]\n",
    "log_weight\n"
   ]
  },
  {
   "cell_type": "code",
   "execution_count": 22,
   "metadata": {},
   "outputs": [
    {
     "data": {
      "text/plain": [
       "(31637, 2)"
      ]
     },
     "execution_count": 22,
     "metadata": {},
     "output_type": "execute_result"
    }
   ],
   "source": [
    "coefs_feat =pd.DataFrame(sorted(zip(logistic_optimal.coef_[0], bow_features)))\n",
    "coefs_feat.shape"
   ]
  },
  {
   "cell_type": "code",
   "execution_count": 23,
   "metadata": {},
   "outputs": [
    {
     "name": "stdout",
     "output_type": "stream",
     "text": [
      "Top 10 Negative Features:-\n",
      "            0           1\n",
      "0  -0.901250  disappoint\n",
      "1  -0.796610       digit\n",
      "2  -0.768833       worst\n",
      "3  -0.759677       cattl\n",
      "4  -0.749269       eugen\n",
      "5  -0.724947     terribl\n",
      "6  -0.712163        hair\n",
      "7  -0.700236      sulfat\n",
      "8  -0.690993      bloodi\n",
      "9  -0.635643   autoimmun\n",
      "10 -0.633890        tast\n",
      "11 -0.628747        weed\n",
      "12 -0.612037        moth\n",
      "13 -0.598190    unfortun\n",
      "14 -0.587297     rubberi\n",
      "15 -0.584698          aw\n",
      "16 -0.583681    techniqu\n",
      "17 -0.579611         fda\n",
      "18 -0.572803         fig\n",
      "19 -0.571092    nauseous\n",
      "20 -0.561993       threw\n",
      "21 -0.556178    tobacman\n",
      "22 -0.555815      refund\n",
      "23 -0.554213       blech\n",
      "24 -0.551708      rachel\n",
      "\n",
      "\n",
      " Top 10 Positive Features:-\n",
      "               0            1\n",
      "31636  2.014222        great\n",
      "31635  1.762895         love\n",
      "31634  1.487635         best\n",
      "31633  1.456395      perfect\n",
      "31632  1.310296       delici\n",
      "31631  1.290488         good\n",
      "31630  1.080806         amaz\n",
      "31629  1.054797    collector\n",
      "31628  1.043587       thrive\n",
      "31627  0.964820      fantast\n",
      "31626  0.951302    cheesecak\n",
      "31625  0.943431         nice\n",
      "31624  0.940293       awesom\n",
      "31623  0.916526        doggi\n",
      "31622  0.895731        excel\n",
      "31621  0.888619         trap\n",
      "31620  0.881259        hazel\n",
      "31619  0.870617   erythritol\n",
      "31618  0.833271        popul\n",
      "31617  0.817084       addict\n",
      "31616  0.801287       wonder\n",
      "31615  0.794227         tiki\n",
      "31614  0.792957        worri\n",
      "31613  0.786783       coliti\n",
      "31612  0.780313  carrageenan\n"
     ]
    }
   ],
   "source": [
    "# To show top 25 feature from both class\n",
    "# Feature Importance\n",
    "print(\"Top 10 Negative Features:-\\n\",coefs_feat[0:25])\n",
    "print(\"\\n\\n Top 10 Positive Features:-\\n\",coefs_feat[:-26:-1])"
   ]
  },
  {
   "cell_type": "code",
   "execution_count": 24,
   "metadata": {},
   "outputs": [],
   "source": [
    "neg_text=coefs_feat[1][0:50].tolist()\n",
    "pos_text=coefs_feat[1][:-51:-1].tolist()"
   ]
  },
  {
   "cell_type": "code",
   "execution_count": 25,
   "metadata": {},
   "outputs": [],
   "source": [
    "str1=\" \".join(neg_text)\n",
    "str2=\" \".join(pos_text)"
   ]
  },
  {
   "cell_type": "markdown",
   "metadata": {},
   "source": [
    "#### Wordcloud on Negative Features"
   ]
  },
  {
   "cell_type": "code",
   "execution_count": 26,
   "metadata": {},
   "outputs": [
    {
     "data": {
      "image/png": "[encoded data removed]",
      "text/plain": [
       "<Figure size 432x288 with 1 Axes>"
      ]
     },
     "metadata": {},
     "output_type": "display_data"
    }
   ],
   "source": [
    "from PIL import Image\n",
    "from wordcloud import WordCloud, STOPWORDS, ImageColorGenerator\n",
    "\n",
    "# Create and generate a word cloud image:\n",
    "wordcloud = WordCloud(max_font_size=50, max_words=50, background_color=\"white\").generate(str1)\n",
    "\n",
    "# Display the generated image:\n",
    "plt.imshow(wordcloud, interpolation='bilinear')\n",
    "plt.axis(\"off\")\n",
    "plt.show()"
   ]
  },
  {
   "cell_type": "markdown",
   "metadata": {},
   "source": [
    "#### Wordcloud on Positive Features"
   ]
  },
  {
   "cell_type": "code",
   "execution_count": 27,
   "metadata": {},
   "outputs": [
    {
     "data": {
      "image/png": "[encoded data removed]",
      "text/plain": [
       "<Figure size 432x288 with 1 Axes>"
      ]
     },
     "metadata": {},
     "output_type": "display_data"
    }
   ],
   "source": [
    "from PIL import Image\n",
    "from wordcloud import WordCloud, STOPWORDS, ImageColorGenerator\n",
    "\n",
    "# Create and generate a word cloud image:\n",
    "wordcloud = WordCloud(max_font_size=50, max_words=50, background_color=\"white\").generate(str2)\n",
    "\n",
    "# Display the generated image:\n",
    "plt.imshow(wordcloud, interpolation='bilinear')\n",
    "plt.axis(\"off\")\n",
    "plt.show()"
   ]
  },
  {
   "cell_type": "markdown",
   "metadata": {},
   "source": [
    "#  TF-IDF"
   ]
  },
  {
   "cell_type": "code",
   "execution_count": 16,
   "metadata": {},
   "outputs": [
    {
     "name": "stdout",
     "output_type": "stream",
     "text": [
      "Train Data Size:  (70000, 31637)\n",
      "Test Data Size:  (30000, 31637)\n"
     ]
    }
   ],
   "source": [
    "from sklearn import preprocessing\n",
    "\n",
    "tfidf = TfidfVectorizer() #Using bi-grams\n",
    "X_traintfidf = tfidf.fit_transform(X_train)\n",
    "#Normalize Data\n",
    "X_traintfidf = StandardScaler(with_mean = False).fit_transform(X_traintfidf)\n",
    "print(\"Train Data Size: \",X_traintfidf.shape)\n",
    "X_testtfidf = tfidf.transform(X_test)\n",
    "#Normalize Data\n",
    "X_testtfidf = StandardScaler(with_mean = False).fit_transform(X_testtfidf)\n",
    "print(\"Test Data Size: \",X_testtfidf.shape)"
   ]
  },
  {
   "cell_type": "markdown",
   "metadata": {},
   "source": [
    "##### Logistic Regression usin GridSearch CV "
   ]
  },
  {
   "cell_type": "code",
   "execution_count": 54,
   "metadata": {},
   "outputs": [
    {
     "name": "stderr",
     "output_type": "stream",
     "text": [
      "C:\\Users\\Admin\\Anaconda3\\lib\\site-packages\\sklearn\\metrics\\classification.py:1135: UndefinedMetricWarning: F-score is ill-defined and being set to 0.0 due to no predicted samples.\n",
      "  'precision', 'predicted', average, warn_for)\n",
      "C:\\Users\\Admin\\Anaconda3\\lib\\site-packages\\sklearn\\metrics\\classification.py:1135: UndefinedMetricWarning: F-score is ill-defined and being set to 0.0 due to no predicted samples.\n",
      "  'precision', 'predicted', average, warn_for)\n",
      "C:\\Users\\Admin\\Anaconda3\\lib\\site-packages\\sklearn\\metrics\\classification.py:1135: UndefinedMetricWarning: F-score is ill-defined and being set to 0.0 due to no predicted samples.\n",
      "  'precision', 'predicted', average, warn_for)\n",
      "C:\\Users\\Admin\\Anaconda3\\lib\\site-packages\\sklearn\\metrics\\classification.py:1135: UndefinedMetricWarning: F-score is ill-defined and being set to 0.0 due to no predicted samples.\n",
      "  'precision', 'predicted', average, warn_for)\n",
      "C:\\Users\\Admin\\Anaconda3\\lib\\site-packages\\sklearn\\metrics\\classification.py:1135: UndefinedMetricWarning: F-score is ill-defined and being set to 0.0 due to no predicted samples.\n",
      "  'precision', 'predicted', average, warn_for)\n",
      "C:\\Users\\Admin\\Anaconda3\\lib\\site-packages\\sklearn\\metrics\\classification.py:1135: UndefinedMetricWarning: F-score is ill-defined and being set to 0.0 due to no predicted samples.\n",
      "  'precision', 'predicted', average, warn_for)\n",
      "C:\\Users\\Admin\\Anaconda3\\lib\\site-packages\\sklearn\\metrics\\classification.py:1135: UndefinedMetricWarning: F-score is ill-defined and being set to 0.0 due to no predicted samples.\n",
      "  'precision', 'predicted', average, warn_for)\n",
      "C:\\Users\\Admin\\Anaconda3\\lib\\site-packages\\sklearn\\metrics\\classification.py:1135: UndefinedMetricWarning: F-score is ill-defined and being set to 0.0 due to no predicted samples.\n",
      "  'precision', 'predicted', average, warn_for)\n",
      "C:\\Users\\Admin\\Anaconda3\\lib\\site-packages\\sklearn\\metrics\\classification.py:1135: UndefinedMetricWarning: F-score is ill-defined and being set to 0.0 due to no predicted samples.\n",
      "  'precision', 'predicted', average, warn_for)\n",
      "C:\\Users\\Admin\\Anaconda3\\lib\\site-packages\\sklearn\\metrics\\classification.py:1135: UndefinedMetricWarning: F-score is ill-defined and being set to 0.0 due to no predicted samples.\n",
      "  'precision', 'predicted', average, warn_for)\n",
      "C:\\Users\\Admin\\Anaconda3\\lib\\site-packages\\sklearn\\metrics\\classification.py:1135: UndefinedMetricWarning: F-score is ill-defined and being set to 0.0 due to no predicted samples.\n",
      "  'precision', 'predicted', average, warn_for)\n",
      "C:\\Users\\Admin\\Anaconda3\\lib\\site-packages\\sklearn\\metrics\\classification.py:1135: UndefinedMetricWarning: F-score is ill-defined and being set to 0.0 due to no predicted samples.\n",
      "  'precision', 'predicted', average, warn_for)\n",
      "C:\\Users\\Admin\\Anaconda3\\lib\\site-packages\\sklearn\\metrics\\classification.py:1135: UndefinedMetricWarning: F-score is ill-defined and being set to 0.0 due to no predicted samples.\n",
      "  'precision', 'predicted', average, warn_for)\n",
      "C:\\Users\\Admin\\Anaconda3\\lib\\site-packages\\sklearn\\metrics\\classification.py:1135: UndefinedMetricWarning: F-score is ill-defined and being set to 0.0 due to no predicted samples.\n",
      "  'precision', 'predicted', average, warn_for)\n",
      "C:\\Users\\Admin\\Anaconda3\\lib\\site-packages\\sklearn\\metrics\\classification.py:1135: UndefinedMetricWarning: F-score is ill-defined and being set to 0.0 due to no predicted samples.\n",
      "  'precision', 'predicted', average, warn_for)\n",
      "C:\\Users\\Admin\\Anaconda3\\lib\\site-packages\\sklearn\\metrics\\classification.py:1135: UndefinedMetricWarning: F-score is ill-defined and being set to 0.0 due to no predicted samples.\n",
      "  'precision', 'predicted', average, warn_for)\n",
      "C:\\Users\\Admin\\Anaconda3\\lib\\site-packages\\sklearn\\metrics\\classification.py:1135: UndefinedMetricWarning: F-score is ill-defined and being set to 0.0 due to no predicted samples.\n",
      "  'precision', 'predicted', average, warn_for)\n",
      "C:\\Users\\Admin\\Anaconda3\\lib\\site-packages\\sklearn\\metrics\\classification.py:1135: UndefinedMetricWarning: F-score is ill-defined and being set to 0.0 due to no predicted samples.\n",
      "  'precision', 'predicted', average, warn_for)\n",
      "C:\\Users\\Admin\\Anaconda3\\lib\\site-packages\\sklearn\\metrics\\classification.py:1135: UndefinedMetricWarning: F-score is ill-defined and being set to 0.0 due to no predicted samples.\n",
      "  'precision', 'predicted', average, warn_for)\n",
      "C:\\Users\\Admin\\Anaconda3\\lib\\site-packages\\sklearn\\metrics\\classification.py:1135: UndefinedMetricWarning: F-score is ill-defined and being set to 0.0 due to no predicted samples.\n",
      "  'precision', 'predicted', average, warn_for)\n",
      "C:\\Users\\Admin\\Anaconda3\\lib\\site-packages\\sklearn\\metrics\\classification.py:1135: UndefinedMetricWarning: F-score is ill-defined and being set to 0.0 due to no predicted samples.\n",
      "  'precision', 'predicted', average, warn_for)\n",
      "C:\\Users\\Admin\\Anaconda3\\lib\\site-packages\\sklearn\\metrics\\classification.py:1135: UndefinedMetricWarning: F-score is ill-defined and being set to 0.0 due to no predicted samples.\n",
      "  'precision', 'predicted', average, warn_for)\n",
      "C:\\Users\\Admin\\Anaconda3\\lib\\site-packages\\sklearn\\metrics\\classification.py:1135: UndefinedMetricWarning: F-score is ill-defined and being set to 0.0 due to no predicted samples.\n",
      "  'precision', 'predicted', average, warn_for)\n",
      "C:\\Users\\Admin\\Anaconda3\\lib\\site-packages\\sklearn\\metrics\\classification.py:1135: UndefinedMetricWarning: F-score is ill-defined and being set to 0.0 due to no predicted samples.\n",
      "  'precision', 'predicted', average, warn_for)\n",
      "C:\\Users\\Admin\\Anaconda3\\lib\\site-packages\\sklearn\\metrics\\classification.py:1135: UndefinedMetricWarning: F-score is ill-defined and being set to 0.0 due to no predicted samples.\n",
      "  'precision', 'predicted', average, warn_for)\n"
     ]
    },
    {
     "name": "stdout",
     "output_type": "stream",
     "text": [
      "LogisticRegression(C=5, class_weight=None, dual=False, fit_intercept=True,\n",
      "          intercept_scaling=1, max_iter=100, multi_class='ovr', n_jobs=1,\n",
      "          penalty='l2', random_state=None, solver='liblinear', tol=0.0001,\n",
      "          verbose=0, warm_start=False)\n"
     ]
    }
   ],
   "source": [
    "model.fit(X_traintfidf,y_train)\n",
    "print(model.best_estimator_)"
   ]
  },
  {
   "cell_type": "markdown",
   "metadata": {},
   "source": [
    "##### Accuracy Report with best C"
   ]
  },
  {
   "cell_type": "code",
   "execution_count": 17,
   "metadata": {},
   "outputs": [
    {
     "name": "stdout",
     "output_type": "stream",
     "text": [
      "\n",
      "The accuracy of the classifier is 86.820000%\n",
      "accuracy on train data is 98.7%\n",
      "error on train data is 1.2999999999999972%\n",
      "error on test data is 13.786666666666676%\n"
     ]
    }
   ],
   "source": [
    "\n",
    "logistic_optimal = LogisticRegression(C=5,penalty='l2')\n",
    "\n",
    "# fitting the model\n",
    "logistic_optimal.fit(X_traintfidf, y_train)\n",
    "\n",
    "# predict the response\n",
    "\n",
    "predicted_labels = []\n",
    "for i in range(0,30000 , 1000):\n",
    "    predicted_labels.append(logistic_optimal.predict(X_testtfidf[i:i+1000]))\n",
    "\n",
    "pred_tfidf = np.hstack(predicted_labels)\n",
    "#pred_bow= knn_optimal.predict(X_testbow)\n",
    "# evaluate accuracy\n",
    "acc_tfidf = accuracy_score(y_test, pred_tfidf) * 100\n",
    "print('\\nThe accuracy of the classifier is %f%%' %(acc_bow))\n",
    "for i in range(0,70000 , 1000):\n",
    "    acc_train_tfidf = logistic_optimal.score(X_traintfidf[i:i+1000],y_train[i:i+1000])*100\n",
    "print(\"accuracy on train data is {}%\".format(acc_train_tfidf))\n",
    "error_train_tfidf = (100-acc_train_tfidf)\n",
    "print(\"error on train data is {}%\".format(error_train_tfidf))\n",
    "error_test_tfidf = (100-acc_tfidf)\n",
    "print(\"error on test data is {}%\".format(error_test_tfidf))"
   ]
  },
  {
   "cell_type": "markdown",
   "metadata": {},
   "source": [
    "##### Logistic Regression usin RandomSearch CV "
   ]
  },
  {
   "cell_type": "code",
   "execution_count": 57,
   "metadata": {},
   "outputs": [
    {
     "name": "stderr",
     "output_type": "stream",
     "text": [
      "C:\\Users\\Admin\\Anaconda3\\lib\\site-packages\\sklearn\\metrics\\classification.py:1135: UndefinedMetricWarning: F-score is ill-defined and being set to 0.0 due to no predicted samples.\n",
      "  'precision', 'predicted', average, warn_for)\n"
     ]
    },
    {
     "name": "stdout",
     "output_type": "stream",
     "text": [
      "LogisticRegression(C=5, class_weight=None, dual=False, fit_intercept=True,\n",
      "          intercept_scaling=1, max_iter=100, multi_class='ovr', n_jobs=1,\n",
      "          penalty='l2', random_state=None, solver='liblinear', tol=0.0001,\n",
      "          verbose=0, warm_start=False)\n"
     ]
    }
   ],
   "source": [
    "model_random.fit(X_traintfidf,y_train)\n",
    "print(model.best_estimator_)"
   ]
  },
  {
   "cell_type": "markdown",
   "metadata": {},
   "source": [
    "##### Accuracy Report with best C"
   ]
  },
  {
   "cell_type": "code",
   "execution_count": 18,
   "metadata": {},
   "outputs": [
    {
     "name": "stdout",
     "output_type": "stream",
     "text": [
      "\n",
      "The accuracy of the classifier is 86.820000%\n",
      "accuracy on train data is 98.7%\n",
      "error on train data is 1.2999999999999972%\n",
      "error on test data is 13.786666666666676%\n"
     ]
    }
   ],
   "source": [
    "\n",
    "logistic_optimal = LogisticRegression(C=5,penalty='l2')\n",
    "\n",
    "# fitting the model\n",
    "logistic_optimal.fit(X_traintfidf, y_train)\n",
    "\n",
    "# predict the response\n",
    "\n",
    "predicted_labels = []\n",
    "for i in range(0,30000 , 1000):\n",
    "    predicted_labels.append(logistic_optimal.predict(X_testtfidf[i:i+1000]))\n",
    "\n",
    "pred_tfidf = np.hstack(predicted_labels)\n",
    "#pred_bow= knn_optimal.predict(X_testbow)\n",
    "# evaluate accuracy\n",
    "acc_tfidf = accuracy_score(y_test, pred_tfidf) * 100\n",
    "print('\\nThe accuracy of the classifier is %f%%' %(acc_bow))\n",
    "for i in range(0,70000 , 1000):\n",
    "    acc_train_tfidf = logistic_optimal.score(X_traintfidf[i:i+1000],y_train[i:i+1000])*100\n",
    "print(\"accuracy on train data is {}%\".format(acc_train_tfidf))\n",
    "error_train_tfidf = (100-acc_train_tfidf)\n",
    "print(\"error on train data is {}%\".format(error_train_tfidf))\n",
    "error_test_tfidf = (100-acc_tfidf)\n",
    "print(\"error on test data is {}%\".format(error_test_tfidf))"
   ]
  },
  {
   "cell_type": "markdown",
   "metadata": {},
   "source": [
    "#### Confusion Matrix"
   ]
  },
  {
   "cell_type": "code",
   "execution_count": 118,
   "metadata": {},
   "outputs": [
    {
     "data": {
      "text/plain": [
       "array([[ 3155,  1993],\n",
       "       [ 2143, 22709]], dtype=int64)"
      ]
     },
     "execution_count": 118,
     "metadata": {},
     "output_type": "execute_result"
    }
   ],
   "source": [
    "from sklearn.metrics import confusion_matrix\n",
    "confusion_matrix(y_test, pred_tfidf)"
   ]
  },
  {
   "cell_type": "code",
   "execution_count": 76,
   "metadata": {},
   "outputs": [
    {
     "data": {
      "text/plain": [
       "<matplotlib.axes._subplots.AxesSubplot at 0x279b5da0>"
      ]
     },
     "execution_count": 76,
     "metadata": {},
     "output_type": "execute_result"
    },
    {
     "data": {
      "image/png": "[encoded data removed]",
      "text/plain": [
       "<Figure size 432x288 with 2 Axes>"
      ]
     },
     "metadata": {},
     "output_type": "display_data"
    }
   ],
   "source": [
    "import seaborn as sns\n",
    "def plot_confusion_matrix(targets, predictions,title='Confusion matrix'):\n",
    "    \"\"\"Plot Confusion Matrix.\"\"\"\n",
    "    cm = confusion_matrix(targets, predictions)\n",
    "   # cm = 100 * cm.astype('float') / cm.sum(axis=1)[:, np.newaxis]\n",
    " \n",
    "    df = pd.DataFrame(data=cm)\n",
    "    g = sns.heatmap(df, annot=True, fmt=\".1f\", linewidths=.5)\n",
    "    g.set_title(title)\n",
    "    g.set_ylabel('True label')\n",
    "    g.set_xlabel('Predicted label')\n",
    "    return g\n",
    "plot_confusion_matrix(y_test, pred_tfidf)"
   ]
  },
  {
   "cell_type": "markdown",
   "metadata": {},
   "source": [
    "#### Classification Report "
   ]
  },
  {
   "cell_type": "code",
   "execution_count": 77,
   "metadata": {},
   "outputs": [
    {
     "name": "stdout",
     "output_type": "stream",
     "text": [
      "             precision    recall  f1-score   support\n",
      "\n",
      "   negative       0.60      0.61      0.60      5148\n",
      "   positive       0.92      0.91      0.92     24852\n",
      "\n",
      "avg / total       0.86      0.86      0.86     30000\n",
      "\n"
     ]
    }
   ],
   "source": [
    "from sklearn.metrics import classification_report\n",
    "print(classification_report(y_test, pred_tfidf))"
   ]
  },
  {
   "cell_type": "markdown",
   "metadata": {},
   "source": [
    "##### Observing Sparsity and error with Variation in  C with L1 Reguralization"
   ]
  },
  {
   "cell_type": "code",
   "execution_count": 60,
   "metadata": {},
   "outputs": [
    {
     "name": "stdout",
     "output_type": "stream",
     "text": [
      "number of non zero elements is 0\n",
      "error with considered c is8.830000000000005\n"
     ]
    }
   ],
   "source": [
    "clf = LogisticRegression(C=0.0001, penalty='l1');\n",
    "clf.fit(X_traintfidf, y_train);\n",
    "w = clf.coef_\n",
    "print(\"number of non zero elements is {}\".format(np.count_nonzero(w)))\n",
    "predicted_labels = []\n",
    "for i in range(0,30000 , 1000):\n",
    "    predicted_labels.append(logistic_optimal.predict(X_testtfidf[i:i+1000]))\n",
    "pred_tfidf = np.hstack(predicted_labels)\n",
    "error_tfidf=1-accuracy_score(y_test,pred_tfidf)\n",
    "print(\"error with considered c is{}\".format(error_tfidf*100))"
   ]
  },
  {
   "cell_type": "code",
   "execution_count": 61,
   "metadata": {},
   "outputs": [
    {
     "name": "stdout",
     "output_type": "stream",
     "text": [
      "number of non zero elements is 6\n",
      "error with considered c is8.830000000000005\n"
     ]
    }
   ],
   "source": [
    "clf = LogisticRegression(C=0.01, penalty='l1');\n",
    "clf.fit(X_traintfidf, y_train);\n",
    "w = clf.coef_\n",
    "print(\"number of non zero elements is {}\".format(np.count_nonzero(w)))\n",
    "predicted_labels = []\n",
    "for i in range(0,30000 , 1000):\n",
    "    predicted_labels.append(logistic_optimal.predict(X_testtfidf[i:i+1000]))\n",
    "pred_tfidf = np.hstack(predicted_labels)\n",
    "error_tfidf=1-accuracy_score(y_test,pred_tfidf)\n",
    "print(\"error with considered c is{}\".format(error_tfidf*100))"
   ]
  },
  {
   "cell_type": "code",
   "execution_count": 62,
   "metadata": {},
   "outputs": [
    {
     "name": "stdout",
     "output_type": "stream",
     "text": [
      "number of non zero elements is 7738\n",
      "error with considered c is8.830000000000005\n"
     ]
    }
   ],
   "source": [
    "clf = LogisticRegression(C=10, penalty='l1');\n",
    "clf.fit(X_traintfidf, y_train);\n",
    "w = clf.coef_\n",
    "print(\"number of non zero elements is {}\".format(np.count_nonzero(w)))\n",
    "predicted_labels = []\n",
    "for i in range(0,30000 , 1000):\n",
    "    predicted_labels.append(logistic_optimal.predict(X_testtfidf[i:i+1000]))\n",
    "pred_tfidf = np.hstack(predicted_labels)\n",
    "error_tfidf=1-accuracy_score(y_test,pred_tfidf)\n",
    "print(\"error with considered c is{}\".format(error_tfidf*100))"
   ]
  },
  {
   "cell_type": "code",
   "execution_count": 63,
   "metadata": {},
   "outputs": [
    {
     "name": "stdout",
     "output_type": "stream",
     "text": [
      "number of non zero elements is 12812\n",
      "error with considered c is8.830000000000005\n"
     ]
    }
   ],
   "source": [
    "clf = LogisticRegression(C=100, penalty='l1');\n",
    "clf.fit(X_traintfidf, y_train);\n",
    "w = clf.coef_\n",
    "print(\"number of non zero elements is {}\".format(np.count_nonzero(w)))\n",
    "predicted_labels = []\n",
    "for i in range(0,30000 , 1000):\n",
    "    predicted_labels.append(logistic_optimal.predict(X_testtfidf[i:i+1000]))\n",
    "pred_tfidf = np.hstack(predicted_labels)\n",
    "error_tfidf=1-accuracy_score(y_test,pred_tfidf)\n",
    "print(\"error with considered c is{}\".format(error_tfidf*100))"
   ]
  },
  {
   "cell_type": "code",
   "execution_count": 64,
   "metadata": {},
   "outputs": [
    {
     "name": "stdout",
     "output_type": "stream",
     "text": [
      "number of non zero elements is 15174\n",
      "error with considered c is8.830000000000005\n"
     ]
    }
   ],
   "source": [
    "clf = LogisticRegression(C=1000, penalty='l1');\n",
    "clf.fit(X_traintfidf, y_train);\n",
    "w = clf.coef_\n",
    "print(\"number of non zero elements is {}\".format(np.count_nonzero(w)))\n",
    "predicted_labels = []\n",
    "for i in range(0,30000 , 1000):\n",
    "    predicted_labels.append(logistic_optimal.predict(X_testtfidf[i:i+1000]))\n",
    "pred_tfidf = np.hstack(predicted_labels)\n",
    "error_tfidf=1-accuracy_score(y_test,pred_tfidf)\n",
    "print(\"error with considered c is{}\".format(error_tfidf*100))"
   ]
  },
  {
   "cell_type": "markdown",
   "metadata": {},
   "source": [
    "##### Observation:\n",
    "      As C increases Sparsity Increases,and error remains constant"
   ]
  },
  {
   "cell_type": "markdown",
   "metadata": {},
   "source": [
    "#### Feature Importance"
   ]
  },
  {
   "cell_type": "code",
   "execution_count": 103,
   "metadata": {},
   "outputs": [
    {
     "data": {
      "text/plain": [
       "array([[ 0.00252494, -0.0129206 , -0.00673267, ..., -0.00277525,\n",
       "         0.00660597,  0.00010064]])"
      ]
     },
     "execution_count": 103,
     "metadata": {},
     "output_type": "execute_result"
    }
   ],
   "source": [
    "W = logistic_optimal.coef_\n",
    "W"
   ]
  },
  {
   "cell_type": "code",
   "execution_count": 104,
   "metadata": {},
   "outputs": [],
   "source": [
    "epsilon=np.random.normal(loc=0.0, scale=0.00000001)\n",
    "X_traintfidf.data = X_traintfidf.data + epsilon"
   ]
  },
  {
   "cell_type": "code",
   "execution_count": 105,
   "metadata": {},
   "outputs": [
    {
     "data": {
      "text/plain": [
       "31637"
      ]
     },
     "execution_count": 105,
     "metadata": {},
     "output_type": "execute_result"
    }
   ],
   "source": [
    "tfidf_features = tfidf.get_feature_names()\n",
    "len(tfidf_features)"
   ]
  },
  {
   "cell_type": "code",
   "execution_count": 106,
   "metadata": {},
   "outputs": [
    {
     "data": {
      "text/plain": [
       "LogisticRegression(C=5, class_weight=None, dual=False, fit_intercept=True,\n",
       "          intercept_scaling=1, max_iter=100, multi_class='ovr', n_jobs=1,\n",
       "          penalty='l2', random_state=None, solver='liblinear', tol=0.0001,\n",
       "          verbose=0, warm_start=False)"
      ]
     },
     "execution_count": 106,
     "metadata": {},
     "output_type": "execute_result"
    }
   ],
   "source": [
    "logistic_optimal.fit(X_traintfidf,y_train)"
   ]
  },
  {
   "cell_type": "code",
   "execution_count": 107,
   "metadata": {},
   "outputs": [
    {
     "data": {
      "text/plain": [
       "array([[ 0.00190069, -0.01283882, -0.00947135, ..., -0.00396797,\n",
       "         0.00659186,  0.00015672]])"
      ]
     },
     "execution_count": 107,
     "metadata": {},
     "output_type": "execute_result"
    }
   ],
   "source": [
    "W1 = logistic_optimal.coef_\n",
    "W1"
   ]
  },
  {
   "cell_type": "code",
   "execution_count": 108,
   "metadata": {},
   "outputs": [],
   "source": [
    "weights_diff = (abs(W - W1)/W) * 100"
   ]
  },
  {
   "cell_type": "code",
   "execution_count": 109,
   "metadata": {},
   "outputs": [
    {
     "name": "stdout",
     "output_type": "stream",
     "text": [
      "1387\n"
     ]
    }
   ],
   "source": [
    "print(weights_diff[np.where(weights_diff > 30)].size)"
   ]
  },
  {
   "cell_type": "code",
   "execution_count": 110,
   "metadata": {},
   "outputs": [
    {
     "data": {
      "text/plain": [
       "(1, 31637)"
      ]
     },
     "execution_count": 110,
     "metadata": {},
     "output_type": "execute_result"
    }
   ],
   "source": [
    "# To count feature for each class while fitting the model\n",
    "# Number of samples encountered for each (class, feature) during fitting\n",
    "\n",
    "feat_count = logistic_optimal.coef_\n",
    "feat_count.shape"
   ]
  },
  {
   "cell_type": "code",
   "execution_count": 111,
   "metadata": {},
   "outputs": [
    {
     "data": {
      "text/plain": [
       "array([[ 0.00190069, -0.01283882, -0.00947135, ..., -0.00396797,\n",
       "         0.00659186,  0.00015672]])"
      ]
     },
     "execution_count": 111,
     "metadata": {},
     "output_type": "execute_result"
    }
   ],
   "source": [
    "log_weight = logistic_optimal.coef_[:25]\n",
    "log_weight"
   ]
  },
  {
   "cell_type": "code",
   "execution_count": 112,
   "metadata": {},
   "outputs": [
    {
     "data": {
      "text/plain": [
       "(31637, 2)"
      ]
     },
     "execution_count": 112,
     "metadata": {},
     "output_type": "execute_result"
    }
   ],
   "source": [
    "coefs_feat =pd.DataFrame(sorted(zip(logistic_optimal.coef_[0], tfidf_features)))\n",
    "#feature = pd.DataFrame(log_prob, columns = bow_features)\n",
    "coefs_feat.shape"
   ]
  },
  {
   "cell_type": "code",
   "execution_count": 113,
   "metadata": {},
   "outputs": [
    {
     "name": "stdout",
     "output_type": "stream",
     "text": [
      "Top 10 Negative Features:-\n",
      "            0             1\n",
      "0  -0.928103        ridder\n",
      "1  -0.691079         blech\n",
      "2  -0.656800    disappoint\n",
      "3  -0.638443         worst\n",
      "4  -0.610003        higgin\n",
      "5  -0.558963         fauls\n",
      "6  -0.556661      nastiest\n",
      "7  -0.537723        rachel\n",
      "8  -0.523228       terribl\n",
      "9  -0.512943       fluorid\n",
      "10 -0.508157        maggot\n",
      "11 -0.503768       deposit\n",
      "12 -0.502716       offload\n",
      "13 -0.484960   meaningless\n",
      "14 -0.483106           rot\n",
      "15 -0.483058       spaniel\n",
      "16 -0.480154          tast\n",
      "17 -0.477541     ascertain\n",
      "18 -0.476700      prolifer\n",
      "19 -0.472125      nauseous\n",
      "20 -0.462346  sarsaparilla\n",
      "21 -0.460129        bloodi\n",
      "22 -0.457078      unaccept\n",
      "23 -0.454196         threw\n",
      "24 -0.421972          scam\n",
      "\n",
      "\n",
      " Top 10 Positive Features:-\n",
      "               0          1\n",
      "31636  1.884218  collector\n",
      "31635  1.847649      great\n",
      "31634  1.587038       love\n",
      "31633  1.490453     caviti\n",
      "31632  1.340035      hazel\n",
      "31631  1.275846       best\n",
      "31630  1.227458    perfect\n",
      "31629  1.215736     delici\n",
      "31628  1.211825     coliti\n",
      "31627  1.198363      guilt\n",
      "31626  1.141710   havahart\n",
      "31625  1.136144     oyster\n",
      "31624  1.066353     trepid\n",
      "31623  1.007679       good\n",
      "31622  1.001421      peski\n",
      "31621  0.910480       gerd\n",
      "31620  0.875664     awesom\n",
      "31619  0.872082       burk\n",
      "31618  0.840594     thrive\n",
      "31617  0.839048     tunnel\n",
      "31616  0.826062       amaz\n",
      "31615  0.820067   tastiest\n",
      "31614  0.803269    fantast\n",
      "31613  0.794379     magnet\n",
      "31612  0.790110      excel\n"
     ]
    }
   ],
   "source": [
    "# To show top 10 feature from both class\n",
    "# Feature Importance\n",
    "print(\"Top 10 Negative Features:-\\n\",coefs_feat[0:25])\n",
    "print(\"\\n\\n Top 10 Positive Features:-\\n\",coefs_feat[:-26:-1])"
   ]
  },
  {
   "cell_type": "code",
   "execution_count": 114,
   "metadata": {},
   "outputs": [],
   "source": [
    "neg_text=coefs_feat[1][0:50].tolist()\n",
    "pos_text=coefs_feat[1][:-51:-1].tolist()"
   ]
  },
  {
   "cell_type": "code",
   "execution_count": 115,
   "metadata": {},
   "outputs": [],
   "source": [
    "str1=\" \".join(neg_text)\n",
    "str2=\" \".join(pos_text)"
   ]
  },
  {
   "cell_type": "code",
   "execution_count": 116,
   "metadata": {},
   "outputs": [
    {
     "data": {
      "image/png": "[encoded data removed]",
      "text/plain": [
       "<Figure size 432x288 with 1 Axes>"
      ]
     },
     "metadata": {},
     "output_type": "display_data"
    }
   ],
   "source": [
    "#Sourcecode:https://www.datacamp.com/community/tutorials/wordcloud-python\n",
    "from PIL import Image\n",
    "from wordcloud import WordCloud, STOPWORDS, ImageColorGenerator\n",
    "\n",
    "# Create and generate a word cloud image:\n",
    "wordcloud = WordCloud(max_font_size=50, max_words=50, background_color=\"pink\").generate(str1)\n",
    "\n",
    "# Display the generated image:\n",
    "plt.imshow(wordcloud, interpolation='bilinear')\n",
    "plt.axis(\"off\")\n",
    "plt.show()"
   ]
  },
  {
   "cell_type": "code",
   "execution_count": 117,
   "metadata": {},
   "outputs": [
    {
     "data": {
      "image/png": "[encoded data removed]",
      "text/plain": [
       "<Figure size 432x288 with 1 Axes>"
      ]
     },
     "metadata": {},
     "output_type": "display_data"
    }
   ],
   "source": [
    "from PIL import Image\n",
    "from wordcloud import WordCloud, STOPWORDS, ImageColorGenerator\n",
    "\n",
    "# Create and generate a word cloud image:\n",
    "wordcloud = WordCloud(max_font_size=50, max_words=50, background_color=\"green\").generate(str2)\n",
    "\n",
    "# Display the generated image:\n",
    "plt.imshow(wordcloud, interpolation='bilinear')\n",
    "plt.axis(\"off\")\n",
    "plt.show()"
   ]
  },
  {
   "cell_type": "markdown",
   "metadata": {},
   "source": [
    "# Word TO Vec"
   ]
  },
  {
   "cell_type": "code",
   "execution_count": 12,
   "metadata": {},
   "outputs": [],
   "source": [
    "import re\n",
    "\n",
    "def cleanhtml(sentence): #function to clean the word of any html-tags\n",
    "    cleanr = re.compile('<.*?>')\n",
    "    cleantext = re.sub(cleanr, ' ', sentence)\n",
    "    return cleantext\n",
    "def cleanpunc(sentence): #function to clean the word of any punctuation or special characters\n",
    "    cleaned = re.sub(r'[?|!|\\'|\"|#]',r'',sentence)\n",
    "    cleaned = re.sub(r'[.|,|)|(|\\|/]',r' ',cleaned)\n",
    "    return  cleaned"
   ]
  },
  {
   "cell_type": "code",
   "execution_count": 13,
   "metadata": {},
   "outputs": [
    {
     "name": "stderr",
     "output_type": "stream",
     "text": [
      "C:\\Users\\Admin\\Anaconda3\\lib\\site-packages\\gensim\\utils.py:1212: UserWarning: detected Windows; aliasing chunkize to chunkize_serial\n",
      "  warnings.warn(\"detected Windows; aliasing chunkize to chunkize_serial\")\n"
     ]
    }
   ],
   "source": [
    "# Train your own Word2Vec model using your own train corpus\n",
    "import gensim\n",
    "list_of_sent = []\n",
    "for sent in X_train:\n",
    "    filtered_sentence = []\n",
    "    sent=cleanhtml(sent)\n",
    "    for w in sent.split():\n",
    "        for cleaned_words in cleanpunc(w).split():\n",
    "            if(cleaned_words.isalpha()):    \n",
    "                filtered_sentence.append(cleaned_words.lower())\n",
    "            else:\n",
    "                continue \n",
    "    list_of_sent.append(filtered_sentence)"
   ]
  },
  {
   "cell_type": "code",
   "execution_count": 14,
   "metadata": {},
   "outputs": [
    {
     "name": "stdout",
     "output_type": "stream",
     "text": [
      "witti littl book make son laugh loud recit car drive along alway sing refrain hes learn whale india droop love new word book introduc silli classic book will bet son still abl recit memori colleg\n",
      "*****************************************************************\n",
      "['hate', 'junk', 'food', 'need', 'snack', 'stori', 'life', 'wonder', 'tast', 'good', 'enough', 'children', 'like', 'healthi', 'keep', 'box', 'car', 'case', 'run', 'hous', 'without', 'breakfast', 'daughter', 'need', 'quick', 'snack', 'right', 'school']\n"
     ]
    }
   ],
   "source": [
    "print(df['CleanedText'].values[0])\n",
    "print(\"*****************************************************************\")\n",
    "print(list_of_sent[0])"
   ]
  },
  {
   "cell_type": "code",
   "execution_count": 15,
   "metadata": {
    "scrolled": true
   },
   "outputs": [],
   "source": [
    "# min_count = 5 considers only words that occured atleast 5 times\n",
    "\n",
    "from gensim.models import Word2Vec\n",
    "w2v_model=Word2Vec(list_of_sent,min_count=5,size=50, workers=4)"
   ]
  },
  {
   "cell_type": "code",
   "execution_count": 16,
   "metadata": {},
   "outputs": [
    {
     "name": "stdout",
     "output_type": "stream",
     "text": [
      "number of words that occured minimum 5 times  10722\n",
      "sample words  ['hate', 'junk', 'food', 'need', 'snack', 'stori', 'life', 'wonder', 'tast', 'good', 'enough', 'children', 'like', 'healthi', 'keep', 'box', 'car', 'case', 'run', 'hous', 'without', 'breakfast', 'daughter', 'quick', 'right', 'school', 'live', 'california', 'drawback', 'one', 'lack', 'flake', 'bar', 'know', 'sound', 'silli', 'assur', 'serious', 'issu', 'amazon', 'rescu', 'alway', 'look', 'someth', 'that', 'sometim', 'youd', 'get', 'flavor', 'eat']\n"
     ]
    }
   ],
   "source": [
    "w2v_words = list(w2v_model.wv.vocab)\n",
    "print(\"number of words that occured minimum 5 times \",len(w2v_words))\n",
    "print(\"sample words \", w2v_words[0:50])"
   ]
  },
  {
   "cell_type": "code",
   "execution_count": 17,
   "metadata": {},
   "outputs": [],
   "source": [
    "# Train your own Word2Vec model using your own test corpus\n",
    "import gensim\n",
    "list_of_sent_test = []\n",
    "for sent in X_test:\n",
    "    filtered_sentence1 = []\n",
    "    sent=cleanhtml(sent)\n",
    "    for w in sent.split():\n",
    "        for cleaned_words in cleanpunc(w).split():\n",
    "            if(cleaned_words.isalpha()):    \n",
    "                filtered_sentence1.append(cleaned_words.lower())\n",
    "            else:\n",
    "                continue \n",
    "    list_of_sent_test.append(filtered_sentence1)"
   ]
  },
  {
   "cell_type": "code",
   "execution_count": 18,
   "metadata": {},
   "outputs": [],
   "source": [
    "w2v_model=gensim.models.Word2Vec(list_of_sent_test, min_count=5, size=50, workers=4)"
   ]
  },
  {
   "cell_type": "markdown",
   "metadata": {},
   "source": [
    "# Avg W2V, TFIDF-W2V"
   ]
  },
  {
   "cell_type": "code",
   "execution_count": 52,
   "metadata": {},
   "outputs": [
    {
     "name": "stderr",
     "output_type": "stream",
     "text": [
      "100%|██████████████████████████████████| 70000/70000 [00:26<00:00, 2619.99it/s]\n"
     ]
    },
    {
     "name": "stdout",
     "output_type": "stream",
     "text": [
      "70000\n",
      "50\n"
     ]
    }
   ],
   "source": [
    "from tqdm import tqdm\n",
    "# average Word2Vec\n",
    "# compute average word2vec for each review.\n",
    "sent_vectors = []; # the avg-w2v for each sentence/review is stored in this list\n",
    "for sent in tqdm(list_of_sent): # for each review/sentence\n",
    "    sent_vec = np.zeros(50) # as word vectors are of zero length\n",
    "    cnt_words =0; # num of words with a valid vector in the sentence/review\n",
    "    for word in sent: # for each word in a review/sentence\n",
    "        try:\n",
    "            vec = w2v_model.wv[word]\n",
    "            sent_vec += vec\n",
    "            cnt_words += 1\n",
    "        except:\n",
    "            pass\n",
    "    sent_vec /= cnt_words\n",
    "    sent_vectors.append(sent_vec)\n",
    "print(len(sent_vectors))\n",
    "print(len(sent_vectors[0]))\n"
   ]
  },
  {
   "cell_type": "code",
   "execution_count": 53,
   "metadata": {},
   "outputs": [
    {
     "name": "stderr",
     "output_type": "stream",
     "text": [
      "100%|██████████████████████████████████| 30000/30000 [00:11<00:00, 2538.45it/s]\n"
     ]
    },
    {
     "name": "stdout",
     "output_type": "stream",
     "text": [
      "30000\n",
      "50\n"
     ]
    }
   ],
   "source": [
    "# average Word2Vec\n",
    "# compute average word2vec for each review.\n",
    "sent_vectors_test = []; # the avg-w2v for each sentence/review is stored in this list\n",
    "for sent in tqdm(list_of_sent_test): # for each review/sentence\n",
    "    sent_vec = np.zeros(50) # as word vectors are of zero length\n",
    "    cnt_words =0; # num of words with a valid vector in the sentence/review\n",
    "    for word in sent: # for each word in a review/sentence\n",
    "        try:\n",
    "            vec = w2v_model.wv[word]\n",
    "            sent_vec += vec\n",
    "            cnt_words += 1\n",
    "        except:\n",
    "            pass\n",
    "    sent_vec /= cnt_words\n",
    "    sent_vectors_test.append(sent_vec)\n",
    "print(len(sent_vectors_test))\n",
    "print(len(sent_vectors_test[0]))\n"
   ]
  },
  {
   "cell_type": "code",
   "execution_count": 60,
   "metadata": {},
   "outputs": [],
   "source": [
    "X_trainw2v = np.array(sent_vectors)\n",
    "X_testw2v=np.array(sent_vectors_test)\n",
    "X_trainw2v=np.nan_to_num(X_trainw2v)\n",
    "X_testw2v=np.nan_to_num(X_testw2v)"
   ]
  },
  {
   "cell_type": "code",
   "execution_count": 61,
   "metadata": {},
   "outputs": [
    {
     "data": {
      "text/plain": [
       "(70000, 50)"
      ]
     },
     "execution_count": 61,
     "metadata": {},
     "output_type": "execute_result"
    }
   ],
   "source": [
    "X_trainw2v.shape"
   ]
  },
  {
   "cell_type": "code",
   "execution_count": 62,
   "metadata": {},
   "outputs": [],
   "source": [
    "X_trainw2v = StandardScaler(with_mean = False).fit_transform(X_trainw2v)\n",
    "X_testw2v = StandardScaler(with_mean = False).fit_transform(X_testw2v)"
   ]
  },
  {
   "cell_type": "markdown",
   "metadata": {},
   "source": [
    "##### Logistic Regression usin GridSearch CV "
   ]
  },
  {
   "cell_type": "code",
   "execution_count": 96,
   "metadata": {},
   "outputs": [
    {
     "name": "stdout",
     "output_type": "stream",
     "text": [
      "LogisticRegression(C=50, class_weight=None, dual=False, fit_intercept=True,\n",
      "          intercept_scaling=1, max_iter=100, multi_class='ovr', n_jobs=1,\n",
      "          penalty='l2', random_state=None, solver='liblinear', tol=0.0001,\n",
      "          verbose=0, warm_start=False)\n"
     ]
    }
   ],
   "source": [
    "model.fit(X_trainw2v,y_train)\n",
    "print(model.best_estimator_)"
   ]
  },
  {
   "cell_type": "markdown",
   "metadata": {},
   "source": [
    "#####  AccuracyScore with Best C"
   ]
  },
  {
   "cell_type": "code",
   "execution_count": 63,
   "metadata": {},
   "outputs": [
    {
     "name": "stdout",
     "output_type": "stream",
     "text": [
      "\n",
      "The accuracy of the knn classifier for k is 87.890000%\n",
      "accuracy on train data is 88.7%\n",
      "error on train data is 11.299999999999997%\n",
      "error on test data is 12.11%\n"
     ]
    }
   ],
   "source": [
    "\n",
    "logistic_optimal = LogisticRegression(C=50,penalty='l2')\n",
    "\n",
    "# fitting the model\n",
    "logistic_optimal.fit(X_trainw2v, y_train)\n",
    "X_testw2v=np.nan_to_num(X_testw2v)\n",
    "# predict the response\n",
    "\n",
    "predicted_labels = []\n",
    "for i in range(0,30000 , 1000):\n",
    "    predicted_labels.append(logistic_optimal.predict(X_testw2v[i:i+1000]))\n",
    "\n",
    "pred_w2v = np.hstack(predicted_labels)\n",
    "#pred_bow= knn_optimal.predict(X_testbow)\n",
    "# evaluate accuracy\n",
    "acc_w2v = accuracy_score(y_test, pred_w2v) * 100\n",
    "print('\\nThe accuracy of the knn classifier for k is %f%%' %(acc_w2v))\n",
    "for i in range(0,70000 , 1000):\n",
    "    acc_train_w2v = logistic_optimal.score(X_trainw2v[i:i+1000],y_train[i:i+1000])*100\n",
    "print(\"accuracy on train data is {}%\".format(acc_train_w2v))\n",
    "error_train_w2v = (100-acc_train_w2v)\n",
    "print(\"error on train data is {}%\".format(error_train_w2v))\n",
    "error_test_w2v = (100-acc_w2v)\n",
    "print(\"error on test data is {}%\".format(error_test_w2v))"
   ]
  },
  {
   "cell_type": "markdown",
   "metadata": {},
   "source": [
    "##### Logistic Regression usin RandomSearch CV "
   ]
  },
  {
   "cell_type": "code",
   "execution_count": 44,
   "metadata": {},
   "outputs": [
    {
     "data": {
      "text/plain": [
       "RandomizedSearchCV(cv=5, error_score='raise',\n",
       "          estimator=LogisticRegression(C=1.0, class_weight=None, dual=False, fit_intercept=True,\n",
       "          intercept_scaling=1, max_iter=100, multi_class='ovr', n_jobs=1,\n",
       "          penalty='l2', random_state=None, solver='liblinear', tol=0.0001,\n",
       "          verbose=0, warm_start=False),\n",
       "          fit_params={}, iid=True, n_iter=100, n_jobs=1,\n",
       "          param_distributions={'C': <scipy.stats._distn_infrastructure.rv_frozen object at 0x00000000436FDEF0>, 'penalty': ['l1', 'l2']},\n",
       "          pre_dispatch='2*n_jobs', random_state=None, refit=True,\n",
       "          scoring=make_scorer(f1_score, pos_label=negative), verbose=0)"
      ]
     },
     "execution_count": 44,
     "metadata": {},
     "output_type": "execute_result"
    }
   ],
   "source": [
    "model_random.fit(X_trainw2v,y_train)"
   ]
  },
  {
   "cell_type": "markdown",
   "metadata": {},
   "source": [
    "#####  AccuracyScore with Best C"
   ]
  },
  {
   "cell_type": "code",
   "execution_count": 46,
   "metadata": {},
   "outputs": [
    {
     "name": "stdout",
     "output_type": "stream",
     "text": [
      "\n",
      "The accuracy of the knn classifier for k is 87.980000%\n",
      "accuracy on train data is 89.1%\n",
      "error on train data is 10.900000000000006%\n",
      "error on test data is 12.019999999999996%\n"
     ]
    }
   ],
   "source": [
    "\n",
    "logistic_optimal = LogisticRegression(C=1,penalty='l2')\n",
    "\n",
    "# fitting the model\n",
    "logistic_optimal.fit(X_trainw2v, y_train)\n",
    "X_testw2v=np.nan_to_num(X_testw2v)\n",
    "# predict the response\n",
    "\n",
    "predicted_labels = []\n",
    "for i in range(0,30000 , 1000):\n",
    "    predicted_labels.append(logistic_optimal.predict(X_testw2v[i:i+1000]))\n",
    "\n",
    "pred_w2v = np.hstack(predicted_labels)\n",
    "#pred_bow= knn_optimal.predict(X_testbow)\n",
    "# evaluate accuracy\n",
    "acc_w2v = accuracy_score(y_test, pred_w2v) * 100\n",
    "print('\\nThe accuracy of the knn classifier for k is %f%%' %(acc_w2v))\n",
    "for i in range(0,70000 , 1000):\n",
    "    acc_train_w2v = logistic_optimal.score(X_trainw2v[i:i+1000],y_train[i:i+1000])*100\n",
    "print(\"accuracy on train data is {}%\".format(acc_train_w2v))\n",
    "error_train_w2v = (100-acc_train_w2v)\n",
    "print(\"error on train data is {}%\".format(error_train_w2v))\n",
    "error_test_w2v = (100-acc_w2v)\n",
    "print(\"error on test data is {}%\".format(error_test_w2v))"
   ]
  },
  {
   "cell_type": "markdown",
   "metadata": {},
   "source": [
    "#### Confusion Matrix"
   ]
  },
  {
   "cell_type": "code",
   "execution_count": 47,
   "metadata": {},
   "outputs": [
    {
     "data": {
      "text/plain": [
       "array([[ 2569,  2579],\n",
       "       [ 1027, 23825]], dtype=int64)"
      ]
     },
     "execution_count": 47,
     "metadata": {},
     "output_type": "execute_result"
    }
   ],
   "source": [
    "from sklearn.metrics import confusion_matrix\n",
    "confusion_matrix(y_test, pred_w2v)"
   ]
  },
  {
   "cell_type": "code",
   "execution_count": 48,
   "metadata": {},
   "outputs": [
    {
     "data": {
      "text/plain": [
       "<matplotlib.axes._subplots.AxesSubplot at 0x476a77b8>"
      ]
     },
     "execution_count": 48,
     "metadata": {},
     "output_type": "execute_result"
    },
    {
     "data": {
      "image/png": "[encoded data removed]",
      "text/plain": [
       "<Figure size 432x288 with 2 Axes>"
      ]
     },
     "metadata": {},
     "output_type": "display_data"
    }
   ],
   "source": [
    "import seaborn as sns\n",
    "def plot_confusion_matrix(targets, predictions,title='Confusion matrix', cmap=\"Blues\"):\n",
    "    \"\"\"Plot Confusion Matrix.\"\"\"\n",
    "    cm = confusion_matrix(targets, predictions)\n",
    "   # cm = 100 * cm.astype('float') / cm.sum(axis=1)[:, np.newaxis]\n",
    " \n",
    "    df = pd.DataFrame(data=cm)\n",
    "    g = sns.heatmap(df, annot=True, fmt=\".1f\", linewidths=.5,cmap=cmap)\n",
    "    g.set_title(title)\n",
    "    g.set_ylabel('True label')\n",
    "    g.set_xlabel('Predicted label')\n",
    "    return g\n",
    "plot_confusion_matrix(y_test, pred_w2v)"
   ]
  },
  {
   "cell_type": "markdown",
   "metadata": {},
   "source": [
    "#### Classification Report "
   ]
  },
  {
   "cell_type": "code",
   "execution_count": 49,
   "metadata": {},
   "outputs": [
    {
     "name": "stdout",
     "output_type": "stream",
     "text": [
      "             precision    recall  f1-score   support\n",
      "\n",
      "   negative       0.71      0.50      0.59      5148\n",
      "   positive       0.90      0.96      0.93     24852\n",
      "\n",
      "avg / total       0.87      0.88      0.87     30000\n",
      "\n"
     ]
    }
   ],
   "source": [
    "from sklearn.metrics import classification_report\n",
    "print(classification_report(y_test, pred_w2v))"
   ]
  },
  {
   "cell_type": "markdown",
   "metadata": {},
   "source": [
    "##### Observing Sparsity and error with Variation in  C with L1 Reguralization"
   ]
  },
  {
   "cell_type": "code",
   "execution_count": 53,
   "metadata": {},
   "outputs": [
    {
     "name": "stdout",
     "output_type": "stream",
     "text": [
      "number of non zero elements is 4\n",
      "error with considered c is12.026666666666664\n"
     ]
    }
   ],
   "source": [
    "clf = LogisticRegression(C=0.0001, penalty='l1');\n",
    "clf.fit(X_trainw2v, y_train);\n",
    "w = clf.coef_\n",
    "print(\"number of non zero elements is {}\".format(np.count_nonzero(w)))\n",
    "predicted_labels = []\n",
    "for i in range(0,30000 , 1000):\n",
    "    predicted_labels.append(logistic_optimal.predict(X_testw2v[i:i+1000]))\n",
    "pred_w2v = np.hstack(predicted_labels)\n",
    "error_w2v=1-accuracy_score(y_test,pred_w2v)\n",
    "print(\"error with considered c is{}\".format(error_w2v*100))"
   ]
  },
  {
   "cell_type": "code",
   "execution_count": 54,
   "metadata": {},
   "outputs": [
    {
     "name": "stdout",
     "output_type": "stream",
     "text": [
      "number of non zero elements is 46\n",
      "error with considered c is12.026666666666664\n"
     ]
    }
   ],
   "source": [
    "clf = LogisticRegression(C=0.01, penalty='l1');\n",
    "clf.fit(X_trainw2v, y_train);\n",
    "w = clf.coef_\n",
    "print(\"number of non zero elements is {}\".format(np.count_nonzero(w)))\n",
    "predicted_labels = []\n",
    "for i in range(0,30000 , 1000):\n",
    "    predicted_labels.append(logistic_optimal.predict(X_testw2v[i:i+1000]))\n",
    "pred_w2v = np.hstack(predicted_labels)\n",
    "error_w2v=1-accuracy_score(y_test,pred_w2v)\n",
    "print(\"error with considered c is{}\".format(error_w2v*100))"
   ]
  },
  {
   "cell_type": "code",
   "execution_count": 55,
   "metadata": {},
   "outputs": [
    {
     "name": "stdout",
     "output_type": "stream",
     "text": [
      "number of non zero elements is 50\n",
      "error with considered c is12.026666666666664\n"
     ]
    }
   ],
   "source": [
    "clf = LogisticRegression(C=10, penalty='l1');\n",
    "clf.fit(X_trainw2v, y_train);\n",
    "w = clf.coef_\n",
    "print(\"number of non zero elements is {}\".format(np.count_nonzero(w)))\n",
    "predicted_labels = []\n",
    "for i in range(0,30000 , 1000):\n",
    "    predicted_labels.append(logistic_optimal.predict(X_testw2v[i:i+1000]))\n",
    "pred_w2v = np.hstack(predicted_labels)\n",
    "error_w2v=1-accuracy_score(y_test,pred_w2v)\n",
    "print(\"error with considered c is{}\".format(error_w2v*100))"
   ]
  },
  {
   "cell_type": "code",
   "execution_count": 56,
   "metadata": {},
   "outputs": [
    {
     "name": "stdout",
     "output_type": "stream",
     "text": [
      "number of non zero elements is 50\n",
      "error with considered c is12.026666666666664\n"
     ]
    }
   ],
   "source": [
    "clf = LogisticRegression(C=100, penalty='l1');\n",
    "clf.fit(X_trainw2v, y_train);\n",
    "w = clf.coef_\n",
    "print(\"number of non zero elements is {}\".format(np.count_nonzero(w)))\n",
    "predicted_labels = []\n",
    "for i in range(0,30000 , 1000):\n",
    "    predicted_labels.append(logistic_optimal.predict(X_testw2v[i:i+1000]))\n",
    "pred_w2v = np.hstack(predicted_labels)\n",
    "error_w2v=1-accuracy_score(y_test,pred_w2v)\n",
    "print(\"error with considered c is{}\".format(error_w2v*100))"
   ]
  },
  {
   "cell_type": "code",
   "execution_count": 57,
   "metadata": {},
   "outputs": [
    {
     "name": "stdout",
     "output_type": "stream",
     "text": [
      "number of non zero elements is 50\n",
      "error with considered c is12.026666666666664\n"
     ]
    }
   ],
   "source": [
    "clf = LogisticRegression(C=1000, penalty='l1');\n",
    "clf.fit(X_trainw2v, y_train);\n",
    "w = clf.coef_\n",
    "print(\"number of non zero elements is {}\".format(np.count_nonzero(w)))\n",
    "predicted_labels = []\n",
    "for i in range(0,30000 , 1000):\n",
    "    predicted_labels.append(logistic_optimal.predict(X_testw2v[i:i+1000]))\n",
    "pred_w2v = np.hstack(predicted_labels)\n",
    "error_w2v=1-accuracy_score(y_test,pred_w2v)\n",
    "print(\"error with considered c is{}\".format(error_w2v*100))"
   ]
  },
  {
   "cell_type": "markdown",
   "metadata": {},
   "source": [
    "##### Observation:\n",
    "      As C increases Sparsity Increases,and error remains constant"
   ]
  },
  {
   "cell_type": "markdown",
   "metadata": {},
   "source": [
    "#### Feature Importance"
   ]
  },
  {
   "cell_type": "code",
   "execution_count": 72,
   "metadata": {},
   "outputs": [
    {
     "data": {
      "text/plain": [
       "array([[-0.06771146, -0.09941234,  0.35773035,  0.20579285,  0.14481853,\n",
       "         0.54441686,  0.59574529, -0.33653803,  0.22673692, -0.08772986,\n",
       "        -0.11855361, -0.10099276, -0.06602735, -0.17922599, -0.069445  ,\n",
       "         0.19732253, -0.22180996, -0.24296693,  0.53620418,  0.40204373,\n",
       "        -0.24564318,  0.00615912, -0.64919357, -1.08565011, -0.60377191,\n",
       "        -0.12467971,  0.22971051, -0.10664254,  0.62521595, -0.02056749,\n",
       "        -0.08295365,  0.13082139, -0.25751081, -0.15310661,  0.03051704,\n",
       "         0.10269255, -0.54321582,  0.10877575, -0.21298834,  0.23011012,\n",
       "         0.86333828,  0.22920714,  0.48162131,  0.05921252,  0.04135274,\n",
       "        -0.09154579, -0.18533407, -0.00627418,  0.24117636, -0.04522534]])"
      ]
     },
     "execution_count": 72,
     "metadata": {},
     "output_type": "execute_result"
    }
   ],
   "source": [
    "W = logistic_optimal.coef_\n",
    "W"
   ]
  },
  {
   "cell_type": "code",
   "execution_count": 73,
   "metadata": {},
   "outputs": [],
   "source": [
    "\n",
    "X_trainw2v_t = X_trainw2v\n",
    "#Random noise\n",
    "epsilon = np.random.uniform(low=-0.01, high=0.01, size=(X_trainw2v_t[0].size)) \n",
    "#Introducing random noise to non-zero datapoints\n",
    "X_trainw2v_t.data = epsilon + X_trainw2v_t.data"
   ]
  },
  {
   "cell_type": "code",
   "execution_count": 74,
   "metadata": {},
   "outputs": [
    {
     "data": {
      "text/plain": [
       "LogisticRegression(C=50, class_weight=None, dual=False, fit_intercept=True,\n",
       "          intercept_scaling=1, max_iter=100, multi_class='ovr', n_jobs=1,\n",
       "          penalty='l2', random_state=None, solver='liblinear', tol=0.0001,\n",
       "          verbose=0, warm_start=False)"
      ]
     },
     "execution_count": 74,
     "metadata": {},
     "output_type": "execute_result"
    }
   ],
   "source": [
    "logistic_optimal.fit(X_trainw2v_t,y_train)"
   ]
  },
  {
   "cell_type": "code",
   "execution_count": 75,
   "metadata": {},
   "outputs": [
    {
     "data": {
      "text/plain": [
       "array([[-0.06787585, -0.09961273,  0.35720064,  0.20578602,  0.1454733 ,\n",
       "         0.54451759,  0.59508615, -0.33711765,  0.22709587, -0.08785405,\n",
       "        -0.11722975, -0.10081888, -0.06625175, -0.17927366, -0.06940623,\n",
       "         0.19754684, -0.22231138, -0.24306177,  0.53699848,  0.40155781,\n",
       "        -0.24602828,  0.00607195, -0.64841184, -1.08586481, -0.60427415,\n",
       "        -0.12414289,  0.22985111, -0.10664662,  0.62463802, -0.02118795,\n",
       "        -0.0823991 ,  0.13109697, -0.25691811, -0.15334841,  0.03124232,\n",
       "         0.10264753, -0.54301734,  0.10808121, -0.21236513,  0.23053376,\n",
       "         0.86248518,  0.2289062 ,  0.48185442,  0.05973942,  0.04080134,\n",
       "        -0.09170732, -0.18529765, -0.00648717,  0.24149927, -0.045066  ]])"
      ]
     },
     "execution_count": 75,
     "metadata": {},
     "output_type": "execute_result"
    }
   ],
   "source": [
    "W1 = logistic_optimal.coef_\n",
    "W1"
   ]
  },
  {
   "cell_type": "code",
   "execution_count": 76,
   "metadata": {},
   "outputs": [],
   "source": [
    "weights_diff = (abs(W - W1)/W) * 100"
   ]
  },
  {
   "cell_type": "code",
   "execution_count": 77,
   "metadata": {},
   "outputs": [
    {
     "name": "stdout",
     "output_type": "stream",
     "text": [
      "0\n"
     ]
    }
   ],
   "source": [
    "print(weights_diff[np.where(weights_diff > 30)].size)"
   ]
  },
  {
   "cell_type": "markdown",
   "metadata": {},
   "source": [
    "Hence the feature are not multicolinear"
   ]
  },
  {
   "cell_type": "markdown",
   "metadata": {},
   "source": [
    "## TF-IDF weighted Word2Vec"
   ]
  },
  {
   "cell_type": "code",
   "execution_count": 19,
   "metadata": {},
   "outputs": [],
   "source": [
    "model = TfidfVectorizer()\n",
    "tf_idf_matrix = model.fit_transform(df['CleanedText'].values)\n",
    "# we are converting a dictionary with word as a key, and the idf as a value\n",
    "dictionary = dict(zip(model.get_feature_names(), list(model.idf_)))"
   ]
  },
  {
   "cell_type": "code",
   "execution_count": 22,
   "metadata": {},
   "outputs": [
    {
     "name": "stderr",
     "output_type": "stream",
     "text": [
      "100%|███████████████████████████████████| 70000/70000 [03:14<00:00, 359.27it/s]\n"
     ]
    }
   ],
   "source": [
    "from tqdm import tqdm\n",
    "# TF-IDF weighted Word2Vec\n",
    "#dictionary = dict(zip(tfidf.get_feature_names(), list(tfidf.idf_)))\n",
    "tfidf_feat = tfidf.get_feature_names() # tfidf words/col-names\n",
    "# final_tf_idf is the sparse matrix with row= sentence, col=word and cell_val = tfidf\n",
    "\n",
    "tfidf_sent_vectors = []; # the tfidf-w2v for each sentence/review is stored in this list\n",
    "row=0;\n",
    "for sent in tqdm(list_of_sent): # for each review/sentence \n",
    "    sent_vec = np.zeros(50) # as word vectors are of zero length\n",
    "    weight_sum =0; # num of words with a valid vector in the sentence/review\n",
    "    for word in sent: # for each word in a review/sentence\n",
    "        try:\n",
    "            if word in w2v_words:\n",
    "                vec = w2v_model.wv[word]\n",
    "#             tf_idf = tf_idf_matrix[row, tfidf_feat.index(word)]\n",
    "            # to reduce the computation we are \n",
    "            # dictionary[word] = idf value of word in whole courpus\n",
    "            # sent.count(word) = tf valeus of word in this review\n",
    "                tf_idf = dictionary[word]*sent.count(word)\n",
    "                sent_vec += (vec * tf_idf)\n",
    "                weight_sum += tf_idf\n",
    "        except:\n",
    "            pass\n",
    "    if weight_sum != 0:\n",
    "        sent_vec /= weight_sum\n",
    "    tfidf_sent_vectors.append(sent_vec)\n",
    "    row += 1"
   ]
  },
  {
   "cell_type": "code",
   "execution_count": 23,
   "metadata": {},
   "outputs": [
    {
     "name": "stderr",
     "output_type": "stream",
     "text": [
      "100%|███████████████████████████████████| 30000/30000 [01:29<00:00, 336.76it/s]\n"
     ]
    }
   ],
   "source": [
    "# TF-IDF weighted Word2Vec\n",
    "#dictionary = dict(zip(tfidf.get_feature_names(), list(tfidf.idf_)))\n",
    "tfidf_feat = tfidf.get_feature_names() # tfidf words/col-names\n",
    "# final_tf_idf is the sparse matrix with row= sentence, col=word and cell_val = tfidf\n",
    "\n",
    "tfidf_sent_vectors_test = []; # the tfidf-w2v for each sentence/review is stored in this list\n",
    "row=0;\n",
    "for sent in tqdm(list_of_sent_test): # for each review/sentence \n",
    "    sent_vec = np.zeros(50) # as word vectors are of zero length\n",
    "    weight_sum =0; # num of words with a valid vector in the sentence/review\n",
    "    for word in sent: # for each word in a review/sentence\n",
    "        try:\n",
    "            if word in w2v_words:\n",
    "                vec = w2v_model.wv[word]\n",
    "#             tf_idf = tf_idf_matrix[row, tfidf_feat.index(word)]\n",
    "            # to reduce the computation we are \n",
    "            # dictionary[word] = idf value of word in whole courpus\n",
    "            # sent.count(word) = tf valeus of word in this review\n",
    "                tf_idf = dictionary[word]*sent.count(word)\n",
    "                sent_vec += (vec * tf_idf)\n",
    "                weight_sum += tf_idf\n",
    "        except:\n",
    "            pass\n",
    "    if weight_sum != 0:\n",
    "        sent_vec /= weight_sum\n",
    "    tfidf_sent_vectors_test.append(sent_vec)\n",
    "    row += 1"
   ]
  },
  {
   "cell_type": "code",
   "execution_count": 24,
   "metadata": {},
   "outputs": [],
   "source": [
    "\n",
    "X_trainw2vtfidf=np.array(tfidf_sent_vectors)\n",
    "X_testw2vtfidf=np.array(tfidf_sent_vectors_test)"
   ]
  },
  {
   "cell_type": "code",
   "execution_count": 25,
   "metadata": {},
   "outputs": [
    {
     "data": {
      "text/plain": [
       "(70000, 50)"
      ]
     },
     "execution_count": 25,
     "metadata": {},
     "output_type": "execute_result"
    }
   ],
   "source": [
    "X_trainw2vtfidf.shape\n"
   ]
  },
  {
   "cell_type": "code",
   "execution_count": 29,
   "metadata": {},
   "outputs": [],
   "source": [
    "X_trainw2vtfidf = StandardScaler(with_mean = False).fit_transform(X_trainw2vtfidf)\n",
    "X_testw2vtfidf = StandardScaler(with_mean = False).fit_transform(X_testw2vtfidf)"
   ]
  },
  {
   "cell_type": "code",
   "execution_count": 133,
   "metadata": {},
   "outputs": [],
   "source": [
    "X_trainw2vtfidf=np.nan_to_num(X_trainw2vtfidf)"
   ]
  },
  {
   "cell_type": "markdown",
   "metadata": {},
   "source": [
    "##### Logistic Regression usin GridSearch CV "
   ]
  },
  {
   "cell_type": "code",
   "execution_count": 96,
   "metadata": {},
   "outputs": [
    {
     "name": "stdout",
     "output_type": "stream",
     "text": [
      "LogisticRegression(C=50, class_weight=None, dual=False, fit_intercept=True,\n",
      "          intercept_scaling=1, max_iter=100, multi_class='ovr', n_jobs=1,\n",
      "          penalty='l2', random_state=None, solver='liblinear', tol=0.0001,\n",
      "          verbose=0, warm_start=False)\n"
     ]
    }
   ],
   "source": [
    "model.fit(X_trainw2vtfidf,y_train)\n",
    "print(model.best_estimator_)"
   ]
  },
  {
   "cell_type": "markdown",
   "metadata": {},
   "source": [
    "#####  AccuracyScore with best C"
   ]
  },
  {
   "cell_type": "code",
   "execution_count": 72,
   "metadata": {},
   "outputs": [
    {
     "name": "stdout",
     "output_type": "stream",
     "text": [
      "\n",
      "The accuracy of the  classifier for k is 87.216667%\n",
      "accuracy on train data is 87.5%\n",
      "error on train data is 12.5%\n",
      "error on test data is 12.783333333333331%\n"
     ]
    }
   ],
   "source": [
    "\n",
    "logistic_optimal = LogisticRegression(C=50,penalty='l2')\n",
    "\n",
    "# fitting the model\n",
    "logistic_optimal.fit(X_trainw2vtfidf, y_train)\n",
    "# predict the response\n",
    "\n",
    "predicted_labels = []\n",
    "for i in range(0,30000 , 1000):\n",
    "    predicted_labels.append(logistic_optimal.predict(X_testw2vtfidf[i:i+1000]))\n",
    "\n",
    "pred_w2vtfidf = np.hstack(predicted_labels)\n",
    "#pred_bow= knn_optimal.predict(X_testbow)\n",
    "# evaluate accuracy\n",
    "acc_w2v = accuracy_score(y_test, pred_w2vtfidf) * 100\n",
    "print('\\nThe accuracy of the  classifier for k is %f%%' %(acc_w2v))\n",
    "for i in range(0,70000 , 1000):\n",
    "    acc_train_w2v = logistic_optimal.score(X_trainw2vtfidf[i:i+1000],y_train[i:i+1000])*100\n",
    "print(\"accuracy on train data is {}%\".format(acc_train_w2v))\n",
    "error_train_w2v = (100-acc_train_w2v)\n",
    "print(\"error on train data is {}%\".format(error_train_w2v))\n",
    "error_test_w2v = (100-acc_w2v)\n",
    "print(\"error on test data is {}%\".format(error_test_w2v))"
   ]
  },
  {
   "cell_type": "markdown",
   "metadata": {},
   "source": [
    "#### Confusion Matrix"
   ]
  },
  {
   "cell_type": "code",
   "execution_count": 36,
   "metadata": {},
   "outputs": [
    {
     "data": {
      "text/plain": [
       "array([[ 1358,  3032],\n",
       "       [  804, 24806]], dtype=int64)"
      ]
     },
     "execution_count": 36,
     "metadata": {},
     "output_type": "execute_result"
    }
   ],
   "source": [
    "from sklearn.metrics import confusion_matrix\n",
    "confusion_matrix(y_test, pred_w2vtfidf)"
   ]
  },
  {
   "cell_type": "code",
   "execution_count": 37,
   "metadata": {},
   "outputs": [
    {
     "data": {
      "text/plain": [
       "<matplotlib.axes._subplots.AxesSubplot at 0x3d1b6320>"
      ]
     },
     "execution_count": 37,
     "metadata": {},
     "output_type": "execute_result"
    },
    {
     "data": {
      "image/png": "[encoded data removed]",
      "text/plain": [
       "<Figure size 432x288 with 2 Axes>"
      ]
     },
     "metadata": {},
     "output_type": "display_data"
    }
   ],
   "source": [
    "import seaborn as sns\n",
    "def plot_confusion_matrix(targets, predictions,title='Confusion matrix'):\n",
    "    \"\"\"Plot Confusion Matrix.\"\"\"\n",
    "    cm = confusion_matrix(targets, predictions)\n",
    "   # cm = 100 * cm.astype('float') / cm.sum(axis=1)[:, np.newaxis]\n",
    " \n",
    "    df = pd.DataFrame(data=cm)\n",
    "    g = sns.heatmap(df, annot=True, fmt=\".1f\", linewidths=.5)\n",
    "    g.set_title(title)\n",
    "    g.set_ylabel('True label')\n",
    "    g.set_xlabel('Predicted label')\n",
    "    return g\n",
    "plot_confusion_matrix(y_test, pred_w2vtfidf)"
   ]
  },
  {
   "cell_type": "markdown",
   "metadata": {},
   "source": [
    "#### Classification Report"
   ]
  },
  {
   "cell_type": "code",
   "execution_count": 38,
   "metadata": {
    "scrolled": true
   },
   "outputs": [
    {
     "name": "stdout",
     "output_type": "stream",
     "text": [
      "             precision    recall  f1-score   support\n",
      "\n",
      "   negative       0.63      0.31      0.41      4390\n",
      "   positive       0.89      0.97      0.93     25610\n",
      "\n",
      "avg / total       0.85      0.87      0.85     30000\n",
      "\n"
     ]
    }
   ],
   "source": [
    "from sklearn.metrics import classification_report\n",
    "print(classification_report(y_test, pred_w2vtfidf))"
   ]
  },
  {
   "cell_type": "markdown",
   "metadata": {},
   "source": [
    "##### Logistic Regression usin RandomSearchCV "
   ]
  },
  {
   "cell_type": "code",
   "execution_count": 110,
   "metadata": {},
   "outputs": [
    {
     "name": "stdout",
     "output_type": "stream",
     "text": [
      "LogisticRegression(C=3.335990152517682, class_weight=None, dual=False,\n",
      "          fit_intercept=True, intercept_scaling=1, max_iter=100,\n",
      "          multi_class='ovr', n_jobs=1, penalty='l1', random_state=None,\n",
      "          solver='liblinear', tol=0.0001, verbose=0, warm_start=False)\n"
     ]
    }
   ],
   "source": [
    "model_random.fit(X_trainw2vtfidf,y_train)\n",
    "print(model_random.best_estimator_)"
   ]
  },
  {
   "cell_type": "markdown",
   "metadata": {},
   "source": [
    "#####  AccuracyScore with best C"
   ]
  },
  {
   "cell_type": "code",
   "execution_count": 35,
   "metadata": {},
   "outputs": [
    {
     "name": "stdout",
     "output_type": "stream",
     "text": [
      "\n",
      "The accuracy of the  classifier for k is 87.213333%\n",
      "accuracy on train data is 87.6%\n",
      "error on train data is 12.400000000000006%\n",
      "error on test data is 12.786666666666662%\n"
     ]
    }
   ],
   "source": [
    "\n",
    "logistic_optimal = LogisticRegression(C=3.336,penalty='l2')\n",
    "\n",
    "# fitting the model\n",
    "logistic_optimal.fit(X_trainw2vtfidf, y_train)\n",
    "X_testw2vtfidf=np.nan_to_num(X_testw2vtfidf)\n",
    "# predict the response\n",
    "\n",
    "predicted_labels = []\n",
    "for i in range(0,30000 , 1000):\n",
    "    predicted_labels.append(logistic_optimal.predict(X_testw2vtfidf[i:i+1000]))\n",
    "\n",
    "pred_w2vtfidf = np.hstack(predicted_labels)\n",
    "#pred_bow= knn_optimal.predict(X_testbow)\n",
    "# evaluate accuracy\n",
    "acc_w2vtfidf = accuracy_score(y_test, pred_w2vtfidf) * 100\n",
    "print('\\nThe accuracy of the  classifier for k is %f%%' %(acc_w2vtfidf))\n",
    "for i in range(0,70000 , 1000):\n",
    "    acc_train_w2vtfidf = logistic_optimal.score(X_trainw2vtfidf[i:i+1000],y_train[i:i+1000])*100\n",
    "print(\"accuracy on train data is {}%\".format(acc_train_w2vtfidf))\n",
    "error_train_w2vtfidf = (100-acc_train_w2vtfidf)\n",
    "print(\"error on train data is {}%\".format(error_train_w2vtfidf))\n",
    "error_test_w2vtfidf = (100-acc_w2vtfidf)\n",
    "print(\"error on test data is {}%\".format(error_test_w2vtfidf))"
   ]
  },
  {
   "cell_type": "markdown",
   "metadata": {},
   "source": [
    "#### Confusion Matrix"
   ]
  },
  {
   "cell_type": "code",
   "execution_count": 73,
   "metadata": {},
   "outputs": [
    {
     "data": {
      "text/plain": [
       "array([[ 1352,  3038],\n",
       "       [  797, 24813]], dtype=int64)"
      ]
     },
     "execution_count": 73,
     "metadata": {},
     "output_type": "execute_result"
    }
   ],
   "source": [
    "from sklearn.metrics import confusion_matrix\n",
    "confusion_matrix(y_test, pred_w2vtfidf)"
   ]
  },
  {
   "cell_type": "markdown",
   "metadata": {},
   "source": [
    "#### Classification Report"
   ]
  },
  {
   "cell_type": "code",
   "execution_count": 74,
   "metadata": {
    "scrolled": true
   },
   "outputs": [
    {
     "name": "stdout",
     "output_type": "stream",
     "text": [
      "             precision    recall  f1-score   support\n",
      "\n",
      "   negative       0.63      0.31      0.41      4390\n",
      "   positive       0.89      0.97      0.93     25610\n",
      "\n",
      "avg / total       0.85      0.87      0.85     30000\n",
      "\n"
     ]
    }
   ],
   "source": [
    "from sklearn.metrics import classification_report\n",
    "print(classification_report(y_test, pred_w2vtfidf))"
   ]
  },
  {
   "cell_type": "markdown",
   "metadata": {},
   "source": [
    "##### Observing Sparsity and error with Variation in  C with L1 Reguralization"
   ]
  },
  {
   "cell_type": "code",
   "execution_count": 75,
   "metadata": {},
   "outputs": [
    {
     "name": "stdout",
     "output_type": "stream",
     "text": [
      "number of non zero elements is 21\n",
      "error with considered c is12.783333333333335\n"
     ]
    }
   ],
   "source": [
    "clf = LogisticRegression(C=0.001, penalty='l1');\n",
    "clf.fit(X_trainw2vtfidf, y_train);\n",
    "w = clf.coef_\n",
    "print(\"number of non zero elements is {}\".format(np.count_nonzero(w)))\n",
    "predicted_labels = []\n",
    "for i in range(0,30000 , 1000):\n",
    "    predicted_labels.append(logistic_optimal.predict(X_testw2vtfidf[i:i+1000]))\n",
    "pred_w2vtfidf = np.hstack(predicted_labels)\n",
    "error_w2vtfidf=1-accuracy_score(y_test,pred_w2vtfidf)\n",
    "print(\"error with considered c is{}\".format(error_w2vtfidf*100))"
   ]
  },
  {
   "cell_type": "code",
   "execution_count": 40,
   "metadata": {},
   "outputs": [
    {
     "name": "stdout",
     "output_type": "stream",
     "text": [
      "number of non zero elements is 41\n",
      "error with considered c is12.786666666666669\n"
     ]
    }
   ],
   "source": [
    "clf = LogisticRegression(C=0.01, penalty='l1');\n",
    "clf.fit(X_trainw2vtfidf, y_train);\n",
    "w = clf.coef_\n",
    "print(\"number of non zero elements is {}\".format(np.count_nonzero(w)))\n",
    "predicted_labels = []\n",
    "for i in range(0,30000 , 1000):\n",
    "    predicted_labels.append(logistic_optimal.predict(X_testw2vtfidf[i:i+1000]))\n",
    "pred_w2vtfidf = np.hstack(predicted_labels)\n",
    "error_w2vtfidf=1-accuracy_score(y_test,pred_w2vtfidf)\n",
    "print(\"error with considered c is{}\".format(error_w2vtfidf*100))"
   ]
  },
  {
   "cell_type": "code",
   "execution_count": 41,
   "metadata": {},
   "outputs": [
    {
     "name": "stdout",
     "output_type": "stream",
     "text": [
      "number of non zero elements is 50\n",
      "error with considered c is12.786666666666669\n"
     ]
    }
   ],
   "source": [
    "clf = LogisticRegression(C=10, penalty='l1');\n",
    "clf.fit(X_trainw2vtfidf, y_train);\n",
    "w = clf.coef_\n",
    "print(\"number of non zero elements is {}\".format(np.count_nonzero(w)))\n",
    "predicted_labels = []\n",
    "for i in range(0,30000 , 1000):\n",
    "    predicted_labels.append(logistic_optimal.predict(X_testw2vtfidf[i:i+1000]))\n",
    "pred_w2vtfidf = np.hstack(predicted_labels)\n",
    "error_w2vtfidf=1-accuracy_score(y_test,pred_w2vtfidf)\n",
    "print(\"error with considered c is{}\".format(error_w2vtfidf*100))"
   ]
  },
  {
   "cell_type": "code",
   "execution_count": 42,
   "metadata": {},
   "outputs": [
    {
     "name": "stdout",
     "output_type": "stream",
     "text": [
      "number of non zero elements is 50\n",
      "error with considered c is12.786666666666669\n"
     ]
    }
   ],
   "source": [
    "clf = LogisticRegression(C=1000, penalty='l1');\n",
    "clf.fit(X_trainw2vtfidf, y_train);\n",
    "w = clf.coef_\n",
    "print(\"number of non zero elements is {}\".format(np.count_nonzero(w)))\n",
    "predicted_labels = []\n",
    "for i in range(0,30000 , 1000):\n",
    "    predicted_labels.append(logistic_optimal.predict(X_testw2vtfidf[i:i+1000]))\n",
    "pred_w2vtfidf = np.hstack(predicted_labels)\n",
    "error_w2vtfidf=1-accuracy_score(y_test,pred_w2vtfidf)\n",
    "print(\"error with considered c is{}\".format(error_w2vtfidf*100))"
   ]
  },
  {
   "cell_type": "markdown",
   "metadata": {},
   "source": [
    "##### Observation:\n",
    "      As C increases Sparsity Increases,and error remains constant"
   ]
  },
  {
   "cell_type": "markdown",
   "metadata": {},
   "source": [
    "#### Feature Importance"
   ]
  },
  {
   "cell_type": "code",
   "execution_count": 76,
   "metadata": {},
   "outputs": [
    {
     "data": {
      "text/plain": [
       "array([[-0.25558396,  0.57494661,  0.00711789, -0.65785604, -0.27931792,\n",
       "        -0.4097427 ,  0.32329917, -0.1859115 , -0.65883312,  0.02444393,\n",
       "        -0.0502134 , -0.29511938,  0.0875272 , -0.50513724, -0.60109172,\n",
       "         0.18786946,  0.25684579,  0.30908055, -0.21204647,  0.50998597,\n",
       "        -0.50136819, -0.4357827 ,  0.0115215 ,  0.25135067, -0.17490819,\n",
       "         0.19357911,  0.01582643, -0.10204661,  1.11068417,  0.14857146,\n",
       "        -0.18229406, -0.20346703, -0.09361862, -0.3891112 , -1.00196329,\n",
       "         0.65532744,  0.00122048, -0.06075404,  0.29491883,  0.09957108,\n",
       "         0.19458459,  0.67269351,  0.16777464,  0.55995976,  0.56584894,\n",
       "        -0.5982602 , -0.52510415,  0.08397951,  0.14569792, -0.39194503]])"
      ]
     },
     "execution_count": 76,
     "metadata": {},
     "output_type": "execute_result"
    }
   ],
   "source": [
    "W = logistic_optimal.coef_\n",
    "W"
   ]
  },
  {
   "cell_type": "code",
   "execution_count": 77,
   "metadata": {},
   "outputs": [],
   "source": [
    "X_trainw2vtfidf_n=X_trainw2vtfidf\n",
    "epsilon = np.random.uniform(low=-0.01, high=0.01, size=(X_trainw2vtfidf_n[0].size)) \n",
    "X_trainw2vtfidf_n.data = X_trainw2vtfidf_n.data + epsilon"
   ]
  },
  {
   "cell_type": "code",
   "execution_count": 78,
   "metadata": {},
   "outputs": [
    {
     "data": {
      "text/plain": [
       "LogisticRegression(C=50, class_weight=None, dual=False, fit_intercept=True,\n",
       "          intercept_scaling=1, max_iter=100, multi_class='ovr', n_jobs=1,\n",
       "          penalty='l2', random_state=None, solver='liblinear', tol=0.0001,\n",
       "          verbose=0, warm_start=False)"
      ]
     },
     "execution_count": 78,
     "metadata": {},
     "output_type": "execute_result"
    }
   ],
   "source": [
    "logistic_optimal.fit(X_trainw2vtfidf_n,y_train)"
   ]
  },
  {
   "cell_type": "code",
   "execution_count": 79,
   "metadata": {},
   "outputs": [
    {
     "data": {
      "text/plain": [
       "array([[-0.25571705,  0.57485853,  0.00698782, -0.65774865, -0.27954607,\n",
       "        -0.40966756,  0.3233472 , -0.18591435, -0.65871299,  0.02479745,\n",
       "        -0.05014565, -0.29513754,  0.08740053, -0.50516648, -0.60106341,\n",
       "         0.18747232,  0.25662303,  0.30923353, -0.21206165,  0.5098912 ,\n",
       "        -0.50109985, -0.43547861,  0.01149002,  0.2513981 , -0.17485171,\n",
       "         0.19361119,  0.01586069, -0.10209383,  1.11045339,  0.14858093,\n",
       "        -0.18228764, -0.20338854, -0.09378907, -0.38924594, -1.00212112,\n",
       "         0.65538366,  0.00118149, -0.06088345,  0.29509745,  0.09962729,\n",
       "         0.19431118,  0.67252163,  0.1679162 ,  0.56024699,  0.5657848 ,\n",
       "        -0.59833909, -0.52493114,  0.08413078,  0.14568158, -0.39192756]])"
      ]
     },
     "execution_count": 79,
     "metadata": {},
     "output_type": "execute_result"
    }
   ],
   "source": [
    "W1 = logistic_optimal.coef_\n",
    "W1"
   ]
  },
  {
   "cell_type": "code",
   "execution_count": 80,
   "metadata": {},
   "outputs": [],
   "source": [
    "weights_diff = (abs(W - W1)/W) * 100"
   ]
  },
  {
   "cell_type": "code",
   "execution_count": 84,
   "metadata": {},
   "outputs": [
    {
     "name": "stdout",
     "output_type": "stream",
     "text": [
      "0\n"
     ]
    }
   ],
   "source": [
    "print(weights_diff[np.where(weights_diff > 30)].size)"
   ]
  },
  {
   "cell_type": "markdown",
   "metadata": {},
   "source": [
    "Hence the features are not Multicolinear"
   ]
  },
  {
   "cell_type": "markdown",
   "metadata": {},
   "source": [
    "## Conclusion\n",
    "1)AVG W2V Featurization performs best with accuracy of 93.704 and F1-Score of 0.808\n",
    "2)Sparsity increases as we increase lambda or decrease C when L1 Regularizer is used\n",
    "3)Logistic Regression performed best on this data"
   ]
  },
  {
   "cell_type": "markdown",
   "metadata": {},
   "source": [
    "## Performance Table"
   ]
  },
  {
   "cell_type": "code",
   "execution_count": 6,
   "metadata": {},
   "outputs": [
    {
     "name": "stdout",
     "output_type": "stream",
     "text": [
      "+---------------+--------------+-------+---------+----------+----------+\n",
      "| Featurization |      CV      |   C   | Penalty | Accuracy | F1 Score |\n",
      "+---------------+--------------+-------+---------+----------+----------+\n",
      "|      BOW      |  GridSearch  |   1   |    L2   |  86.82   |   0.87   |\n",
      "|      BOW      | RandomSearch |   1   |    L2   |  86.82   |   0.87   |\n",
      "|     TFIDF     |  GridSearch  |   5   |    L2   |  86.82   |   0.86   |\n",
      "|     TFIDF     | RandomSearch |   5   |    L2   |  86.82   |   0.86   |\n",
      "|    AVG W2V    |  GridSearch  |   50  |    L2   |  87.98   |   0.87   |\n",
      "|    AVG W2V    | RandomSearch |   1   |    L2   |  87.89   |   0.86   |\n",
      "|   TFIDF W2V   |  GridSearch  |   50  |    L2   |  87.21   |   0.85   |\n",
      "|   TFIDF W2V   | RandomSearch | 3.336 |    L2   |  87.21   |   0.85   |\n",
      "+---------------+--------------+-------+---------+----------+----------+\n"
     ]
    }
   ],
   "source": [
    "x = PrettyTable()\n",
    "\n",
    "x.field_names = [\"Featurization\", \"CV\",\"C\", \"Penalty\",\"Accuracy\",\"F1 Score\"]\n",
    "\n",
    "x.add_row([\"BOW\",\"GridSearch\", 1,\"L2\" ,86.82,0.87])\n",
    "x.add_row([\"BOW\",\"RandomSearch\",1,\"L2\",86.82,0.87])\n",
    "x.add_row([\"TFIDF\",\"GridSearch\", 5,\"L2\" ,86.82,0.86])\n",
    "x.add_row([\"TFIDF\",\"RandomSearch\",5,\"L2\",86.82,0.86])\n",
    "x.add_row([\"AVG W2V\",\"GridSearch\", 50,\"L2\" ,87.98,0.87])\n",
    "x.add_row([\"AVG W2V\",\"RandomSearch\",1,\"L2\",87.89,0.86])\n",
    "x.add_row([\"TFIDF W2V\",\"GridSearch\", 50,\"L2\" ,87.21,0.85])\n",
    "x.add_row([\"TFIDF W2V\",\"RandomSearch\",3.336,\"L2\",87.21,0.85])\n",
    "\n",
    "print(x)\n"
   ]
  },
  {
   "cell_type": "markdown",
   "metadata": {},
   "source": [
    "\n"
   ]
  }
 ],
 "metadata": {
  "kernelspec": {
   "display_name": "Python 3",
   "language": "python",
   "name": "python3"
  },
  "language_info": {
   "codemirror_mode": {
    "name": "ipython",
    "version": 3
   },
   "file_extension": ".py",
   "mimetype": "text/x-python",
   "name": "python",
   "nbconvert_exporter": "python",
   "pygments_lexer": "ipython3",
   "version": "3.6.5"
  }
 },
 "nbformat": 4,
 "nbformat_minor": 2
}
