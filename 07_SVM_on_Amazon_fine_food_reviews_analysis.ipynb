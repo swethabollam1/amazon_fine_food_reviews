{
 "cells": [
  {
   "cell_type": "markdown",
   "metadata": {
    "colab_type": "text",
    "id": "GwQBoYZED-f-"
   },
   "source": [
    "# RBF SVM on Amazon Fine Food Reviews Analysis\n",
    "\n",
    "\n",
    "The Amazon Fine Food Reviews dataset consists of reviews of fine foods from Amazon.<br>\n",
    "\n",
    "Number of reviews: 568,454<br>\n",
    "Number of users: 256,059<br>\n",
    "Number of products: 74,258<br>\n",
    "Timespan: Oct 1999 - Oct 2012<br>\n",
    "Number of Attributes/Columns in data: 10 \n",
    "\n",
    "Attribute Information:\n",
    "\n",
    "1. Id\n",
    "2. ProductId - unique identifier for the product\n",
    "3. UserId - unqiue identifier for the user\n",
    "4. ProfileName\n",
    "5. HelpfulnessNumerator - number of users who found the review helpful\n",
    "6. HelpfulnessDenominator - number of users who indicated whether they found the review helpful or not\n",
    "7. Score - rating between 1 and 5\n",
    "8. Time - timestamp for the review\n",
    "9. Summary - brief summary of the review\n",
    "10. Text - text of the review\n",
    "\n",
    "\n",
    "#### Objective:\n",
    "Given a review, determine whether the review is positive (Rating of 4 or 5) or negative (rating of 1 or 2).\n",
    "\n",
    "<br>\n",
    "[Q] How to determine if a review is positive or negative?<br>\n",
    "<br> \n",
    "[Ans] We could use the Score/Rating. A rating of 4 or 5 could be cosnidered a positive review. A review of 1 or 2 could be considered negative. A review of 3 is nuetral and ignored. This is an approximate and proxy way of determining the polarity (positivity/negativity) of a review.\n",
    "\n",
    "\n"
   ]
  },
  {
   "cell_type": "code",
   "execution_count": 1,
   "metadata": {
    "colab": {
     "base_uri": "https://localhost:8080/",
     "height": 104
    },
    "colab_type": "code",
    "id": "HC362ZGOD-gA",
    "outputId": "2961913c-80f1-4c59-e798-25e65e78f33e"
   },
   "outputs": [
    {
     "name": "stderr",
     "output_type": "stream",
     "text": [
      "F:\\Users\\Admin\\Anaconda3\\lib\\site-packages\\sklearn\\cross_validation.py:41: DeprecationWarning: This module was deprecated in version 0.18 in favor of the model_selection module into which all the refactored classes and functions are moved. Also note that the interface of the new CV iterators are different from that of this module. This module will be removed in 0.20.\n",
      "  \"This module will be removed in 0.20.\", DeprecationWarning)\n",
      "F:\\Users\\Admin\\Anaconda3\\lib\\site-packages\\sklearn\\grid_search.py:42: DeprecationWarning: This module was deprecated in version 0.18 in favor of the model_selection module into which all the refactored classes and functions are moved. This module will be removed in 0.20.\n",
      "  DeprecationWarning)\n"
     ]
    }
   ],
   "source": [
    "%matplotlib inline\n",
    "import warnings\n",
    "warnings.filterwarnings(\"ignore\")\n",
    "\n",
    "import sqlite3\n",
    "import pandas as pd\n",
    "import numpy as np\n",
    "import nltk\n",
    "import string\n",
    "import matplotlib.pyplot as plt\n",
    "import seaborn as sns\n",
    "from sklearn.feature_extraction.text import TfidfTransformer\n",
    "from sklearn.feature_extraction.text import TfidfVectorizer\n",
    "from sklearn.preprocessing import StandardScaler\n",
    "from sklearn.decomposition import TruncatedSVD \n",
    "from scipy.sparse import csr_matrix\n",
    "\n",
    "from sklearn.feature_extraction.text import CountVectorizer\n",
    "from sklearn.metrics import confusion_matrix\n",
    "from sklearn import metrics\n",
    "from sklearn.metrics import roc_curve, auc\n",
    "from nltk.stem.porter import PorterStemmer\n",
    "\n",
    "from sklearn.cross_validation import train_test_split\n",
    "from sklearn.svm import SVC\n",
    "from sklearn.grid_search import GridSearchCV\n",
    "from sklearn.grid_search import RandomizedSearchCV\n",
    "from sklearn.metrics import accuracy_score\n",
    "\n",
    "\n",
    "from sklearn.cross_validation import cross_val_score\n",
    "from collections import Counter\n",
    "from sklearn.metrics import accuracy_score\n",
    "from sklearn import cross_validation\n",
    "from sklearn import datasets, neighbors\n",
    "from prettytable import PrettyTable"
   ]
  },
  {
   "cell_type": "code",
   "execution_count": 8,
   "metadata": {
    "colab": {
     "base_uri": "https://localhost:8080/",
     "height": 73,
     "resources": {
      "http://localhost:8080/nbextensions/google.colab/files.js": {
       "data": "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",
       "headers": [
        [
         "content-type",
         "application/javascript"
        ]
       ],
       "ok": true,
       "status": 200,
       "status_text": ""
      }
     }
    },
    "colab_type": "code",
    "id": "1IgfhUb0EQWk",
    "outputId": "2421b0c8-fcde-4523-a671-49080bac7c81"
   },
   "outputs": [
    {
     "data": {
      "text/html": [
       "\n",
       "     <input type=\"file\" id=\"files-17d25c15-0b26-4168-afe3-182fe1d861ed\" name=\"files[]\" multiple disabled />\n",
       "     <output id=\"result-17d25c15-0b26-4168-afe3-182fe1d861ed\">\n",
       "      Upload widget is only available when the cell has been executed in the\n",
       "      current browser session. Please rerun this cell to enable.\n",
       "      </output>\n",
       "      <script src=\"/nbextensions/google.colab/files.js\"></script> "
      ],
      "text/plain": [
       "<IPython.core.display.HTML object>"
      ]
     },
     "metadata": {
      "tags": []
     },
     "output_type": "display_data"
    },
    {
     "name": "stdout",
     "output_type": "stream",
     "text": [
      "Saving final.sqlite to final.sqlite\n"
     ]
    }
   ],
   "source": [
    "from google.colab import files\n",
    "uploaded = files.upload()\n",
    "#drive.mount('/contents/drive')"
   ]
  },
  {
   "cell_type": "markdown",
   "metadata": {
    "colab_type": "text",
    "id": "wl-my2rQD-gF"
   },
   "source": [
    "#### Reading back the preprocessed data saved in final.sqlite"
   ]
  },
  {
   "cell_type": "code",
   "execution_count": 2,
   "metadata": {
    "colab": {
     "base_uri": "https://localhost:8080/",
     "height": 753
    },
    "colab_type": "code",
    "id": "XtCcuW8ID-gH",
    "outputId": "faaaa5cc-682c-49b6-febe-f7ed008132bd"
   },
   "outputs": [
    {
     "data": {
      "text/html": [
       "<div>\n",
       "<style scoped>\n",
       "    .dataframe tbody tr th:only-of-type {\n",
       "        vertical-align: middle;\n",
       "    }\n",
       "\n",
       "    .dataframe tbody tr th {\n",
       "        vertical-align: top;\n",
       "    }\n",
       "\n",
       "    .dataframe thead th {\n",
       "        text-align: right;\n",
       "    }\n",
       "</style>\n",
       "<table border=\"1\" class=\"dataframe\">\n",
       "  <thead>\n",
       "    <tr style=\"text-align: right;\">\n",
       "      <th></th>\n",
       "      <th>index</th>\n",
       "      <th>Id</th>\n",
       "      <th>ProductId</th>\n",
       "      <th>UserId</th>\n",
       "      <th>ProfileName</th>\n",
       "      <th>HelpfulnessNumerator</th>\n",
       "      <th>HelpfulnessDenominator</th>\n",
       "      <th>Score</th>\n",
       "      <th>Time</th>\n",
       "      <th>Summary</th>\n",
       "      <th>Text</th>\n",
       "      <th>CleanedText</th>\n",
       "    </tr>\n",
       "  </thead>\n",
       "  <tbody>\n",
       "    <tr>\n",
       "      <th>0</th>\n",
       "      <td>138706</td>\n",
       "      <td>150524</td>\n",
       "      <td>0006641040</td>\n",
       "      <td>ACITT7DI6IDDL</td>\n",
       "      <td>shari zychinski</td>\n",
       "      <td>0</td>\n",
       "      <td>0</td>\n",
       "      <td>positive</td>\n",
       "      <td>939340800</td>\n",
       "      <td>EVERY book is educational</td>\n",
       "      <td>this witty little book makes my son laugh at l...</td>\n",
       "      <td>witti littl book make son laugh loud recit car...</td>\n",
       "    </tr>\n",
       "    <tr>\n",
       "      <th>1</th>\n",
       "      <td>138688</td>\n",
       "      <td>150506</td>\n",
       "      <td>0006641040</td>\n",
       "      <td>A2IW4PEEKO2R0U</td>\n",
       "      <td>Tracy</td>\n",
       "      <td>1</td>\n",
       "      <td>1</td>\n",
       "      <td>positive</td>\n",
       "      <td>1194739200</td>\n",
       "      <td>Love the book, miss the hard cover version</td>\n",
       "      <td>I grew up reading these Sendak books, and watc...</td>\n",
       "      <td>grew read sendak book watch realli rosi movi i...</td>\n",
       "    </tr>\n",
       "    <tr>\n",
       "      <th>2</th>\n",
       "      <td>138689</td>\n",
       "      <td>150507</td>\n",
       "      <td>0006641040</td>\n",
       "      <td>A1S4A3IQ2MU7V4</td>\n",
       "      <td>sally sue \"sally sue\"</td>\n",
       "      <td>1</td>\n",
       "      <td>1</td>\n",
       "      <td>positive</td>\n",
       "      <td>1191456000</td>\n",
       "      <td>chicken soup with rice months</td>\n",
       "      <td>This is a fun way for children to learn their ...</td>\n",
       "      <td>fun way children learn month year learn poem t...</td>\n",
       "    </tr>\n",
       "    <tr>\n",
       "      <th>3</th>\n",
       "      <td>138690</td>\n",
       "      <td>150508</td>\n",
       "      <td>0006641040</td>\n",
       "      <td>AZGXZ2UUK6X</td>\n",
       "      <td>Catherine Hallberg \"(Kate)\"</td>\n",
       "      <td>1</td>\n",
       "      <td>1</td>\n",
       "      <td>positive</td>\n",
       "      <td>1076025600</td>\n",
       "      <td>a good swingy rhythm for reading aloud</td>\n",
       "      <td>This is a great little book to read aloud- it ...</td>\n",
       "      <td>great littl book read nice rhythm well good re...</td>\n",
       "    </tr>\n",
       "    <tr>\n",
       "      <th>4</th>\n",
       "      <td>138691</td>\n",
       "      <td>150509</td>\n",
       "      <td>0006641040</td>\n",
       "      <td>A3CMRKGE0P909G</td>\n",
       "      <td>Teresa</td>\n",
       "      <td>3</td>\n",
       "      <td>4</td>\n",
       "      <td>positive</td>\n",
       "      <td>1018396800</td>\n",
       "      <td>A great way to learn the months</td>\n",
       "      <td>This is a book of poetry about the months of t...</td>\n",
       "      <td>book poetri month year goe month cute littl po...</td>\n",
       "    </tr>\n",
       "  </tbody>\n",
       "</table>\n",
       "</div>"
      ],
      "text/plain": [
       "    index      Id   ProductId          UserId                  ProfileName  \\\n",
       "0  138706  150524  0006641040   ACITT7DI6IDDL              shari zychinski   \n",
       "1  138688  150506  0006641040  A2IW4PEEKO2R0U                        Tracy   \n",
       "2  138689  150507  0006641040  A1S4A3IQ2MU7V4        sally sue \"sally sue\"   \n",
       "3  138690  150508  0006641040     AZGXZ2UUK6X  Catherine Hallberg \"(Kate)\"   \n",
       "4  138691  150509  0006641040  A3CMRKGE0P909G                       Teresa   \n",
       "\n",
       "   HelpfulnessNumerator  HelpfulnessDenominator     Score        Time  \\\n",
       "0                     0                       0  positive   939340800   \n",
       "1                     1                       1  positive  1194739200   \n",
       "2                     1                       1  positive  1191456000   \n",
       "3                     1                       1  positive  1076025600   \n",
       "4                     3                       4  positive  1018396800   \n",
       "\n",
       "                                      Summary  \\\n",
       "0                   EVERY book is educational   \n",
       "1  Love the book, miss the hard cover version   \n",
       "2               chicken soup with rice months   \n",
       "3      a good swingy rhythm for reading aloud   \n",
       "4             A great way to learn the months   \n",
       "\n",
       "                                                Text  \\\n",
       "0  this witty little book makes my son laugh at l...   \n",
       "1  I grew up reading these Sendak books, and watc...   \n",
       "2  This is a fun way for children to learn their ...   \n",
       "3  This is a great little book to read aloud- it ...   \n",
       "4  This is a book of poetry about the months of t...   \n",
       "\n",
       "                                         CleanedText  \n",
       "0  witti littl book make son laugh loud recit car...  \n",
       "1  grew read sendak book watch realli rosi movi i...  \n",
       "2  fun way children learn month year learn poem t...  \n",
       "3  great littl book read nice rhythm well good re...  \n",
       "4  book poetri month year goe month cute littl po...  "
      ]
     },
     "execution_count": 2,
     "metadata": {},
     "output_type": "execute_result"
    }
   ],
   "source": [
    "\n",
    "#Using sqlite3 to retrieve data from sqlite file\n",
    "\n",
    "con = sqlite3.connect(\"final.sqlite\")#Loading Cleaned/ Preprocesed text that we did in Text Preprocessing\n",
    "\n",
    "#Using pandas functions to query from sql table\n",
    "df = pd.read_sql_query(\"\"\"\n",
    "SELECT * FROM Reviews \n",
    "\"\"\",con)\n",
    "\n",
    "#Reviews is the name of the table given\n",
    "#Taking only the data where score != 3 as score 3 will be neutral and it won't help us much\n",
    "df.head()"
   ]
  },
  {
   "cell_type": "code",
   "execution_count": 14,
   "metadata": {
    "colab": {},
    "colab_type": "code",
    "id": "OceLROISD-gP"
   },
   "outputs": [],
   "source": [
    "df.sort_values('Time', axis=0, ascending=False, inplace=True, kind='quicksort', na_position='last')"
   ]
  },
  {
   "cell_type": "code",
   "execution_count": 15,
   "metadata": {
    "colab": {},
    "colab_type": "code",
    "id": "ualaasjmD-gV"
   },
   "outputs": [],
   "source": [
    "df_data=df[ 0:60000]"
   ]
  },
  {
   "cell_type": "code",
   "execution_count": 16,
   "metadata": {
    "colab": {},
    "colab_type": "code",
    "id": "Zb93PJyPD-gZ"
   },
   "outputs": [],
   "source": [
    "X = df_data['CleanedText']\n",
    "y = df_data['Score']"
   ]
  },
  {
   "cell_type": "code",
   "execution_count": 17,
   "metadata": {
    "colab": {
     "base_uri": "https://localhost:8080/",
     "height": 34
    },
    "colab_type": "code",
    "id": "DAfSDcSbD-gc",
    "outputId": "06f109a8-8cfa-4d3b-8ad0-f91ede399b0f",
    "scrolled": true
   },
   "outputs": [
    {
     "name": "stdout",
     "output_type": "stream",
     "text": [
      "(42000,) (42000,) (18000,) (18000,)\n"
     ]
    }
   ],
   "source": [
    "# split the data set into crossvalidation train and test\n",
    "X_train, X_test, y_train, y_test = cross_validation.train_test_split(X, y, test_size=0.3, random_state=0)\n",
    "print(X_train.shape, y_train.shape, X_test.shape, y_test.shape)"
   ]
  },
  {
   "cell_type": "markdown",
   "metadata": {
    "colab_type": "text",
    "id": "M4_urWVyD-gj"
   },
   "source": [
    "### Hyperparameter tuning using GridSearchCV"
   ]
  },
  {
   "cell_type": "code",
   "execution_count": 7,
   "metadata": {
    "colab": {},
    "colab_type": "code",
    "id": "6Wes3cpjD-gj"
   },
   "outputs": [],
   "source": [
    "from sklearn.metrics import make_scorer\n",
    "from sklearn.metrics import f1_score\n",
    "tuned_parameters = [{'C': [1000,500,100,50,10,5,1,0.5,0.1,0.05,0.01,0.005,0.001,0.0005,0.0001],\n",
    "                     'gamma': [1000,500,100,50,10,5,1,0.5,0.1,0.05,0.01,0.005,0.001,0.0005,0.0001]}]\n",
    "f1_scorer = make_scorer(f1_score, pos_label=\"positive\")\n",
    "model_rbf = GridSearchCV(SVC(), tuned_parameters, scoring = f1_scorer, cv=3)"
   ]
  },
  {
   "cell_type": "markdown",
   "metadata": {
    "colab_type": "text",
    "id": "AfNC0aCPD-go"
   },
   "source": [
    "### Hyperparameter tuning using RandomSearchCV"
   ]
  },
  {
   "cell_type": "code",
   "execution_count": 8,
   "metadata": {
    "colab": {},
    "colab_type": "code",
    "id": "V88clO6WD-gq"
   },
   "outputs": [],
   "source": [
    "\n",
    "from scipy.stats import uniform\n",
    "#Create regularization hyperparameter distribution using uniform distribution\n",
    "C1 = uniform(loc=0, scale=4)\n",
    "gamma=[1000,500,100,50,10,5,1,0.5,0.1,0.05,0.01,0.005,0.001,0.0005,0.0001] \n",
    "hyperparameters = dict(C=C1,gamma=gamma )\n",
    "#hyperparameters = [{'C': [1000,500,100,50,10,5,1,0.5,0.1,0.05,0.01,0.005,0.001,0.0005,0.0001],\n",
    " #                         'gamma': [1000,500,100,50,10,5,1,0.5,0.1,0.05,0.01,0.005,0.001,0.0005,0.0001]}]\n",
    "model_randomrbf = RandomizedSearchCV(SVC(),hyperparameters,scoring = f1_scorer, cv=3,n_iter=15)"
   ]
  },
  {
   "cell_type": "code",
   "execution_count": null,
   "metadata": {},
   "outputs": [],
   "source": []
  },
  {
   "cell_type": "code",
   "execution_count": 9,
   "metadata": {},
   "outputs": [],
   "source": [
    "from sklearn.linear_model import SGDClassifier\n",
    "\n",
    "Alpha = [1000,500,100,50,10,5,1,0.5,0.1,0.05,0.01,0.005,0.001,0.0005,0.0001]\n",
    "tuned_param = {'alpha': Alpha}\n",
    "model_linear = GridSearchCV(SGDClassifier(), tuned_param, scoring = f1_scorer, cv=3)"
   ]
  },
  {
   "cell_type": "code",
   "execution_count": 10,
   "metadata": {},
   "outputs": [],
   "source": [
    "C1 = uniform(loc=0, scale=4)\n",
    "hyperparameters = dict(alpha=C1)\n",
    "model_randomlinear = RandomizedSearchCV(SGDClassifier(),hyperparameters,scoring = f1_scorer, cv=3,n_iter=15)"
   ]
  },
  {
   "cell_type": "markdown",
   "metadata": {
    "colab_type": "text",
    "id": "krcGIup3D-gt"
   },
   "source": [
    "# Bag of Words (BoW)"
   ]
  },
  {
   "cell_type": "code",
   "execution_count": 11,
   "metadata": {
    "colab": {},
    "colab_type": "code",
    "id": "ZC9iAMK7D-gu"
   },
   "outputs": [
    {
     "name": "stdout",
     "output_type": "stream",
     "text": [
      "(42000, 24689)\n",
      "(18000, 24689)\n"
     ]
    }
   ],
   "source": [
    "from sklearn import preprocessing\n",
    "count_vec = CountVectorizer()\n",
    "X_trainbow = count_vec.fit_transform(X_train)\n",
    "# Test Vectorizor\n",
    "X_testbow = count_vec.transform(X_test)\n",
    "print(X_trainbow.shape)\n",
    "print(X_testbow.shape)\n"
   ]
  },
  {
   "cell_type": "code",
   "execution_count": 12,
   "metadata": {},
   "outputs": [
    {
     "name": "stderr",
     "output_type": "stream",
     "text": [
      "F:\\Users\\Admin\\Anaconda3\\lib\\site-packages\\sklearn\\utils\\validation.py:475: DataConversionWarning: Data with input dtype int64 was converted to float64 by StandardScaler.\n",
      "  warnings.warn(msg, DataConversionWarning)\n",
      "F:\\Users\\Admin\\Anaconda3\\lib\\site-packages\\sklearn\\utils\\validation.py:475: DataConversionWarning: Data with input dtype int64 was converted to float64 by StandardScaler.\n",
      "  warnings.warn(msg, DataConversionWarning)\n",
      "F:\\Users\\Admin\\Anaconda3\\lib\\site-packages\\sklearn\\utils\\validation.py:475: DataConversionWarning: Data with input dtype int64 was converted to float64 by StandardScaler.\n",
      "  warnings.warn(msg, DataConversionWarning)\n"
     ]
    }
   ],
   "source": [
    "from sklearn.preprocessing import StandardScaler\n",
    "std_scale = StandardScaler(with_mean = False).fit(X_trainbow)\n",
    "X_trainbow = std_scale.transform(X_trainbow)\n",
    "X_testbow  = std_scale.transform(X_testbow)"
   ]
  },
  {
   "cell_type": "code",
   "execution_count": 22,
   "metadata": {},
   "outputs": [
    {
     "name": "stdout",
     "output_type": "stream",
     "text": [
      "SGDClassifier(alpha=0.5, average=False, class_weight=None, epsilon=0.1,\n",
      "       eta0=0.0, fit_intercept=True, l1_ratio=0.15,\n",
      "       learning_rate='optimal', loss='hinge', max_iter=None, n_iter=None,\n",
      "       n_jobs=1, penalty='l2', power_t=0.5, random_state=None,\n",
      "       shuffle=True, tol=None, verbose=0, warm_start=False)\n"
     ]
    }
   ],
   "source": [
    "model_linear.fit(X_trainbow,y_train) \n",
    "print(model_linear.best_estimator_)"
   ]
  },
  {
   "cell_type": "code",
   "execution_count": 29,
   "metadata": {},
   "outputs": [
    {
     "name": "stdout",
     "output_type": "stream",
     "text": [
      "\n",
      "The accuracy of the classifier is 89.822222%\n",
      "accuracy on train data is 94.7595238095238%\n",
      "error on train data is 5.240476190476201%\n",
      "error on test data is 10.177777777777777%\n",
      "-------------------------------------------------\n",
      "             precision    recall  f1-score   support\n",
      "\n",
      "   negative       0.82      0.53      0.64      3125\n",
      "   positive       0.91      0.98      0.94     14875\n",
      "\n",
      "avg / total       0.89      0.90      0.89     18000\n",
      "\n"
     ]
    }
   ],
   "source": [
    "\n",
    "sgd = SGDClassifier(alpha=0.5)\n",
    "\n",
    "# fitting the model\n",
    "sgd.fit(X_trainbow, y_train)\n",
    "\n",
    "# predict the response\n",
    "pred_bow=sgd.predict(X_testbow)\n",
    "\n",
    "acc_bow = accuracy_score(y_test, pred_bow) * 100\n",
    "print('\\nThe accuracy of the classifier is %f%%' %(acc_bow))\n",
    "acc_train_bow = sgd.score(X_trainbow,y_train)*100\n",
    "print(\"accuracy on train data is {}%\".format(acc_train_bow))\n",
    "error_train_bow = (100-acc_train_bow)\n",
    "print(\"error on train data is {}%\".format(error_train_bow))\n",
    "error_test_bow = (100-acc_bow)\n",
    "print(\"error on test data is {}%\".format(error_test_bow))\n",
    "print(\"-------------------------------------------------\")\n",
    "print(classification_report(y_test, pred_bow))"
   ]
  },
  {
   "cell_type": "code",
   "execution_count": 30,
   "metadata": {},
   "outputs": [
    {
     "data": {
      "text/plain": [
       "<matplotlib.axes._subplots.AxesSubplot at 0x1a636cc0>"
      ]
     },
     "execution_count": 30,
     "metadata": {},
     "output_type": "execute_result"
    },
    {
     "data": {
      "image/png": "[encoded data removed]",
      "text/plain": [
       "<Figure size 432x288 with 2 Axes>"
      ]
     },
     "metadata": {},
     "output_type": "display_data"
    }
   ],
   "source": [
    "import seaborn as sns\n",
    "def plot_confusion_matrix(targets, predictions,title='Confusion matrix', cmap=\"Blues\"):\n",
    "    \"\"\"Plot Confusion Matrix.\"\"\"\n",
    "    cm = confusion_matrix(targets, predictions)\n",
    "    df = pd.DataFrame(data=cm)\n",
    "    g = sns.heatmap(df, annot=True, fmt=\".1f\", linewidths=.5,cmap=cmap)\n",
    "    g.set_title(title)\n",
    "    g.set_ylabel('True label')\n",
    "    g.set_xlabel('Predicted label')\n",
    "    return g\n",
    "plot_confusion_matrix(y_test, pred_bow)"
   ]
  },
  {
   "cell_type": "code",
   "execution_count": 31,
   "metadata": {},
   "outputs": [
    {
     "name": "stdout",
     "output_type": "stream",
     "text": [
      "SGDClassifier(alpha=0.7513405807812017, average=False, class_weight=None,\n",
      "       epsilon=0.1, eta0=0.0, fit_intercept=True, l1_ratio=0.15,\n",
      "       learning_rate='optimal', loss='hinge', max_iter=None, n_iter=None,\n",
      "       n_jobs=1, penalty='l2', power_t=0.5, random_state=None,\n",
      "       shuffle=True, tol=None, verbose=0, warm_start=False)\n"
     ]
    }
   ],
   "source": [
    "model_randomlinear.fit(X_trainbow,y_train) \n",
    "print(model_randomlinear.best_estimator_)"
   ]
  },
  {
   "cell_type": "code",
   "execution_count": 32,
   "metadata": {},
   "outputs": [
    {
     "name": "stdout",
     "output_type": "stream",
     "text": [
      "\n",
      "The accuracy of the classifier is 89.611111%\n",
      "accuracy on train data is 93.91904761904762%\n",
      "error on train data is 6.080952380952382%\n",
      "error on test data is 10.388888888888886%\n",
      "-------------------------------------------------\n",
      "             precision    recall  f1-score   support\n",
      "\n",
      "   negative       0.85      0.49      0.62      3125\n",
      "   positive       0.90      0.98      0.94     14875\n",
      "\n",
      "avg / total       0.89      0.90      0.88     18000\n",
      "\n"
     ]
    }
   ],
   "source": [
    "\n",
    "sgd = SGDClassifier(alpha=0.75)\n",
    "\n",
    "# fitting the model\n",
    "sgd.fit(X_trainbow, y_train)\n",
    "\n",
    "# predict the response\n",
    "pred_bow=sgd.predict(X_testbow)\n",
    "\n",
    "acc_bow = accuracy_score(y_test, pred_bow) * 100\n",
    "print('\\nThe accuracy of the classifier is %f%%' %(acc_bow))\n",
    "acc_train_bow = sgd.score(X_trainbow,y_train)*100\n",
    "print(\"accuracy on train data is {}%\".format(acc_train_bow))\n",
    "error_train_bow = (100-acc_train_bow)\n",
    "print(\"error on train data is {}%\".format(error_train_bow))\n",
    "error_test_bow = (100-acc_bow)\n",
    "print(\"error on test data is {}%\".format(error_test_bow))\n",
    "print(\"-------------------------------------------------\")\n",
    "print(classification_report(y_test, pred_bow))"
   ]
  },
  {
   "cell_type": "code",
   "execution_count": 33,
   "metadata": {},
   "outputs": [
    {
     "data": {
      "text/plain": [
       "<matplotlib.axes._subplots.AxesSubplot at 0x1afc2f28>"
      ]
     },
     "execution_count": 33,
     "metadata": {},
     "output_type": "execute_result"
    },
    {
     "data": {
      "image/png": "[encoded data removed]",
      "text/plain": [
       "<Figure size 432x288 with 2 Axes>"
      ]
     },
     "metadata": {},
     "output_type": "display_data"
    }
   ],
   "source": [
    "import seaborn as sns\n",
    "def plot_confusion_matrix(targets, predictions,title='Confusion matrix', cmap=\"Blues\"):\n",
    "    \"\"\"Plot Confusion Matrix.\"\"\"\n",
    "    cm = confusion_matrix(targets, predictions)\n",
    "    df = pd.DataFrame(data=cm)\n",
    "    g = sns.heatmap(df, annot=True, fmt=\".1f\", linewidths=.5,cmap=cmap)\n",
    "    g.set_title(title)\n",
    "    g.set_ylabel('True label')\n",
    "    g.set_xlabel('Predicted label')\n",
    "    return g\n",
    "plot_confusion_matrix(y_test, pred_bow)"
   ]
  },
  {
   "cell_type": "code",
   "execution_count": 36,
   "metadata": {},
   "outputs": [
    {
     "data": {
      "text/plain": [
       "(1, 24689)"
      ]
     },
     "execution_count": 36,
     "metadata": {},
     "output_type": "execute_result"
    }
   ],
   "source": [
    "W = sgd.coef_\n",
    "W.shape"
   ]
  },
  {
   "cell_type": "code",
   "execution_count": 37,
   "metadata": {},
   "outputs": [],
   "source": [
    "bow_features = count_vec.get_feature_names()"
   ]
  },
  {
   "cell_type": "code",
   "execution_count": 38,
   "metadata": {},
   "outputs": [
    {
     "data": {
      "text/plain": [
       "(24689, 2)"
      ]
     },
     "execution_count": 38,
     "metadata": {},
     "output_type": "execute_result"
    }
   ],
   "source": [
    "coefs_feat =pd.DataFrame(sorted(zip(sgd.coef_[0], bow_features)))\n",
    "coefs_feat.shape"
   ]
  },
  {
   "cell_type": "code",
   "execution_count": 40,
   "metadata": {},
   "outputs": [
    {
     "name": "stdout",
     "output_type": "stream",
     "text": [
      "Top 25 Negative Features:-\n",
      "            0           1\n",
      "0  -0.063500  disappoint\n",
      "1  -0.047599      return\n",
      "2  -0.044993        wast\n",
      "3  -0.041883     horribl\n",
      "4  -0.039954          aw\n",
      "5  -0.038901       worst\n",
      "6  -0.038261     terribl\n",
      "7  -0.035294       threw\n",
      "8  -0.034925       money\n",
      "9  -0.033800       stale\n",
      "10 -0.033196    unfortun\n",
      "11 -0.029895         bad\n",
      "12 -0.028666      refund\n",
      "13 -0.028059     disgust\n",
      "14 -0.025199        poor\n",
      "15 -0.024845       bewar\n",
      "16 -0.024433       gross\n",
      "17 -0.024253       guess\n",
      "18 -0.023608       sorri\n",
      "19 -0.023470        yuck\n",
      "20 -0.022347        mayb\n",
      "21 -0.021859       didnt\n",
      "22 -0.021768       throw\n",
      "23 -0.021518       nasti\n",
      "24 -0.021470     thought\n",
      "\n",
      "\n",
      " Top 25 Positive Features:-\n",
      "               0          1\n",
      "24688  0.119068      great\n",
      "24687  0.115029       love\n",
      "24686  0.085927       good\n",
      "24685  0.074147       best\n",
      "24684  0.063641     delici\n",
      "24683  0.054203    perfect\n",
      "24682  0.050270      excel\n",
      "24681  0.049616    favorit\n",
      "24680  0.047231       nice\n",
      "24679  0.041105      price\n",
      "24678  0.040790      tasti\n",
      "24677  0.039233     wonder\n",
      "24676  0.039193      enjoy\n",
      "24675  0.038461      happi\n",
      "24674  0.037807  recommend\n",
      "24673  0.037666        use\n",
      "24672  0.036159     awesom\n",
      "24671  0.036142       easi\n",
      "24670  0.034465       find\n",
      "24669  0.033871      fresh\n",
      "24668  0.033413      quick\n",
      "24667  0.032528      littl\n",
      "24666  0.032207    definit\n",
      "24665  0.032155       well\n",
      "24664  0.031878       amaz\n"
     ]
    }
   ],
   "source": [
    "# To show top 25 feature from both class\n",
    "# Feature Importance\n",
    "print(\"Top 25 Negative Features:-\\n\",coefs_feat[0:25])\n",
    "print(\"\\n\\n Top 25 Positive Features:-\\n\",coefs_feat[:-26:-1])"
   ]
  },
  {
   "cell_type": "markdown",
   "metadata": {
    "colab_type": "text",
    "id": "3cyEG5l6D-g0"
   },
   "source": [
    "##### Logistic Regression usin GridSearch CV "
   ]
  },
  {
   "cell_type": "code",
   "execution_count": 35,
   "metadata": {},
   "outputs": [
    {
     "name": "stdout",
     "output_type": "stream",
     "text": [
      "variance preserved [0.03715455 0.0253705  0.01926237 0.01687263 0.01430878 0.01089533\n",
      " 0.01043966 0.00952542 0.0092354  0.00901842 0.00848251 0.00755202\n",
      " 0.0075373  0.00696474 0.00620951 0.00610585 0.00593651 0.00572527\n",
      " 0.00535899 0.00519436 0.00500187 0.00493267 0.00470877 0.00454717\n",
      " 0.00448908 0.00439848 0.00431503 0.00419318 0.00402719 0.00391545\n",
      " 0.00369604 0.00361799 0.00350025 0.0034794  0.00339884 0.003283\n",
      " 0.00324252 0.00322622 0.00312946 0.00311126 0.00303914 0.00300526\n",
      " 0.00296613 0.00292183 0.00290999 0.00283464 0.00280585 0.00276741\n",
      " 0.00267453 0.0025925 ]\n"
     ]
    }
   ],
   "source": [
    "from sklearn.decomposition import TruncatedSVD \n",
    "from scipy.sparse import csr_matrix\n",
    "\n",
    "svd = TruncatedSVD(n_components=50)\n",
    "std_data=svd.fit_transform(X_trainbow)\n",
    "print(\"variance preserved\",svd.explained_variance_ratio_)\n",
    "std_data=csr_matrix((std_data))\n",
    "X_trainden = std_data.todense()"
   ]
  },
  {
   "cell_type": "code",
   "execution_count": null,
   "metadata": {
    "colab": {},
    "colab_type": "code",
    "id": "CtUL0NqGD-g1",
    "outputId": "a78d0827-154d-4f5d-ca63-c7ef0fc3b963"
   },
   "outputs": [],
   "source": [
    "\n",
    "model_rbf.fit(X_trainden,y_train) \n",
    "print(model_rbf.best_estimator_)"
   ]
  },
  {
   "cell_type": "markdown",
   "metadata": {
    "colab_type": "text",
    "id": "l2QeFieFD-g6"
   },
   "source": [
    "#### Accuracy Report with Best C"
   ]
  },
  {
   "cell_type": "code",
   "execution_count": null,
   "metadata": {
    "colab": {
     "base_uri": "https://localhost:8080/",
     "height": 101
    },
    "colab_type": "code",
    "id": "GlNfiJQ4D-g7",
    "outputId": "263c8dc4-e36f-4b35-e7f8-73ef3e948672"
   },
   "outputs": [],
   "source": [
    "\n",
    "clf = SVC(C=1000,gamma=0.001)\n",
    "\n",
    "# fitting the model\n",
    "clf.fit(X_trainbow, y_train)\n",
    "\n",
    "# predict the response\n",
    "\n",
    "predicted_labels = []\n",
    "for i in range(0,7500 , 500):\n",
    "    predicted_labels.append(clf.predict(X_testbow[i:i+500]))\n",
    "\n",
    "pred_bow = np.hstack(predicted_labels)\n",
    "acc_bow = accuracy_score(y_test, pred_bow) * 100\n",
    "print('\\nThe accuracy of the classifier is %f%%' %(acc_bow))\n",
    "for i in range(0,17500 , 500):\n",
    "    acc_train_bow = clf.score(X_trainbow[i:i+500],y_train[i:i+500])*100\n",
    "print(\"accuracy on train data is {}%\".format(acc_train_bow))\n",
    "error_train_bow = (100-acc_train_bow)\n",
    "print(\"error on train data is {}%\".format(error_train_bow))\n",
    "error_test_bow = (100-acc_bow)\n",
    "print(\"error on test data is {}%\".format(error_test_bow))"
   ]
  },
  {
   "cell_type": "code",
   "execution_count": 26,
   "metadata": {
    "colab": {},
    "colab_type": "code",
    "id": "8AKhIksRD-hB",
    "outputId": "45474993-82a9-4604-8683-8914f7cfac0d"
   },
   "outputs": [
    {
     "name": "stdout",
     "output_type": "stream",
     "text": [
      "             precision    recall  f1-score   support\n",
      "\n",
      "   negative       0.82      0.52      0.64      3125\n",
      "   positive       0.91      0.98      0.94     14875\n",
      "\n",
      "avg / total       0.89      0.90      0.89     18000\n",
      "\n"
     ]
    }
   ],
   "source": [
    "from sklearn.metrics import classification_report\n",
    "print(classification_report(y_test, pred_bow))"
   ]
  },
  {
   "cell_type": "code",
   "execution_count": 0,
   "metadata": {
    "colab": {},
    "colab_type": "code",
    "id": "ADA59HspD-hG",
    "outputId": "31c7d0d1-ec8b-4bf6-dff0-d47fae77e55e"
   },
   "outputs": [
    {
     "data": {
      "text/plain": [
       "array([[ 823,  510],\n",
       "       [ 183, 5984]])"
      ]
     },
     "execution_count": 38,
     "metadata": {
      "tags": []
     },
     "output_type": "execute_result"
    }
   ],
   "source": [
    "from sklearn.metrics import confusion_matrix\n",
    "confusion_matrix(y_test, pred_bow)"
   ]
  },
  {
   "cell_type": "code",
   "execution_count": 0,
   "metadata": {
    "colab": {},
    "colab_type": "code",
    "id": "uTh54Vp_D-hM",
    "outputId": "cedd1017-1fc2-4623-9ec8-c919ee6595d2"
   },
   "outputs": [
    {
     "data": {
      "text/plain": [
       "<matplotlib.axes._subplots.AxesSubplot at 0x7f1bb1c8def0>"
      ]
     },
     "execution_count": 39,
     "metadata": {
      "tags": []
     },
     "output_type": "execute_result"
    },
    {
     "data": {
      "image/png": "[encoded data removed]",
      "text/plain": [
       "<Figure size 432x288 with 2 Axes>"
      ]
     },
     "metadata": {
      "needs_background": "light",
      "tags": []
     },
     "output_type": "display_data"
    }
   ],
   "source": [
    "import seaborn as sns\n",
    "def plot_confusion_matrix(targets, predictions,title='Confusion matrix', cmap=\"Blues\"):\n",
    "    \"\"\"Plot Confusion Matrix.\"\"\"\n",
    "    cm = confusion_matrix(targets, predictions)\n",
    "   # cm = 100 * cm.astype('float') / cm.sum(axis=1)[:, np.newaxis]\n",
    " \n",
    "    df = pd.DataFrame(data=cm)\n",
    "    g = sns.heatmap(df, annot=True, fmt=\".1f\", linewidths=.5,cmap=cmap)\n",
    "    g.set_title(title)\n",
    "    g.set_ylabel('True label')\n",
    "    g.set_xlabel('Predicted label')\n",
    "    return g\n",
    "plot_confusion_matrix(y_test, pred_bow)"
   ]
  },
  {
   "cell_type": "code",
   "execution_count": null,
   "metadata": {
    "colab": {},
    "colab_type": "code",
    "id": "ui_kJFn1D-hV",
    "outputId": "b560167f-9678-4fb5-910b-b3acdcdd8656"
   },
   "outputs": [],
   "source": [
    "clf=SVC(C=1000,gamma=0.001)\n",
    "C = [1000,500,100,50,10,5,1,0.5,0.1,0.05,0.01,0.005,0.001,0.0005,0.0001]\n",
    "clf.fit(X_trainbow,y_train)\n",
    "scores=clf.score(X_trainbow,y_train)\n",
    "# changing to misclassification error\n",
    "c_scores=[]\n",
    "c_scores.append(scores.mean())\n",
    "MSE = [1 - x for x in c_scores]\n",
    "# plot misclassification error vs k \n",
    "plt.plot(C, MSE)\n",
    "\n",
    "for xy in zip(neighbors, np.round(MSE,3)):\n",
    "    plt.annotate('(%s, %s)' % xy, xy=xy, textcoords='data')\n",
    "\n",
    "plt.xlabel('C')\n",
    "plt.ylabel('Misclassification Error')\n",
    "plt.show()"
   ]
  },
  {
   "cell_type": "code",
   "execution_count": 18,
   "metadata": {},
   "outputs": [],
   "source": [
    "score = {'positive': 1,'negative': 0}\n",
    "y_train = [score[item] for item in y_train] "
   ]
  },
  {
   "cell_type": "code",
   "execution_count": 33,
   "metadata": {},
   "outputs": [
    {
     "ename": "ValueError",
     "evalue": "setting an array element with a sequence.",
     "output_type": "error",
     "traceback": [
      "\u001b[1;31m---------------------------------------------------------------------------\u001b[0m",
      "\u001b[1;31mValueError\u001b[0m                                Traceback (most recent call last)",
      "\u001b[1;32m<ipython-input-33-51a1f5ecb2cc>\u001b[0m in \u001b[0;36m<module>\u001b[1;34m()\u001b[0m\n\u001b[0;32m      4\u001b[0m \u001b[1;33m\u001b[0m\u001b[0m\n\u001b[0;32m      5\u001b[0m \u001b[0mX_trainar\u001b[0m\u001b[1;33m=\u001b[0m\u001b[0mnp\u001b[0m\u001b[1;33m.\u001b[0m\u001b[0marray\u001b[0m\u001b[1;33m(\u001b[0m\u001b[0mX_trainbow\u001b[0m\u001b[1;33m)\u001b[0m\u001b[1;33m\u001b[0m\u001b[0m\n\u001b[1;32m----> 6\u001b[1;33m \u001b[0mX_trainar\u001b[0m\u001b[1;33m.\u001b[0m\u001b[0mastype\u001b[0m\u001b[1;33m(\u001b[0m\u001b[0mfloat\u001b[0m\u001b[1;33m)\u001b[0m\u001b[1;33m\u001b[0m\u001b[0m\n\u001b[0m\u001b[0;32m      7\u001b[0m \u001b[0my_trainar\u001b[0m\u001b[1;33m=\u001b[0m\u001b[0mnp\u001b[0m\u001b[1;33m.\u001b[0m\u001b[0marray\u001b[0m\u001b[1;33m(\u001b[0m\u001b[0my_train\u001b[0m\u001b[1;33m)\u001b[0m\u001b[1;33m\u001b[0m\u001b[0m\n",
      "\u001b[1;31mValueError\u001b[0m: setting an array element with a sequence."
     ]
    }
   ],
   "source": [
    "#from scipy.sparse import csr_matrix\n",
    "#std_data=csr_matrix((X_trainbow))\n",
    "#X_trainden = std_data.todense()\n",
    "\n",
    "X_trainar=np.array(X_trainbow)\n",
    "X_trainar.astype(float)\n",
    "y_trainar=np.array(y_train)\n"
   ]
  },
  {
   "cell_type": "code",
   "execution_count": 27,
   "metadata": {},
   "outputs": [
    {
     "ename": "IndexError",
     "evalue": "too many indices for array",
     "output_type": "error",
     "traceback": [
      "\u001b[1;31m---------------------------------------------------------------------------\u001b[0m",
      "\u001b[1;31mIndexError\u001b[0m                                Traceback (most recent call last)",
      "\u001b[1;32m<ipython-input-27-015ae7efce6b>\u001b[0m in \u001b[0;36m<module>\u001b[1;34m()\u001b[0m\n\u001b[1;32m----> 1\u001b[1;33m \u001b[0mX_trainar\u001b[0m\u001b[1;33m[\u001b[0m\u001b[1;36m0\u001b[0m\u001b[1;33m]\u001b[0m\u001b[1;33m\u001b[0m\u001b[0m\n\u001b[0m",
      "\u001b[1;31mIndexError\u001b[0m: too many indices for array"
     ]
    }
   ],
   "source": [
    "X_trainar[0]"
   ]
  },
  {
   "cell_type": "code",
   "execution_count": 25,
   "metadata": {
    "colab": {
     "base_uri": "https://localhost:8080/",
     "height": 484
    },
    "colab_type": "code",
    "id": "fc9PzXeZD-ha",
    "outputId": "2db5c9d6-5dcd-43d6-a085-4061965b7903"
   },
   "outputs": [
    {
     "ename": "ValueError",
     "evalue": "X must be an integer or float array. Found object.",
     "output_type": "error",
     "traceback": [
      "\u001b[1;31m---------------------------------------------------------------------------\u001b[0m",
      "\u001b[1;31mValueError\u001b[0m                                Traceback (most recent call last)",
      "\u001b[1;32m<ipython-input-25-34d8ae055734>\u001b[0m in \u001b[0;36m<module>\u001b[1;34m()\u001b[0m\n\u001b[0;32m      4\u001b[0m                       \u001b[0my\u001b[0m\u001b[1;33m=\u001b[0m\u001b[0my_trainar\u001b[0m\u001b[1;33m,\u001b[0m\u001b[1;33m\u001b[0m\u001b[0m\n\u001b[0;32m      5\u001b[0m                       \u001b[0mclf\u001b[0m\u001b[1;33m=\u001b[0m\u001b[0mSVC\u001b[0m\u001b[1;33m(\u001b[0m\u001b[0mC\u001b[0m\u001b[1;33m=\u001b[0m\u001b[1;36m1000\u001b[0m\u001b[1;33m,\u001b[0m\u001b[0mgamma\u001b[0m\u001b[1;33m=\u001b[0m\u001b[1;36m0.001\u001b[0m\u001b[1;33m)\u001b[0m\u001b[1;33m,\u001b[0m\u001b[1;33m\u001b[0m\u001b[0m\n\u001b[1;32m----> 6\u001b[1;33m                       legend=2)\n\u001b[0m\u001b[0;32m      7\u001b[0m \u001b[1;33m\u001b[0m\u001b[0m\n\u001b[0;32m      8\u001b[0m \u001b[1;31m# Update plot object with X/Y axis labels and Figure Title\u001b[0m\u001b[1;33m\u001b[0m\u001b[1;33m\u001b[0m\u001b[0m\n",
      "\u001b[1;32mF:\\Users\\Admin\\Anaconda3\\lib\\site-packages\\mlxtend\\plotting\\decision_regions.py\u001b[0m in \u001b[0;36mplot_decision_regions\u001b[1;34m(X, y, clf, feature_index, filler_feature_values, filler_feature_ranges, ax, X_highlight, res, legend, hide_spines, markers, colors, scatter_kwargs, contourf_kwargs, scatter_highlight_kwargs)\u001b[0m\n\u001b[0;32m    127\u001b[0m     \"\"\"\n\u001b[0;32m    128\u001b[0m \u001b[1;33m\u001b[0m\u001b[0m\n\u001b[1;32m--> 129\u001b[1;33m     \u001b[0mcheck_Xy\u001b[0m\u001b[1;33m(\u001b[0m\u001b[0mX\u001b[0m\u001b[1;33m,\u001b[0m \u001b[0my\u001b[0m\u001b[1;33m,\u001b[0m \u001b[0my_int\u001b[0m\u001b[1;33m=\u001b[0m\u001b[1;32mTrue\u001b[0m\u001b[1;33m)\u001b[0m  \u001b[1;31m# Validate X and y arrays\u001b[0m\u001b[1;33m\u001b[0m\u001b[0m\n\u001b[0m\u001b[0;32m    130\u001b[0m     \u001b[0mdim\u001b[0m \u001b[1;33m=\u001b[0m \u001b[0mX\u001b[0m\u001b[1;33m.\u001b[0m\u001b[0mshape\u001b[0m\u001b[1;33m[\u001b[0m\u001b[1;36m1\u001b[0m\u001b[1;33m]\u001b[0m\u001b[1;33m\u001b[0m\u001b[0m\n\u001b[0;32m    131\u001b[0m \u001b[1;33m\u001b[0m\u001b[0m\n",
      "\u001b[1;32mF:\\Users\\Admin\\Anaconda3\\lib\\site-packages\\mlxtend\\utils\\checking.py\u001b[0m in \u001b[0;36mcheck_Xy\u001b[1;34m(X, y, y_int)\u001b[0m\n\u001b[0;32m     25\u001b[0m     \u001b[1;32mif\u001b[0m \u001b[1;32mnot\u001b[0m \u001b[1;33m(\u001b[0m\u001b[1;34m'float'\u001b[0m \u001b[1;32min\u001b[0m \u001b[0mstr\u001b[0m\u001b[1;33m(\u001b[0m\u001b[0mX\u001b[0m\u001b[1;33m.\u001b[0m\u001b[0mdtype\u001b[0m\u001b[1;33m)\u001b[0m \u001b[1;32mor\u001b[0m \u001b[1;34m'int'\u001b[0m \u001b[1;32min\u001b[0m \u001b[0mstr\u001b[0m\u001b[1;33m(\u001b[0m\u001b[0mX\u001b[0m\u001b[1;33m.\u001b[0m\u001b[0mdtype\u001b[0m\u001b[1;33m)\u001b[0m\u001b[1;33m)\u001b[0m\u001b[1;33m:\u001b[0m\u001b[1;33m\u001b[0m\u001b[0m\n\u001b[0;32m     26\u001b[0m         raise ValueError('X must be an integer or float array. Found %s.'\n\u001b[1;32m---> 27\u001b[1;33m                          % X.dtype)\n\u001b[0m\u001b[0;32m     28\u001b[0m \u001b[1;33m\u001b[0m\u001b[0m\n\u001b[0;32m     29\u001b[0m     \u001b[1;31m# check dim\u001b[0m\u001b[1;33m\u001b[0m\u001b[1;33m\u001b[0m\u001b[0m\n",
      "\u001b[1;31mValueError\u001b[0m: X must be an integer or float array. Found object."
     ]
    }
   ],
   "source": [
    "\n",
    "from mlxtend.plotting import plot_decision_regions\n",
    "plot_decision_regions(X=X_trainar, \n",
    "                      y=y_trainar,\n",
    "                      clf=SVC(C=1000,gamma=0.001), \n",
    "                      legend=2)\n",
    "\n",
    "# Update plot object with X/Y axis labels and Figure Title\n",
    "plt.xlabel(X.columns[0], size=14)\n",
    "plt.ylabel(X.columns[1], size=14)\n",
    "plt.title('SVM Decision Region Boundary', size=16)"
   ]
  },
  {
   "cell_type": "markdown",
   "metadata": {
    "colab_type": "text",
    "id": "bD_KLLOYD-hg"
   },
   "source": [
    "##### Logistic Regression usin RandomSearch CV "
   ]
  },
  {
   "cell_type": "code",
   "execution_count": 0,
   "metadata": {
    "colab": {},
    "colab_type": "code",
    "id": "jvsxlQG3D-hh",
    "outputId": "6c6162dc-a347-4639-b8cd-090d62cf20af"
   },
   "outputs": [
    {
     "data": {
      "text/plain": [
       "RandomizedSearchCV(cv=3, error_score='raise',\n",
       "          estimator=SVC(C=1.0, cache_size=200, class_weight='balanced', coef0=0.0,\n",
       "  decision_function_shape='ovr', degree=3, gamma='auto', kernel='rbf',\n",
       "  max_iter=-1, probability=False, random_state=None, shrinking=True,\n",
       "  tol=0.001, verbose=False),\n",
       "          fit_params={}, iid=True, n_iter=15, n_jobs=1,\n",
       "          param_distributions={'C': <scipy.stats._distn_infrastructure.rv_frozen object at 0x7f1bb7c5a780>, 'gamma': [0.001, 0.0001]},\n",
       "          pre_dispatch='2*n_jobs', random_state=None, refit=True,\n",
       "          scoring=make_scorer(f1_score, pos_label=negative), verbose=0)"
      ]
     },
     "execution_count": 29,
     "metadata": {
      "tags": []
     },
     "output_type": "execute_result"
    }
   ],
   "source": [
    "model_randomrbf.fit(X_trainbow,y_train)\n",
    "print(model_randomrbf.best_estimator_)"
   ]
  },
  {
   "cell_type": "code",
   "execution_count": 0,
   "metadata": {
    "colab": {},
    "colab_type": "code",
    "id": "8bz6Nb8GD-hl",
    "outputId": "384d6941-49a5-4251-a7db-d8517f154eef"
   },
   "outputs": [
    {
     "name": "stdout",
     "output_type": "stream",
     "text": [
      "SVC(C=2.7371662485446255, cache_size=200, class_weight='balanced', coef0=0.0,\n",
      "  decision_function_shape='ovr', degree=3, gamma=0.001, kernel='rbf',\n",
      "  max_iter=-1, probability=False, random_state=None, shrinking=True,\n",
      "  tol=0.001, verbose=False)\n"
     ]
    }
   ],
   "source": [
    "print(model_random.best_estimator_)"
   ]
  },
  {
   "cell_type": "code",
   "execution_count": 0,
   "metadata": {
    "colab": {},
    "colab_type": "code",
    "id": "IHm2suY2D-hq",
    "outputId": "d4e8161e-0c82-4d43-d4e0-522781983f99"
   },
   "outputs": [
    {
     "name": "stdout",
     "output_type": "stream",
     "text": [
      "\n",
      "The accuracy of the classifier is 82.226667%\n",
      "accuracy on train data is 85.39999999999999%\n",
      "error on train data is 14.600000000000009%\n",
      "error on test data is 17.773333333333326%\n"
     ]
    }
   ],
   "source": [
    "clf1 = SVC(C=2.74,gamma=0.001)\n",
    "\n",
    "# fitting the model\n",
    "clf1.fit(X_trainbow, y_train)\n",
    "\n",
    "# predict the response\n",
    "\n",
    "predicted_labels = []\n",
    "for i in range(0,7500 , 500):\n",
    "    predicted_labels.append(clf1.predict(X_testbow[i:i+500]))\n",
    "\n",
    "pred_bow = np.hstack(predicted_labels)\n",
    "acc_bow = accuracy_score(y_test, pred_bow) * 100\n",
    "print('\\nThe accuracy of the classifier is %f%%' %(acc_bow))\n",
    "for i in range(0,17500 , 500):\n",
    "    acc_train_bow = clf1.score(X_trainbow[i:i+500],y_train[i:i+500])*100\n",
    "print(\"accuracy on train data is {}%\".format(acc_train_bow))\n",
    "error_train_bow = (100-acc_train_bow)\n",
    "print(\"error on train data is {}%\".format(error_train_bow))\n",
    "error_test_bow = (100-acc_bow)\n",
    "print(\"error on test data is {}%\".format(error_test_bow))"
   ]
  },
  {
   "cell_type": "markdown",
   "metadata": {
    "colab_type": "text",
    "id": "CkKhKxHJD-hu"
   },
   "source": [
    "#### Confusion matrix"
   ]
  },
  {
   "cell_type": "code",
   "execution_count": 0,
   "metadata": {
    "colab": {},
    "colab_type": "code",
    "id": "kfWA0ex6D-hx",
    "outputId": "04242a44-f9b1-4f46-f843-c898a0194da1"
   },
   "outputs": [
    {
     "data": {
      "text/plain": [
       "array([[   0, 1333],\n",
       "       [   0, 6167]], dtype=int64)"
      ]
     },
     "execution_count": 16,
     "metadata": {
      "tags": []
     },
     "output_type": "execute_result"
    }
   ],
   "source": [
    "from sklearn.metrics import confusion_matrix\n",
    "confusion_matrix(y_test, pred_bow)"
   ]
  },
  {
   "cell_type": "code",
   "execution_count": 0,
   "metadata": {
    "colab": {},
    "colab_type": "code",
    "id": "OuVZWxFGD-h2",
    "outputId": "9ea3364b-dd71-4951-a0c0-501faab212a1",
    "scrolled": true
   },
   "outputs": [
    {
     "data": {
      "text/plain": [
       "<matplotlib.axes._subplots.AxesSubplot at 0x106f5320>"
      ]
     },
     "execution_count": 17,
     "metadata": {
      "tags": []
     },
     "output_type": "execute_result"
    },
    {
     "data": {
      "image/png": "[encoded data removed]",
      "text/plain": [
       "<Figure size 432x288 with 2 Axes>"
      ]
     },
     "metadata": {
      "tags": []
     },
     "output_type": "display_data"
    }
   ],
   "source": [
    "import seaborn as sns\n",
    "def plot_confusion_matrix(targets, predictions,title='Confusion matrix', cmap=\"Blues\"):\n",
    "    \"\"\"Plot Confusion Matrix.\"\"\"\n",
    "    cm = confusion_matrix(targets, predictions)\n",
    "   # cm = 100 * cm.astype('float') / cm.sum(axis=1)[:, np.newaxis]\n",
    " \n",
    "    df = pd.DataFrame(data=cm)\n",
    "    g = sns.heatmap(df, annot=True, fmt=\".1f\", linewidths=.5,cmap=cmap)\n",
    "    g.set_title(title)\n",
    "    g.set_ylabel('True label')\n",
    "    g.set_xlabel('Predicted label')\n",
    "    return g\n",
    "plot_confusion_matrix(y_test, pred_bow)"
   ]
  },
  {
   "cell_type": "markdown",
   "metadata": {
    "colab_type": "text",
    "id": "FtNdmkuvD-h6"
   },
   "source": [
    "#### Classification Report"
   ]
  },
  {
   "cell_type": "code",
   "execution_count": 0,
   "metadata": {
    "colab": {},
    "colab_type": "code",
    "id": "V8zEKklAD-h7",
    "outputId": "13edf3ed-fb5e-4142-df69-d60336412b49"
   },
   "outputs": [
    {
     "name": "stdout",
     "output_type": "stream",
     "text": [
      "             precision    recall  f1-score   support\n",
      "\n",
      "   negative       0.00      0.00      0.00      2613\n",
      "   positive       0.83      1.00      0.90     12387\n",
      "\n",
      "avg / total       0.68      0.83      0.75     15000\n",
      "\n"
     ]
    }
   ],
   "source": [
    "from sklearn.metrics import classification_report\n",
    "print(classification_report(y_test, pred_bow))"
   ]
  },
  {
   "cell_type": "markdown",
   "metadata": {
    "colab_type": "text",
    "id": "qNKPgU8LD-iA"
   },
   "source": [
    "#  TF-IDF"
   ]
  },
  {
   "cell_type": "code",
   "execution_count": 45,
   "metadata": {
    "colab": {
     "base_uri": "https://localhost:8080/",
     "height": 50
    },
    "colab_type": "code",
    "id": "ZBHrYICsD-iB",
    "outputId": "24c5d4b7-6765-4bb5-c68e-8538476cc5b9"
   },
   "outputs": [
    {
     "name": "stdout",
     "output_type": "stream",
     "text": [
      "Train Data Size:  (42000, 24689)\n",
      "Test Data Size:  (18000, 24689)\n"
     ]
    }
   ],
   "source": [
    "from sklearn import preprocessing\n",
    "\n",
    "tfidf = TfidfVectorizer() #Using bi-grams\n",
    "X_traintfidf = tfidf.fit_transform(X_train)\n",
    "print(\"Train Data Size: \",X_traintfidf.shape)\n",
    "X_testtfidf = tfidf.transform(X_test)\n",
    "print(\"Test Data Size: \",X_testtfidf.shape)"
   ]
  },
  {
   "cell_type": "code",
   "execution_count": 44,
   "metadata": {},
   "outputs": [],
   "source": [
    "std_scale = StandardScaler(with_mean = False).fit(X_traintfidf)\n",
    "X_traintfidf = std_scale.transform(X_traintfidf)\n",
    "X_testtfidf  = std_scale.transform(X_testtfidf)"
   ]
  },
  {
   "cell_type": "markdown",
   "metadata": {
    "colab_type": "text",
    "id": "onBE645qD-iF"
   },
   "source": [
    "##### Logistic Regression usin GridSearch CV "
   ]
  },
  {
   "cell_type": "code",
   "execution_count": 45,
   "metadata": {
    "colab": {},
    "colab_type": "code",
    "id": "FGbM7RxmD-iG",
    "outputId": "9176e8fa-3285-4145-8210-3cc4925f3f8f"
   },
   "outputs": [
    {
     "name": "stdout",
     "output_type": "stream",
     "text": [
      "SGDClassifier(alpha=0.5, average=False, class_weight=None, epsilon=0.1,\n",
      "       eta0=0.0, fit_intercept=True, l1_ratio=0.15,\n",
      "       learning_rate='optimal', loss='hinge', max_iter=None, n_iter=None,\n",
      "       n_jobs=1, penalty='l2', power_t=0.5, random_state=None,\n",
      "       shuffle=True, tol=None, verbose=0, warm_start=False)\n"
     ]
    }
   ],
   "source": [
    "model_linear.fit(X_traintfidf,y_train)\n",
    "print(model_linear.best_estimator_)"
   ]
  },
  {
   "cell_type": "code",
   "execution_count": 47,
   "metadata": {},
   "outputs": [
    {
     "name": "stdout",
     "output_type": "stream",
     "text": [
      "\n",
      "The accuracy of the classifier is 88.588889%\n",
      "accuracy on train data is 94.58571428571429%\n",
      "error on train data is 5.414285714285711%\n",
      "error on test data is 11.411111111111111%\n",
      "-------------------------------------------------\n",
      "             precision    recall  f1-score   support\n",
      "\n",
      "   negative       0.78      0.48      0.59      3125\n",
      "   positive       0.90      0.97      0.93     14875\n",
      "\n",
      "avg / total       0.88      0.89      0.87     18000\n",
      "\n"
     ]
    }
   ],
   "source": [
    "sgd = SGDClassifier(alpha=0.5)\n",
    "\n",
    "# fitting the model\n",
    "sgd.fit(X_traintfidf, y_train)\n",
    "\n",
    "# predict the response\n",
    "pred_tfidf=sgd.predict(X_testtfidf)\n",
    "\n",
    "acc_tfidf = accuracy_score(y_test, pred_tfidf) * 100\n",
    "print('\\nThe accuracy of the classifier is %f%%' %(acc_tfidf))\n",
    "acc_train_tfidf = sgd.score(X_traintfidf,y_train)*100\n",
    "print(\"accuracy on train data is {}%\".format(acc_train_tfidf))\n",
    "error_train_tfidf = (100-acc_train_tfidf)\n",
    "print(\"error on train data is {}%\".format(error_train_tfidf))\n",
    "error_test_tfidf = (100-acc_tfidf)\n",
    "print(\"error on test data is {}%\".format(error_test_tfidf))\n",
    "print(\"-------------------------------------------------\")\n",
    "print(classification_report(y_test, pred_tfidf))"
   ]
  },
  {
   "cell_type": "code",
   "execution_count": 48,
   "metadata": {},
   "outputs": [
    {
     "data": {
      "text/plain": [
       "<matplotlib.axes._subplots.AxesSubplot at 0x2a0e0278>"
      ]
     },
     "execution_count": 48,
     "metadata": {},
     "output_type": "execute_result"
    },
    {
     "data": {
      "image/png": "[encoded data removed]",
      "text/plain": [
       "<Figure size 432x288 with 2 Axes>"
      ]
     },
     "metadata": {},
     "output_type": "display_data"
    }
   ],
   "source": [
    "import seaborn as sns\n",
    "def plot_confusion_matrix(targets, predictions,title='Confusion matrix'):\n",
    "    \"\"\"Plot Confusion Matrix.\"\"\"\n",
    "    cm = confusion_matrix(targets, predictions)\n",
    "    df = pd.DataFrame(data=cm)\n",
    "    g = sns.heatmap(df, annot=True, fmt=\".1f\", linewidths=.5)\n",
    "    g.set_title(title)\n",
    "    g.set_ylabel('True label')\n",
    "    g.set_xlabel('Predicted label')\n",
    "    return g\n",
    "plot_confusion_matrix(y_test, pred_tfidf)"
   ]
  },
  {
   "cell_type": "code",
   "execution_count": 49,
   "metadata": {},
   "outputs": [
    {
     "name": "stdout",
     "output_type": "stream",
     "text": [
      "SGDClassifier(alpha=0.5, average=False, class_weight=None, epsilon=0.1,\n",
      "       eta0=0.0, fit_intercept=True, l1_ratio=0.15,\n",
      "       learning_rate='optimal', loss='hinge', max_iter=None, n_iter=None,\n",
      "       n_jobs=1, penalty='l2', power_t=0.5, random_state=None,\n",
      "       shuffle=True, tol=None, verbose=0, warm_start=False)\n"
     ]
    }
   ],
   "source": [
    "model_randomlinear.fit(X_traintfidf,y_train)\n",
    "print(model_linear.best_estimator_)"
   ]
  },
  {
   "cell_type": "code",
   "execution_count": 50,
   "metadata": {},
   "outputs": [
    {
     "name": "stdout",
     "output_type": "stream",
     "text": [
      "\n",
      "The accuracy of the classifier is 88.527778%\n",
      "accuracy on train data is 94.56190476190476%\n",
      "error on train data is 5.438095238095244%\n",
      "error on test data is 11.472222222222214%\n",
      "-------------------------------------------------\n",
      "             precision    recall  f1-score   support\n",
      "\n",
      "   negative       0.77      0.48      0.59      3125\n",
      "   positive       0.90      0.97      0.93     14875\n",
      "\n",
      "avg / total       0.88      0.89      0.87     18000\n",
      "\n"
     ]
    }
   ],
   "source": [
    "sgd = SGDClassifier(alpha=0.5)\n",
    "\n",
    "# fitting the model\n",
    "sgd.fit(X_traintfidf, y_train)\n",
    "\n",
    "# predict the response\n",
    "pred_tfidf=sgd.predict(X_testtfidf)\n",
    "\n",
    "acc_tfidf = accuracy_score(y_test, pred_tfidf) * 100\n",
    "print('\\nThe accuracy of the classifier is %f%%' %(acc_tfidf))\n",
    "acc_train_tfidf = sgd.score(X_traintfidf,y_train)*100\n",
    "print(\"accuracy on train data is {}%\".format(acc_train_tfidf))\n",
    "error_train_tfidf = (100-acc_train_tfidf)\n",
    "print(\"error on train data is {}%\".format(error_train_tfidf))\n",
    "error_test_tfidf = (100-acc_tfidf)\n",
    "print(\"error on test data is {}%\".format(error_test_tfidf))\n",
    "print(\"-------------------------------------------------\")\n",
    "print(classification_report(y_test, pred_tfidf))"
   ]
  },
  {
   "cell_type": "code",
   "execution_count": 51,
   "metadata": {},
   "outputs": [
    {
     "data": {
      "text/plain": [
       "<matplotlib.axes._subplots.AxesSubplot at 0x14a3f7b8>"
      ]
     },
     "execution_count": 51,
     "metadata": {},
     "output_type": "execute_result"
    },
    {
     "data": {
      "image/png": "[encoded data removed]",
      "text/plain": [
       "<Figure size 432x288 with 2 Axes>"
      ]
     },
     "metadata": {},
     "output_type": "display_data"
    }
   ],
   "source": [
    "import seaborn as sns\n",
    "def plot_confusion_matrix(targets, predictions,title='Confusion matrix'):\n",
    "    \"\"\"Plot Confusion Matrix.\"\"\"\n",
    "    cm = confusion_matrix(targets, predictions)\n",
    "    df = pd.DataFrame(data=cm)\n",
    "    g = sns.heatmap(df, annot=True, fmt=\".1f\", linewidths=.5)\n",
    "    g.set_title(title)\n",
    "    g.set_ylabel('True label')\n",
    "    g.set_xlabel('Predicted label')\n",
    "    return g\n",
    "plot_confusion_matrix(y_test, pred_tfidf)"
   ]
  },
  {
   "cell_type": "code",
   "execution_count": 52,
   "metadata": {},
   "outputs": [
    {
     "data": {
      "text/plain": [
       "(1, 24689)"
      ]
     },
     "execution_count": 52,
     "metadata": {},
     "output_type": "execute_result"
    }
   ],
   "source": [
    "W = sgd.coef_\n",
    "W.shape"
   ]
  },
  {
   "cell_type": "code",
   "execution_count": 53,
   "metadata": {},
   "outputs": [],
   "source": [
    "tfidf_features = tfidf.get_feature_names()"
   ]
  },
  {
   "cell_type": "code",
   "execution_count": 56,
   "metadata": {},
   "outputs": [
    {
     "data": {
      "text/plain": [
       "(24689, 2)"
      ]
     },
     "execution_count": 56,
     "metadata": {},
     "output_type": "execute_result"
    }
   ],
   "source": [
    "coefs_feat =pd.DataFrame(sorted(zip(sgd.coef_[0], tfidf_features)))\n",
    "coefs_feat.shape"
   ]
  },
  {
   "cell_type": "code",
   "execution_count": 57,
   "metadata": {},
   "outputs": [
    {
     "name": "stdout",
     "output_type": "stream",
     "text": [
      "Top 10 Negative Features:-\n",
      "            0           1\n",
      "0  -0.065954  disappoint\n",
      "1  -0.052985      return\n",
      "2  -0.046651     horribl\n",
      "3  -0.046645          aw\n",
      "4  -0.046624        wast\n",
      "5  -0.043121       worst\n",
      "6  -0.042155     terribl\n",
      "7  -0.035400       threw\n",
      "8  -0.035230       stale\n",
      "9  -0.034394      refund\n",
      "10 -0.032142    unfortun\n",
      "11 -0.031464         bad\n",
      "12 -0.029209       money\n",
      "13 -0.028854     disgust\n",
      "14 -0.026473       bewar\n",
      "15 -0.024936       gross\n",
      "16 -0.024702      cancel\n",
      "17 -0.024692       sorri\n",
      "18 -0.024609       nasti\n",
      "19 -0.024011   tasteless\n",
      "20 -0.023647        yuck\n",
      "21 -0.023520        poor\n",
      "22 -0.023060       guess\n",
      "23 -0.022665     mislead\n",
      "24 -0.022483       trash\n",
      "\n",
      "\n",
      " Top 10 Positive Features:-\n",
      "               0        1\n",
      "24688  0.083897    great\n",
      "24687  0.082662     love\n",
      "24686  0.067321     good\n",
      "24685  0.058940     best\n",
      "24684  0.051266   delici\n",
      "24683  0.043118  perfect\n",
      "24682  0.040985    excel\n",
      "24681  0.037366     nice\n",
      "24680  0.034550  favorit\n",
      "24679  0.033919      use\n",
      "24678  0.032283     find\n",
      "24677  0.031437    happi\n",
      "24676  0.030972   wonder\n",
      "24675  0.030949    enjoy\n",
      "24674  0.030140    littl\n",
      "24673  0.029718     well\n",
      "24672  0.029487     make\n",
      "24671  0.029015    tasti\n",
      "24670  0.028879  definit\n",
      "24669  0.028826    price\n",
      "24668  0.028693   awesom\n",
      "24667  0.028606     amaz\n",
      "24666  0.028364     easi\n",
      "24665  0.026791   realli\n",
      "24664  0.026409    fresh\n"
     ]
    }
   ],
   "source": [
    "# To show top 25 feature from both class\n",
    "# Feature Importance\n",
    "print(\"Top 10 Negative Features:-\\n\",coefs_feat[0:25])\n",
    "print(\"\\n\\n Top 10 Positive Features:-\\n\",coefs_feat[:-26:-1])"
   ]
  },
  {
   "cell_type": "code",
   "execution_count": 58,
   "metadata": {},
   "outputs": [
    {
     "name": "stdout",
     "output_type": "stream",
     "text": [
      "variance preserved [0.00221772 0.00177883 0.00127962 0.00015287 0.00092651 0.00089082\n",
      " 0.00083601 0.00074377 0.00074112 0.0007173  0.00068841 0.00060749\n",
      " 0.00059246 0.00058216 0.00056528 0.00055448 0.00055385 0.0005291\n",
      " 0.0005285  0.0005196  0.00050038 0.0004802  0.0004774  0.00047451\n",
      " 0.00046851 0.00046567 0.00046252 0.00045701 0.00045288 0.00044858\n",
      " 0.00044231 0.00044124 0.00043825 0.00043321 0.00042728 0.000424\n",
      " 0.00041891 0.000406   0.00039303 0.00038766 0.00038618 0.00038207\n",
      " 0.00037759 0.00037441 0.00036978 0.00036819 0.00036378 0.00035767\n",
      " 0.00034905 0.00034609]\n"
     ]
    },
    {
     "ename": "MemoryError",
     "evalue": "",
     "output_type": "error",
     "traceback": [
      "\u001b[1;31m---------------------------------------------------------------------------\u001b[0m",
      "\u001b[1;31mMemoryError\u001b[0m                               Traceback (most recent call last)",
      "\u001b[1;32m<ipython-input-58-0eb788c20a5f>\u001b[0m in \u001b[0;36m<module>\u001b[1;34m()\u001b[0m\n\u001b[0;32m      3\u001b[0m \u001b[0mprint\u001b[0m\u001b[1;33m(\u001b[0m\u001b[1;34m\"variance preserved\"\u001b[0m\u001b[1;33m,\u001b[0m\u001b[0msvd\u001b[0m\u001b[1;33m.\u001b[0m\u001b[0mexplained_variance_ratio_\u001b[0m\u001b[1;33m)\u001b[0m\u001b[1;33m\u001b[0m\u001b[0m\n\u001b[0;32m      4\u001b[0m \u001b[0mstd_data1\u001b[0m\u001b[1;33m=\u001b[0m\u001b[0mcsr_matrix\u001b[0m\u001b[1;33m(\u001b[0m\u001b[1;33m(\u001b[0m\u001b[0mX_traintfidf\u001b[0m\u001b[1;33m)\u001b[0m\u001b[1;33m)\u001b[0m\u001b[1;33m\u001b[0m\u001b[0m\n\u001b[1;32m----> 5\u001b[1;33m \u001b[0mX_trainden1\u001b[0m \u001b[1;33m=\u001b[0m \u001b[0mstd_data1\u001b[0m\u001b[1;33m.\u001b[0m\u001b[0mtodense\u001b[0m\u001b[1;33m(\u001b[0m\u001b[1;33m)\u001b[0m\u001b[1;33m\u001b[0m\u001b[0m\n\u001b[0m",
      "\u001b[1;32m~\\Anaconda3\\lib\\site-packages\\scipy\\sparse\\base.py\u001b[0m in \u001b[0;36mtodense\u001b[1;34m(self, order, out)\u001b[0m\n\u001b[0;32m    844\u001b[0m             \u001b[0;31m`\u001b[0m\u001b[0mnumpy\u001b[0m\u001b[1;33m.\u001b[0m\u001b[0mmatrix\u001b[0m\u001b[0;31m`\u001b[0m \u001b[0mobject\u001b[0m \u001b[0mthat\u001b[0m \u001b[0mshares\u001b[0m \u001b[0mthe\u001b[0m \u001b[0msame\u001b[0m \u001b[0mmemory\u001b[0m\u001b[1;33m.\u001b[0m\u001b[1;33m\u001b[0m\u001b[0m\n\u001b[0;32m    845\u001b[0m         \"\"\"\n\u001b[1;32m--> 846\u001b[1;33m         \u001b[1;32mreturn\u001b[0m \u001b[0mnp\u001b[0m\u001b[1;33m.\u001b[0m\u001b[0masmatrix\u001b[0m\u001b[1;33m(\u001b[0m\u001b[0mself\u001b[0m\u001b[1;33m.\u001b[0m\u001b[0mtoarray\u001b[0m\u001b[1;33m(\u001b[0m\u001b[0morder\u001b[0m\u001b[1;33m=\u001b[0m\u001b[0morder\u001b[0m\u001b[1;33m,\u001b[0m \u001b[0mout\u001b[0m\u001b[1;33m=\u001b[0m\u001b[0mout\u001b[0m\u001b[1;33m)\u001b[0m\u001b[1;33m)\u001b[0m\u001b[1;33m\u001b[0m\u001b[0m\n\u001b[0m\u001b[0;32m    847\u001b[0m \u001b[1;33m\u001b[0m\u001b[0m\n\u001b[0;32m    848\u001b[0m     \u001b[1;32mdef\u001b[0m \u001b[0mtoarray\u001b[0m\u001b[1;33m(\u001b[0m\u001b[0mself\u001b[0m\u001b[1;33m,\u001b[0m \u001b[0morder\u001b[0m\u001b[1;33m=\u001b[0m\u001b[1;32mNone\u001b[0m\u001b[1;33m,\u001b[0m \u001b[0mout\u001b[0m\u001b[1;33m=\u001b[0m\u001b[1;32mNone\u001b[0m\u001b[1;33m)\u001b[0m\u001b[1;33m:\u001b[0m\u001b[1;33m\u001b[0m\u001b[0m\n",
      "\u001b[1;32m~\\Anaconda3\\lib\\site-packages\\scipy\\sparse\\compressed.py\u001b[0m in \u001b[0;36mtoarray\u001b[1;34m(self, order, out)\u001b[0m\n\u001b[0;32m    945\u001b[0m         \u001b[1;32mif\u001b[0m \u001b[0mout\u001b[0m \u001b[1;32mis\u001b[0m \u001b[1;32mNone\u001b[0m \u001b[1;32mand\u001b[0m \u001b[0morder\u001b[0m \u001b[1;32mis\u001b[0m \u001b[1;32mNone\u001b[0m\u001b[1;33m:\u001b[0m\u001b[1;33m\u001b[0m\u001b[0m\n\u001b[0;32m    946\u001b[0m             \u001b[0morder\u001b[0m \u001b[1;33m=\u001b[0m \u001b[0mself\u001b[0m\u001b[1;33m.\u001b[0m\u001b[0m_swap\u001b[0m\u001b[1;33m(\u001b[0m\u001b[1;34m'cf'\u001b[0m\u001b[1;33m)\u001b[0m\u001b[1;33m[\u001b[0m\u001b[1;36m0\u001b[0m\u001b[1;33m]\u001b[0m\u001b[1;33m\u001b[0m\u001b[0m\n\u001b[1;32m--> 947\u001b[1;33m         \u001b[0mout\u001b[0m \u001b[1;33m=\u001b[0m \u001b[0mself\u001b[0m\u001b[1;33m.\u001b[0m\u001b[0m_process_toarray_args\u001b[0m\u001b[1;33m(\u001b[0m\u001b[0morder\u001b[0m\u001b[1;33m,\u001b[0m \u001b[0mout\u001b[0m\u001b[1;33m)\u001b[0m\u001b[1;33m\u001b[0m\u001b[0m\n\u001b[0m\u001b[0;32m    948\u001b[0m         \u001b[1;32mif\u001b[0m \u001b[1;32mnot\u001b[0m \u001b[1;33m(\u001b[0m\u001b[0mout\u001b[0m\u001b[1;33m.\u001b[0m\u001b[0mflags\u001b[0m\u001b[1;33m.\u001b[0m\u001b[0mc_contiguous\u001b[0m \u001b[1;32mor\u001b[0m \u001b[0mout\u001b[0m\u001b[1;33m.\u001b[0m\u001b[0mflags\u001b[0m\u001b[1;33m.\u001b[0m\u001b[0mf_contiguous\u001b[0m\u001b[1;33m)\u001b[0m\u001b[1;33m:\u001b[0m\u001b[1;33m\u001b[0m\u001b[0m\n\u001b[0;32m    949\u001b[0m             \u001b[1;32mraise\u001b[0m \u001b[0mValueError\u001b[0m\u001b[1;33m(\u001b[0m\u001b[1;34m'Output array must be C or F contiguous'\u001b[0m\u001b[1;33m)\u001b[0m\u001b[1;33m\u001b[0m\u001b[0m\n",
      "\u001b[1;32m~\\Anaconda3\\lib\\site-packages\\scipy\\sparse\\base.py\u001b[0m in \u001b[0;36m_process_toarray_args\u001b[1;34m(self, order, out)\u001b[0m\n\u001b[0;32m   1182\u001b[0m             \u001b[1;32mreturn\u001b[0m \u001b[0mout\u001b[0m\u001b[1;33m\u001b[0m\u001b[0m\n\u001b[0;32m   1183\u001b[0m         \u001b[1;32melse\u001b[0m\u001b[1;33m:\u001b[0m\u001b[1;33m\u001b[0m\u001b[0m\n\u001b[1;32m-> 1184\u001b[1;33m             \u001b[1;32mreturn\u001b[0m \u001b[0mnp\u001b[0m\u001b[1;33m.\u001b[0m\u001b[0mzeros\u001b[0m\u001b[1;33m(\u001b[0m\u001b[0mself\u001b[0m\u001b[1;33m.\u001b[0m\u001b[0mshape\u001b[0m\u001b[1;33m,\u001b[0m \u001b[0mdtype\u001b[0m\u001b[1;33m=\u001b[0m\u001b[0mself\u001b[0m\u001b[1;33m.\u001b[0m\u001b[0mdtype\u001b[0m\u001b[1;33m,\u001b[0m \u001b[0morder\u001b[0m\u001b[1;33m=\u001b[0m\u001b[0morder\u001b[0m\u001b[1;33m)\u001b[0m\u001b[1;33m\u001b[0m\u001b[0m\n\u001b[0m\u001b[0;32m   1185\u001b[0m \u001b[1;33m\u001b[0m\u001b[0m\n\u001b[0;32m   1186\u001b[0m \u001b[1;33m\u001b[0m\u001b[0m\n",
      "\u001b[1;31mMemoryError\u001b[0m: "
     ]
    }
   ],
   "source": [
    "svd = TruncatedSVD(n_components=50)\n",
    "std_data1=svd.fit_transform(X_traintfidf)\n",
    "print(\"variance preserved\",svd.explained_variance_ratio_)\n",
    "std_data1=csr_matrix((X_traintfidf))\n",
    "X_trainden1 = std_data1.todense()"
   ]
  },
  {
   "cell_type": "code",
   "execution_count": null,
   "metadata": {},
   "outputs": [],
   "source": [
    "model_rbf.fit(X_trainden1,y_train)\n",
    "print(model_linear.best_estimator_)"
   ]
  },
  {
   "cell_type": "markdown",
   "metadata": {
    "colab_type": "text",
    "id": "CgADwlVFD-iL"
   },
   "source": [
    "##### Accuracy Report with best C"
   ]
  },
  {
   "cell_type": "code",
   "execution_count": 0,
   "metadata": {
    "colab": {},
    "colab_type": "code",
    "id": "AjYzz4nSD-iO",
    "outputId": "574e3c9b-385d-462c-ed14-04062e5ff2d4"
   },
   "outputs": [
    {
     "name": "stdout",
     "output_type": "stream",
     "text": [
      "\n",
      "The accuracy of the classifier is 90.413333%\n",
      "accuracy on train data is 96.39999999999999%\n",
      "error on train data is 3.6000000000000085%\n",
      "error on test data is 9.586666666666659%\n"
     ]
    }
   ],
   "source": [
    "\n",
    "clf = SVC(C=1000,gamma=0.001)\n",
    "\n",
    "# fitting the model\n",
    "clf.fit(X_traintfidf, y_train)\n",
    "\n",
    "# predict the response\n",
    "\n",
    "predicted_labels = []\n",
    "for i in range(0,7500 , 500):\n",
    "    predicted_labels.append(clf.predict(X_testtfidf[i:i+500]))\n",
    "\n",
    "pred_tfidf = np.hstack(predicted_labels)\n",
    "acc_tfidf = accuracy_score(y_test, pred_tfidf) * 100\n",
    "print('\\nThe accuracy of the classifier is %f%%' %(acc_tfidf))\n",
    "for i in range(0,17500 , 500):\n",
    "    acc_train_tfidf = clf.score(X_traintfidf[i:i+500],y_train[i:i+500])*100\n",
    "print(\"accuracy on train data is {}%\".format(acc_train_tfidf))\n",
    "error_train_tfidf = (100-acc_train_tfidf)\n",
    "print(\"error on train data is {}%\".format(error_train_tfidf))\n",
    "error_test_tfidf = (100-acc_tfidf)\n",
    "print(\"error on test data is {}%\".format(error_test_tfidf))"
   ]
  },
  {
   "cell_type": "markdown",
   "metadata": {
    "colab_type": "text",
    "id": "vgmbK_ptD-iT"
   },
   "source": [
    "##### Logistic Regression usin RandomSearch CV "
   ]
  },
  {
   "cell_type": "code",
   "execution_count": 0,
   "metadata": {
    "colab": {},
    "colab_type": "code",
    "id": "TNlnC64mD-iU",
    "outputId": "94795206-0f67-4a5b-b730-4baaa6b2a009"
   },
   "outputs": [
    {
     "name": "stdout",
     "output_type": "stream",
     "text": [
      "SVC(C=1000, cache_size=200, class_weight=None, coef0=0.0,\n",
      "  decision_function_shape='ovr', degree=3, gamma=0.001, kernel='rbf',\n",
      "  max_iter=-1, probability=False, random_state=None, shrinking=True,\n",
      "  tol=0.001, verbose=False)\n"
     ]
    }
   ],
   "source": [
    "model_random.fit(X_traintfidf,y_train)\n",
    "print(model.best_estimator_)"
   ]
  },
  {
   "cell_type": "markdown",
   "metadata": {
    "colab_type": "text",
    "id": "Ml45JrA0D-iZ"
   },
   "source": [
    "##### Accuracy Report with best C"
   ]
  },
  {
   "cell_type": "code",
   "execution_count": 0,
   "metadata": {
    "colab": {},
    "colab_type": "code",
    "id": "BM0TNPChD-ia",
    "outputId": "0fa59a8d-2a3a-4c4d-f80f-5c9937d8ae53"
   },
   "outputs": [
    {
     "name": "stdout",
     "output_type": "stream",
     "text": [
      "\n",
      "The accuracy of the classifier is 90.413333%\n",
      "accuracy on train data is 96.39999999999999%\n",
      "error on train data is 3.6000000000000085%\n",
      "error on test data is 9.586666666666659%\n"
     ]
    }
   ],
   "source": [
    "\n",
    "clf1 = SVC(C=1000,gamma=0.001)\n",
    "\n",
    "# fitting the model\n",
    "clf1.fit(X_traintfidf, y_train)\n",
    "\n",
    "# predict the response\n",
    "\n",
    "predicted_labels = []\n",
    "for i in range(0,7500 , 500):\n",
    "    predicted_labels.append(clf1.predict(X_testtfidf[i:i+500]))\n",
    "\n",
    "pred_tfidf = np.hstack(predicted_labels)\n",
    "acc_tfidf = accuracy_score(y_test, pred_tfidf) * 100\n",
    "print('\\nThe accuracy of the classifier is %f%%' %(acc_tfidf))\n",
    "for i in range(0,17500 , 500):\n",
    "    acc_train_tfidf = clf1.score(X_traintfidf[i:i+500],y_train[i:i+500])*100\n",
    "print(\"accuracy on train data is {}%\".format(acc_train_tfidf))\n",
    "error_train_tfidf = (100-acc_train_tfidf)\n",
    "print(\"error on train data is {}%\".format(error_train_tfidf))\n",
    "error_test_tfidf = (100-acc_tfidf)\n",
    "print(\"error on test data is {}%\".format(error_test_tfidf))"
   ]
  },
  {
   "cell_type": "markdown",
   "metadata": {
    "colab_type": "text",
    "id": "fsyZ_y5JD-ie"
   },
   "source": [
    "#### Confusion Matrix"
   ]
  },
  {
   "cell_type": "code",
   "execution_count": 0,
   "metadata": {
    "colab": {},
    "colab_type": "code",
    "id": "TdkqOFHUD-if",
    "outputId": "4833ed59-a95a-4b92-ed08-deeabaa47eae"
   },
   "outputs": [
    {
     "data": {
      "text/plain": [
       "array([[ 3155,  1993],\n",
       "       [ 2143, 22709]], dtype=int64)"
      ]
     },
     "execution_count": 118,
     "metadata": {
      "tags": []
     },
     "output_type": "execute_result"
    }
   ],
   "source": [
    "from sklearn.metrics import confusion_matrix\n",
    "confusion_matrix(y_test, pred_tfidf)"
   ]
  },
  {
   "cell_type": "code",
   "execution_count": 0,
   "metadata": {
    "colab": {},
    "colab_type": "code",
    "id": "HV-v4ylYD-ik",
    "outputId": "536eea1d-835e-48c3-ec3e-1fa50f7e839e"
   },
   "outputs": [
    {
     "data": {
      "text/plain": [
       "<matplotlib.axes._subplots.AxesSubplot at 0x279b5da0>"
      ]
     },
     "execution_count": 76,
     "metadata": {
      "tags": []
     },
     "output_type": "execute_result"
    },
    {
     "data": {
      "image/png": "[encoded data removed]",
      "text/plain": [
       "<Figure size 432x288 with 2 Axes>"
      ]
     },
     "metadata": {
      "tags": []
     },
     "output_type": "display_data"
    }
   ],
   "source": [
    "import seaborn as sns\n",
    "def plot_confusion_matrix(targets, predictions,title='Confusion matrix'):\n",
    "    \"\"\"Plot Confusion Matrix.\"\"\"\n",
    "    cm = confusion_matrix(targets, predictions)\n",
    "   # cm = 100 * cm.astype('float') / cm.sum(axis=1)[:, np.newaxis]\n",
    " \n",
    "    df = pd.DataFrame(data=cm)\n",
    "    g = sns.heatmap(df, annot=True, fmt=\".1f\", linewidths=.5)\n",
    "    g.set_title(title)\n",
    "    g.set_ylabel('True label')\n",
    "    g.set_xlabel('Predicted label')\n",
    "    return g\n",
    "plot_confusion_matrix(y_test, pred_tfidf)"
   ]
  },
  {
   "cell_type": "markdown",
   "metadata": {
    "colab_type": "text",
    "id": "VeWhr5uQD-io"
   },
   "source": [
    "#### Classification Report "
   ]
  },
  {
   "cell_type": "code",
   "execution_count": 32,
   "metadata": {
    "colab": {},
    "colab_type": "code",
    "id": "gLi0z_J8D-ip",
    "outputId": "83ab0177-9b4d-47dd-dd43-8caaeb4c988b"
   },
   "outputs": [
    {
     "ename": "NameError",
     "evalue": "name 'pred_tfidf' is not defined",
     "output_type": "error",
     "traceback": [
      "\u001b[1;31m---------------------------------------------------------------------------\u001b[0m",
      "\u001b[1;31mNameError\u001b[0m                                 Traceback (most recent call last)",
      "\u001b[1;32m<ipython-input-32-bea964f5b12b>\u001b[0m in \u001b[0;36m<module>\u001b[1;34m()\u001b[0m\n\u001b[0;32m      1\u001b[0m \u001b[1;32mfrom\u001b[0m \u001b[0msklearn\u001b[0m\u001b[1;33m.\u001b[0m\u001b[0mmetrics\u001b[0m \u001b[1;32mimport\u001b[0m \u001b[0mclassification_report\u001b[0m\u001b[1;33m\u001b[0m\u001b[0m\n\u001b[1;32m----> 2\u001b[1;33m \u001b[0mprint\u001b[0m\u001b[1;33m(\u001b[0m\u001b[0mclassification_report\u001b[0m\u001b[1;33m(\u001b[0m\u001b[0my_test\u001b[0m\u001b[1;33m,\u001b[0m \u001b[0mpred_tfidf\u001b[0m\u001b[1;33m)\u001b[0m\u001b[1;33m)\u001b[0m\u001b[1;33m\u001b[0m\u001b[0m\n\u001b[0m",
      "\u001b[1;31mNameError\u001b[0m: name 'pred_tfidf' is not defined"
     ]
    }
   ],
   "source": [
    "from sklearn.metrics import classification_report\n",
    "print(classification_report(y_test, pred_tfidf))"
   ]
  },
  {
   "cell_type": "markdown",
   "metadata": {
    "colab_type": "text",
    "id": "Qzyc8giLD-iu"
   },
   "source": [
    "# Word TO Vec"
   ]
  },
  {
   "cell_type": "code",
   "execution_count": 7,
   "metadata": {
    "colab": {},
    "colab_type": "code",
    "id": "6QljdAnND-i1"
   },
   "outputs": [],
   "source": [
    "import re\n",
    "\n",
    "def cleanhtml(sentence): #function to clean the word of any html-tags\n",
    "    cleanr = re.compile('<.*?>')\n",
    "    cleantext = re.sub(cleanr, ' ', sentence)\n",
    "    return cleantext\n",
    "def cleanpunc(sentence): #function to clean the word of any punctuation or special characters\n",
    "    cleaned = re.sub(r'[?|!|\\'|\"|#]',r'',sentence)\n",
    "    cleaned = re.sub(r'[.|,|)|(|\\|/]',r' ',cleaned)\n",
    "    return  cleaned"
   ]
  },
  {
   "cell_type": "code",
   "execution_count": 8,
   "metadata": {
    "colab": {},
    "colab_type": "code",
    "id": "MIf8DTitD-i5"
   },
   "outputs": [
    {
     "name": "stderr",
     "output_type": "stream",
     "text": [
      "C:\\Users\\Admin\\Anaconda3\\lib\\site-packages\\gensim\\utils.py:1212: UserWarning: detected Windows; aliasing chunkize to chunkize_serial\n",
      "  warnings.warn(\"detected Windows; aliasing chunkize to chunkize_serial\")\n"
     ]
    }
   ],
   "source": [
    "# Train your own Word2Vec model using your own train corpus\n",
    "import gensim\n",
    "list_of_sent = []\n",
    "for sent in X_train:\n",
    "    filtered_sentence = []\n",
    "    sent=cleanhtml(sent)\n",
    "    for w in sent.split():\n",
    "        for cleaned_words in cleanpunc(w).split():\n",
    "            if(cleaned_words.isalpha()):    \n",
    "                filtered_sentence.append(cleaned_words.lower())\n",
    "            else:\n",
    "                continue \n",
    "    list_of_sent.append(filtered_sentence)"
   ]
  },
  {
   "cell_type": "code",
   "execution_count": 9,
   "metadata": {
    "colab": {
     "base_uri": "https://localhost:8080/",
     "height": 67
    },
    "colab_type": "code",
    "id": "B-ZPgaB1D-i9",
    "outputId": "d41f9bdf-aab8-4f54-c8a5-7d52e4844bc0"
   },
   "outputs": [
    {
     "name": "stdout",
     "output_type": "stream",
     "text": [
      "big lover fig jam fig jam uniqu flavor kind mix light kadoda fig dark mission fig must tri\n",
      "*****************************************************************\n",
      "['thought', 'grove', 'hot', 'chocol', 'sweet', 'also', 'tast', 'would', 'recommend', 'anybodi']\n"
     ]
    }
   ],
   "source": [
    "print(df['CleanedText'].values[0])\n",
    "print(\"*****************************************************************\")\n",
    "print(list_of_sent[0])"
   ]
  },
  {
   "cell_type": "code",
   "execution_count": 10,
   "metadata": {
    "colab": {},
    "colab_type": "code",
    "id": "bK7S5ophD-jG",
    "scrolled": true
   },
   "outputs": [],
   "source": [
    "# min_count = 5 considers only words that occured atleast 5 times\n",
    "\n",
    "from gensim.models import Word2Vec\n",
    "w2v_model=Word2Vec(list_of_sent,min_count=5,size=50, workers=4)"
   ]
  },
  {
   "cell_type": "code",
   "execution_count": 11,
   "metadata": {
    "colab": {
     "base_uri": "https://localhost:8080/",
     "height": 70
    },
    "colab_type": "code",
    "id": "po7zkOI5D-jJ",
    "outputId": "e5d1d662-af3c-45e4-e5a0-4f19f114f392"
   },
   "outputs": [
    {
     "name": "stdout",
     "output_type": "stream",
     "text": [
      "number of words that occured minimum 5 times  8522\n",
      "sample words  ['thought', 'grove', 'hot', 'chocol', 'sweet', 'also', 'tast', 'would', 'recommend', 'anybodi', 'great', 'product', 'littl', 'goe', 'long', 'way', 'husband', 'diabet', 'watch', 'carb', 'close', 'use', 'regular', 'granul', 'splenda', 'knew', 'ad', 'lot', 'unnecessari', 'diet', 'ill', 'buy', 'run', 'thank', 'amazon', 'give', 'mani', 'option', 'bread', 'wonder', 'textur', 'sandwich', 'toast', 'make', 'crouton', 'crumb', 'negat', 'larg', 'amount', 'butter']\n"
     ]
    }
   ],
   "source": [
    "w2v_words = list(w2v_model.wv.vocab)\n",
    "print(\"number of words that occured minimum 5 times \",len(w2v_words))\n",
    "print(\"sample words \", w2v_words[0:50])"
   ]
  },
  {
   "cell_type": "code",
   "execution_count": 12,
   "metadata": {
    "colab": {},
    "colab_type": "code",
    "id": "wDVcKAXjD-jO"
   },
   "outputs": [],
   "source": [
    "# Train your own Word2Vec model using your own test corpus\n",
    "import gensim\n",
    "list_of_sent_test = []\n",
    "for sent in X_test:\n",
    "    filtered_sentence1 = []\n",
    "    sent=cleanhtml(sent)\n",
    "    for w in sent.split():\n",
    "        for cleaned_words in cleanpunc(w).split():\n",
    "            if(cleaned_words.isalpha()):    \n",
    "                filtered_sentence1.append(cleaned_words.lower())\n",
    "            else:\n",
    "                continue \n",
    "    list_of_sent_test.append(filtered_sentence1)"
   ]
  },
  {
   "cell_type": "code",
   "execution_count": 13,
   "metadata": {
    "colab": {},
    "colab_type": "code",
    "id": "vVhHugUND-jS"
   },
   "outputs": [],
   "source": [
    "w2v_model=gensim.models.Word2Vec(list_of_sent_test, min_count=5, size=50, workers=4)"
   ]
  },
  {
   "cell_type": "markdown",
   "metadata": {
    "colab_type": "text",
    "id": "U4XkYagmD-jX"
   },
   "source": [
    "# Avg W2V, TFIDF-W2V"
   ]
  },
  {
   "cell_type": "code",
   "execution_count": 15,
   "metadata": {
    "colab": {
     "base_uri": "https://localhost:8080/",
     "height": 67
    },
    "colab_type": "code",
    "id": "m8bSSKjvD-jY",
    "outputId": "4940bb99-db2c-4930-de02-5fd9d5223747"
   },
   "outputs": [
    {
     "name": "stderr",
     "output_type": "stream",
     "text": [
      "100%|██████████████████████████████████| 42000/42000 [00:15<00:00, 2718.64it/s]\n"
     ]
    },
    {
     "name": "stdout",
     "output_type": "stream",
     "text": [
      "42000\n",
      "50\n"
     ]
    }
   ],
   "source": [
    "from tqdm import tqdm\n",
    "# average Word2Vec\n",
    "# compute average word2vec for each review.\n",
    "sent_vectors = []; # the avg-w2v for each sentence/review is stored in this list\n",
    "for sent in tqdm(list_of_sent): # for each review/sentence\n",
    "    sent_vec = np.zeros(50) # as word vectors are of zero length\n",
    "    cnt_words =0; # num of words with a valid vector in the sentence/review\n",
    "    for word in sent: # for each word in a review/sentence\n",
    "        try:\n",
    "            vec = w2v_model.wv[word]\n",
    "            sent_vec += vec\n",
    "            cnt_words += 1\n",
    "        except:\n",
    "            pass\n",
    "    sent_vec /= cnt_words\n",
    "    sent_vectors.append(sent_vec)\n",
    "print(len(sent_vectors))\n",
    "print(len(sent_vectors[0]))\n"
   ]
  },
  {
   "cell_type": "code",
   "execution_count": 16,
   "metadata": {
    "colab": {
     "base_uri": "https://localhost:8080/",
     "height": 67
    },
    "colab_type": "code",
    "id": "2YwMHR_LD-je",
    "outputId": "7b0d9eaa-4a90-4833-f3b7-f5fd72dc7e56"
   },
   "outputs": [
    {
     "name": "stderr",
     "output_type": "stream",
     "text": [
      "100%|██████████████████████████████████| 18000/18000 [00:06<00:00, 2645.51it/s]\n"
     ]
    },
    {
     "name": "stdout",
     "output_type": "stream",
     "text": [
      "18000\n",
      "50\n"
     ]
    }
   ],
   "source": [
    "# average Word2Vec\n",
    "# compute average word2vec for each review.\n",
    "sent_vectors_test = []; # the avg-w2v for each sentence/review is stored in this list\n",
    "for sent in tqdm(list_of_sent_test): # for each review/sentence\n",
    "    sent_vec = np.zeros(50) # as word vectors are of zero length\n",
    "    cnt_words =0; # num of words with a valid vector in the sentence/review\n",
    "    for word in sent: # for each word in a review/sentence\n",
    "        try:\n",
    "            vec = w2v_model.wv[word]\n",
    "            sent_vec += vec\n",
    "            cnt_words += 1\n",
    "        except:\n",
    "            pass\n",
    "    sent_vec /= cnt_words\n",
    "    sent_vectors_test.append(sent_vec)\n",
    "print(len(sent_vectors_test))\n",
    "print(len(sent_vectors_test[0]))\n"
   ]
  },
  {
   "cell_type": "code",
   "execution_count": 22,
   "metadata": {
    "colab": {},
    "colab_type": "code",
    "id": "5_fPmlexD-jh"
   },
   "outputs": [],
   "source": [
    "X_trainw2v = np.array(sent_vectors)\n",
    "X_testw2v=np.array(sent_vectors_test)\n",
    "X_trainw2v=np.nan_to_num(X_trainw2v)\n",
    "X_testw2v=np.nan_to_num(X_testw2v)"
   ]
  },
  {
   "cell_type": "code",
   "execution_count": 23,
   "metadata": {
    "colab": {},
    "colab_type": "code",
    "id": "Uz5nD4ajD-jp"
   },
   "outputs": [],
   "source": [
    "std_scale = StandardScaler(with_mean = False).fit(X_trainw2v)\n",
    "X_trainw2v = std_scale.transform(X_trainw2v)\n",
    "X_testw2v  = std_scale.transform(X_testw2v)"
   ]
  },
  {
   "cell_type": "markdown",
   "metadata": {
    "colab_type": "text",
    "id": "nuclIyHnD-jt"
   },
   "source": [
    "##### Logistic Regression usin GridSearch CV "
   ]
  },
  {
   "cell_type": "code",
   "execution_count": 30,
   "metadata": {
    "colab": {
     "base_uri": "https://localhost:8080/",
     "height": 84
    },
    "colab_type": "code",
    "id": "LV8hl6CbD-ju",
    "outputId": "9654dd04-b93b-4d43-d942-8787d20abc87"
   },
   "outputs": [
    {
     "name": "stderr",
     "output_type": "stream",
     "text": [
      "C:\\Users\\Admin\\Anaconda3\\lib\\site-packages\\sklearn\\metrics\\classification.py:1135: UndefinedMetricWarning: F-score is ill-defined and being set to 0.0 due to no predicted samples.\n",
      "  'precision', 'predicted', average, warn_for)\n"
     ]
    },
    {
     "name": "stdout",
     "output_type": "stream",
     "text": [
      "SGDClassifier(alpha=0.005, average=False, class_weight=None, epsilon=0.1,\n",
      "       eta0=0.0, fit_intercept=True, l1_ratio=0.15,\n",
      "       learning_rate='optimal', loss='hinge', max_iter=None, n_iter=None,\n",
      "       n_jobs=1, penalty='l2', power_t=0.5, random_state=None,\n",
      "       shuffle=True, tol=None, verbose=0, warm_start=False)\n"
     ]
    }
   ],
   "source": [
    "model_linear.fit(X_trainw2v,y_train)\n",
    "print(model_linear.best_estimator_)"
   ]
  },
  {
   "cell_type": "code",
   "execution_count": 33,
   "metadata": {},
   "outputs": [
    {
     "name": "stdout",
     "output_type": "stream",
     "text": [
      "\n",
      "The accuracy of the classifier is 86.144444%\n",
      "accuracy on train data is 86.18571428571428%\n",
      "error on train data is 13.814285714285717%\n",
      "error on test data is 13.855555555555554%\n",
      "-------------------------------------------------\n",
      "             precision    recall  f1-score   support\n",
      "\n",
      "   negative       0.73      0.32      0.44      3125\n",
      "   positive       0.87      0.98      0.92     14875\n",
      "\n",
      "avg / total       0.85      0.86      0.84     18000\n",
      "\n"
     ]
    }
   ],
   "source": [
    "sgd = SGDClassifier(alpha=0.005)\n",
    "\n",
    "# fitting the model\n",
    "sgd.fit(X_trainw2v, y_train)\n",
    "\n",
    "# predict the response\n",
    "pred_w2v=sgd.predict(X_testw2v)\n",
    "\n",
    "acc_w2v = accuracy_score(y_test, pred_w2v) * 100\n",
    "print('\\nThe accuracy of the classifier is %f%%' %(acc_w2v))\n",
    "acc_train_w2v = sgd.score(X_trainw2v,y_train)*100\n",
    "print(\"accuracy on train data is {}%\".format(acc_train_w2v))\n",
    "error_train_w2v = (100-acc_train_w2v)\n",
    "print(\"error on train data is {}%\".format(error_train_w2v))\n",
    "error_test_w2v = (100-acc_w2v)\n",
    "print(\"error on test data is {}%\".format(error_test_w2v))\n",
    "print(\"-------------------------------------------------\")\n",
    "print(classification_report(y_test, pred_w2v))"
   ]
  },
  {
   "cell_type": "code",
   "execution_count": 34,
   "metadata": {},
   "outputs": [
    {
     "data": {
      "text/plain": [
       "<matplotlib.axes._subplots.AxesSubplot at 0x5429eb8>"
      ]
     },
     "execution_count": 34,
     "metadata": {},
     "output_type": "execute_result"
    },
    {
     "data": {
      "image/png": "[encoded data removed]",
      "text/plain": [
       "<Figure size 432x288 with 2 Axes>"
      ]
     },
     "metadata": {},
     "output_type": "display_data"
    }
   ],
   "source": [
    "import seaborn as sns\n",
    "def plot_confusion_matrix(targets, predictions,title='Confusion matrix', cmap=\"Blues\"):\n",
    "    \"\"\"Plot Confusion Matrix.\"\"\"\n",
    "    cm = confusion_matrix(targets, predictions)\n",
    "    df = pd.DataFrame(data=cm)\n",
    "    g = sns.heatmap(df, annot=True, fmt=\".1f\", linewidths=.5,cmap=cmap)\n",
    "    g.set_title(title)\n",
    "    g.set_ylabel('True label')\n",
    "    g.set_xlabel('Predicted label')\n",
    "    return g\n",
    "plot_confusion_matrix(y_test, pred_w2v)"
   ]
  },
  {
   "cell_type": "code",
   "execution_count": 35,
   "metadata": {},
   "outputs": [
    {
     "name": "stdout",
     "output_type": "stream",
     "text": [
      "SGDClassifier(alpha=0.09277682708475998, average=False, class_weight=None,\n",
      "       epsilon=0.1, eta0=0.0, fit_intercept=True, l1_ratio=0.15,\n",
      "       learning_rate='optimal', loss='hinge', max_iter=None, n_iter=None,\n",
      "       n_jobs=1, penalty='l2', power_t=0.5, random_state=None,\n",
      "       shuffle=True, tol=None, verbose=0, warm_start=False)\n"
     ]
    }
   ],
   "source": [
    "model_randomlinear.fit(X_trainw2v,y_train)\n",
    "print(model_randomlinear.best_estimator_)"
   ]
  },
  {
   "cell_type": "code",
   "execution_count": 36,
   "metadata": {},
   "outputs": [
    {
     "name": "stdout",
     "output_type": "stream",
     "text": [
      "\n",
      "The accuracy of the classifier is 83.705556%\n",
      "accuracy on train data is 83.85714285714285%\n",
      "error on train data is 16.142857142857153%\n",
      "error on test data is 16.29444444444445%\n",
      "-------------------------------------------------\n",
      "             precision    recall  f1-score   support\n",
      "\n",
      "   negative       0.83      0.08      0.14      3125\n",
      "   positive       0.84      1.00      0.91     14875\n",
      "\n",
      "avg / total       0.84      0.84      0.78     18000\n",
      "\n"
     ]
    }
   ],
   "source": [
    "sgd = SGDClassifier(alpha=0.093)\n",
    "\n",
    "# fitting the model\n",
    "sgd.fit(X_trainw2v, y_train)\n",
    "\n",
    "# predict the response\n",
    "pred_w2v=sgd.predict(X_testw2v)\n",
    "\n",
    "acc_w2v = accuracy_score(y_test, pred_w2v) * 100\n",
    "print('\\nThe accuracy of the classifier is %f%%' %(acc_w2v))\n",
    "acc_train_w2v = sgd.score(X_trainw2v,y_train)*100\n",
    "print(\"accuracy on train data is {}%\".format(acc_train_w2v))\n",
    "error_train_w2v = (100-acc_train_w2v)\n",
    "print(\"error on train data is {}%\".format(error_train_w2v))\n",
    "error_test_w2v = (100-acc_w2v)\n",
    "print(\"error on test data is {}%\".format(error_test_w2v))\n",
    "print(\"-------------------------------------------------\")\n",
    "print(classification_report(y_test, pred_w2v))"
   ]
  },
  {
   "cell_type": "code",
   "execution_count": 37,
   "metadata": {},
   "outputs": [
    {
     "data": {
      "text/plain": [
       "<matplotlib.axes._subplots.AxesSubplot at 0x55064a8>"
      ]
     },
     "execution_count": 37,
     "metadata": {},
     "output_type": "execute_result"
    },
    {
     "data": {
      "image/png": "[encoded data removed]",
      "text/plain": [
       "<Figure size 432x288 with 2 Axes>"
      ]
     },
     "metadata": {},
     "output_type": "display_data"
    }
   ],
   "source": [
    "import seaborn as sns\n",
    "def plot_confusion_matrix(targets, predictions,title='Confusion matrix', cmap=\"Blues\"):\n",
    "    \"\"\"Plot Confusion Matrix.\"\"\"\n",
    "    cm = confusion_matrix(targets, predictions)\n",
    "    df = pd.DataFrame(data=cm)\n",
    "    g = sns.heatmap(df, annot=True, fmt=\".1f\", linewidths=.5,cmap=cmap)\n",
    "    g.set_title(title)\n",
    "    g.set_ylabel('True label')\n",
    "    g.set_xlabel('Predicted label')\n",
    "    return g\n",
    "plot_confusion_matrix(y_test, pred_w2v)"
   ]
  },
  {
   "cell_type": "code",
   "execution_count": 42,
   "metadata": {},
   "outputs": [
    {
     "name": "stdout",
     "output_type": "stream",
     "text": [
      "variance preserved [0.02417816 0.19035812 0.14657396 0.09201056 0.07042017 0.06677584\n",
      " 0.06375892 0.05121775 0.04561761 0.03729411]\n"
     ]
    }
   ],
   "source": [
    "svd = TruncatedSVD(n_components=10)\n",
    "std_data2=svd.fit_transform(X_trainw2v)\n",
    "print(\"variance preserved\",svd.explained_variance_ratio_)\n",
    "std_data2=csr_matrix((X_trainw2v))\n",
    "X_trainden2 = std_data2.todense()"
   ]
  },
  {
   "cell_type": "code",
   "execution_count": null,
   "metadata": {},
   "outputs": [],
   "source": [
    "model_rbf.fit(X_trainden2,y_train)\n",
    "print(model_rbf.best_estimator_)"
   ]
  },
  {
   "cell_type": "markdown",
   "metadata": {
    "colab_type": "text",
    "id": "K6MNdP8JD-jx"
   },
   "source": [
    "#####  AccuracyScore with Best C"
   ]
  },
  {
   "cell_type": "code",
   "execution_count": 32,
   "metadata": {
    "colab": {
     "base_uri": "https://localhost:8080/",
     "height": 101
    },
    "colab_type": "code",
    "id": "CMWpkhqcD-jx",
    "outputId": "8000f889-8b50-4877-b25d-9fc613adc66c"
   },
   "outputs": [
    {
     "name": "stdout",
     "output_type": "stream",
     "text": [
      "\n",
      "The accuracy of the classifier is 83.720000%\n",
      "accuracy on train data is 93.2%\n",
      "error on train data is 6.799999999999997%\n",
      "error on test data is 16.28%\n"
     ]
    }
   ],
   "source": [
    "\n",
    "clf = SVC(C=1000,gamma=0.01)\n",
    "\n",
    "# fitting the model\n",
    "clf.fit(X_trainw2v, y_train)\n",
    "\n",
    "# predict the response\n",
    "\n",
    "predicted_labels = []\n",
    "for i in range(0,7500 , 500):\n",
    "    predicted_labels.append(clf.predict(X_testw2v[i:i+500]))\n",
    "\n",
    "pred_w2v = np.hstack(predicted_labels)\n",
    "acc_w2v = accuracy_score(y_test, pred_w2v) * 100\n",
    "print('\\nThe accuracy of the classifier is %f%%' %(acc_w2v))\n",
    "for i in range(0,17500 , 500):\n",
    "    acc_train_w2v = clf.score(X_trainw2v[i:i+500],y_train[i:i+500])*100\n",
    "print(\"accuracy on train data is {}%\".format(acc_train_w2v))\n",
    "error_train_w2v = (100-acc_train_w2v)\n",
    "print(\"error on train data is {}%\".format(error_train_w2v))\n",
    "error_test_w2v = (100-acc_w2v)\n",
    "print(\"error on test data is {}%\".format(error_test_w2v))"
   ]
  },
  {
   "cell_type": "markdown",
   "metadata": {
    "colab_type": "text",
    "id": "N6Jg6_rAD-j1"
   },
   "source": [
    "##### Logistic Regression usin RandomSearch CV "
   ]
  },
  {
   "cell_type": "code",
   "execution_count": 40,
   "metadata": {
    "colab": {
     "base_uri": "https://localhost:8080/",
     "height": 188
    },
    "colab_type": "code",
    "id": "VTZWJHSHD-j3",
    "outputId": "327c3901-4fad-4f89-e535-37f0101e093f"
   },
   "outputs": [
    {
     "data": {
      "text/plain": [
       "RandomizedSearchCV(cv=3, error_score='raise',\n",
       "          estimator=SVC(C=1.0, cache_size=200, class_weight=None, coef0=0.0,\n",
       "  decision_function_shape='ovr', degree=3, gamma='auto', kernel='rbf',\n",
       "  max_iter=-1, probability=False, random_state=None, shrinking=True,\n",
       "  tol=0.001, verbose=False),\n",
       "          fit_params={}, iid=True, n_iter=15, n_jobs=1,\n",
       "          param_distributions={'C': <scipy.stats._distn_infrastructure.rv_frozen object at 0x7ff4b9d5e8d0>, 'gamma': [1000, 500, 100, 50, 10, 5, 1, 0.5, 0.1, 0.05, 0.01, 0.005, 0.001, 0.0005, 0.0001]},\n",
       "          pre_dispatch='2*n_jobs', random_state=None, refit=True,\n",
       "          scoring=make_scorer(f1_score, pos_label=negative), verbose=0)"
      ]
     },
     "execution_count": 40,
     "metadata": {
      "tags": []
     },
     "output_type": "execute_result"
    }
   ],
   "source": [
    "model_rbf.fit(X_trainden2,y_train)\n",
    "print(model_rbf.best_estimator_)"
   ]
  },
  {
   "cell_type": "code",
   "execution_count": 41,
   "metadata": {
    "colab": {
     "base_uri": "https://localhost:8080/",
     "height": 84
    },
    "colab_type": "code",
    "id": "R-lz-RhNOzG3",
    "outputId": "5747bac4-5185-4d84-fe86-706ba2fbdd5d"
   },
   "outputs": [
    {
     "name": "stdout",
     "output_type": "stream",
     "text": [
      "SVC(C=2.0180745758943845, cache_size=200, class_weight=None, coef0=0.0,\n",
      "  decision_function_shape='ovr', degree=3, gamma=0.1, kernel='rbf',\n",
      "  max_iter=-1, probability=False, random_state=None, shrinking=True,\n",
      "  tol=0.001, verbose=False)\n"
     ]
    }
   ],
   "source": [
    "print(model_random.best_estimator_)"
   ]
  },
  {
   "cell_type": "markdown",
   "metadata": {
    "colab_type": "text",
    "id": "v4oT6S1ZD-j6"
   },
   "source": [
    "#####  AccuracyScore with Best C"
   ]
  },
  {
   "cell_type": "code",
   "execution_count": 42,
   "metadata": {
    "colab": {
     "base_uri": "https://localhost:8080/",
     "height": 101
    },
    "colab_type": "code",
    "id": "Zmi5ni_7D-j-",
    "outputId": "bba4fbe1-93b2-4a5b-a574-1026c6601844"
   },
   "outputs": [
    {
     "name": "stdout",
     "output_type": "stream",
     "text": [
      "\n",
      "The accuracy of the classifier is 84.066667%\n",
      "accuracy on train data is 89.4%\n",
      "error on train data is 10.599999999999994%\n",
      "error on test data is 15.933333333333337%\n"
     ]
    }
   ],
   "source": [
    "\n",
    "clf1 = SVC(C=1,gamma=0.1)\n",
    "\n",
    "# fitting the model\n",
    "clf1.fit(X_trainw2v, y_train)\n",
    "\n",
    "# predict the response\n",
    "\n",
    "predicted_labels = []\n",
    "for i in range(0,7500 , 500):\n",
    "    predicted_labels.append(clf1.predict(X_testw2v[i:i+500]))\n",
    "\n",
    "pred_w2v = np.hstack(predicted_labels)\n",
    "acc_w2v = accuracy_score(y_test, pred_w2v) * 100\n",
    "print('\\nThe accuracy of the classifier is %f%%' %(acc_w2v))\n",
    "for i in range(0,17500 , 500):\n",
    "    acc_train_w2v = clf1.score(X_trainw2v[i:i+500],y_train[i:i+500])*100\n",
    "print(\"accuracy on train data is {}%\".format(acc_train_w2v))\n",
    "error_train_w2v = (100-acc_train_w2v)\n",
    "print(\"error on train data is {}%\".format(error_train_w2v))\n",
    "error_test_w2v = (100-acc_w2v)\n",
    "print(\"error on test data is {}%\".format(error_test_w2v))"
   ]
  },
  {
   "cell_type": "markdown",
   "metadata": {
    "colab_type": "text",
    "id": "IH0Ako1OD-j_"
   },
   "source": [
    "#### Confusion Matrix"
   ]
  },
  {
   "cell_type": "code",
   "execution_count": 43,
   "metadata": {
    "colab": {
     "base_uri": "https://localhost:8080/",
     "height": 50
    },
    "colab_type": "code",
    "id": "apf2D0rmD-kA",
    "outputId": "289224be-615e-496e-f89c-5b940c14adf0"
   },
   "outputs": [
    {
     "data": {
      "text/plain": [
       "array([[ 293, 1040],\n",
       "       [ 155, 6012]])"
      ]
     },
     "execution_count": 43,
     "metadata": {
      "tags": []
     },
     "output_type": "execute_result"
    }
   ],
   "source": [
    "from sklearn.metrics import confusion_matrix\n",
    "confusion_matrix(y_test, pred_w2v)"
   ]
  },
  {
   "cell_type": "code",
   "execution_count": 44,
   "metadata": {
    "colab": {
     "base_uri": "https://localhost:8080/",
     "height": 310
    },
    "colab_type": "code",
    "id": "L0iXVgpGD-kE",
    "outputId": "db62e20e-2c61-4765-fb20-8ebf6a3c06ec"
   },
   "outputs": [
    {
     "data": {
      "text/plain": [
       "<matplotlib.axes._subplots.AxesSubplot at 0x7ff4b99e0198>"
      ]
     },
     "execution_count": 44,
     "metadata": {
      "tags": []
     },
     "output_type": "execute_result"
    },
    {
     "data": {
      "image/png": "[encoded data removed]",
      "text/plain": [
       "<matplotlib.figure.Figure at 0x7ff4d30e97b8>"
      ]
     },
     "metadata": {
      "tags": []
     },
     "output_type": "display_data"
    }
   ],
   "source": [
    "import seaborn as sns\n",
    "def plot_confusion_matrix(targets, predictions,title='Confusion matrix', cmap=\"Blues\"):\n",
    "    \"\"\"Plot Confusion Matrix.\"\"\"\n",
    "    cm = confusion_matrix(targets, predictions)\n",
    "   # cm = 100 * cm.astype('float') / cm.sum(axis=1)[:, np.newaxis]\n",
    " \n",
    "    df = pd.DataFrame(data=cm)\n",
    "    g = sns.heatmap(df, annot=True, fmt=\".1f\", linewidths=.5,cmap=cmap)\n",
    "    g.set_title(title)\n",
    "    g.set_ylabel('True label')\n",
    "    g.set_xlabel('Predicted label')\n",
    "    return g\n",
    "plot_confusion_matrix(y_test, pred_w2v)"
   ]
  },
  {
   "cell_type": "markdown",
   "metadata": {
    "colab_type": "text",
    "id": "mBHSVyIaD-kJ"
   },
   "source": [
    "#### Classification Report "
   ]
  },
  {
   "cell_type": "code",
   "execution_count": 45,
   "metadata": {
    "colab": {
     "base_uri": "https://localhost:8080/",
     "height": 134
    },
    "colab_type": "code",
    "id": "E3oDP514D-kK",
    "outputId": "6b3712b0-b9e2-454b-fb88-52997b0d7d0c"
   },
   "outputs": [
    {
     "name": "stdout",
     "output_type": "stream",
     "text": [
      "             precision    recall  f1-score   support\n",
      "\n",
      "   negative       0.65      0.22      0.33      1333\n",
      "   positive       0.85      0.97      0.91      6167\n",
      "\n",
      "avg / total       0.82      0.84      0.81      7500\n",
      "\n"
     ]
    }
   ],
   "source": [
    "from sklearn.metrics import classification_report\n",
    "print(classification_report(y_test, pred_w2v))"
   ]
  },
  {
   "cell_type": "markdown",
   "metadata": {
    "colab_type": "text",
    "id": "Br6HWns9D-k4"
   },
   "source": [
    "## TF-IDF weighted Word2Vec"
   ]
  },
  {
   "cell_type": "code",
   "execution_count": 43,
   "metadata": {
    "colab": {},
    "colab_type": "code",
    "id": "dwU-uJXiD-k4"
   },
   "outputs": [],
   "source": [
    "model = TfidfVectorizer()\n",
    "tf_idf_matrix = model.fit_transform(df['CleanedText'].values)\n",
    "# we are converting a dictionary with word as a key, and the idf as a value\n",
    "dictionary = dict(zip(model.get_feature_names(), list(model.idf_)))"
   ]
  },
  {
   "cell_type": "code",
   "execution_count": 46,
   "metadata": {
    "colab": {
     "base_uri": "https://localhost:8080/",
     "height": 34
    },
    "colab_type": "code",
    "id": "-RicN7DGD-k6",
    "outputId": "9a78269d-a4a7-4dc5-fee0-883005345911"
   },
   "outputs": [
    {
     "name": "stderr",
     "output_type": "stream",
     "text": [
      "100%|███████████████████████████████████| 42000/42000 [01:53<00:00, 369.14it/s]\n"
     ]
    }
   ],
   "source": [
    "from tqdm import tqdm\n",
    "# TF-IDF weighted Word2Vec\n",
    "#dictionary = dict(zip(tfidf.get_feature_names(), list(tfidf.idf_)))\n",
    "tfidf_feat = tfidf.get_feature_names() # tfidf words/col-names\n",
    "# final_tf_idf is the sparse matrix with row= sentence, col=word and cell_val = tfidf\n",
    "\n",
    "tfidf_sent_vectors = []; # the tfidf-w2v for each sentence/review is stored in this list\n",
    "row=0;\n",
    "for sent in tqdm(list_of_sent): # for each review/sentence \n",
    "    sent_vec = np.zeros(50) # as word vectors are of zero length\n",
    "    weight_sum =0; # num of words with a valid vector in the sentence/review\n",
    "    for word in sent: # for each word in a review/sentence\n",
    "        try:\n",
    "            if word in w2v_words:\n",
    "                vec = w2v_model.wv[word]\n",
    "#             tf_idf = tf_idf_matrix[row, tfidf_feat.index(word)]\n",
    "            # to reduce the computation we are \n",
    "            # dictionary[word] = idf value of word in whole courpus\n",
    "            # sent.count(word) = tf valeus of word in this review\n",
    "                tf_idf = dictionary[word]*sent.count(word)\n",
    "                sent_vec += (vec * tf_idf)\n",
    "                weight_sum += tf_idf\n",
    "        except:\n",
    "            pass\n",
    "    if weight_sum != 0:\n",
    "        sent_vec /= weight_sum\n",
    "    tfidf_sent_vectors.append(sent_vec)\n",
    "    row += 1"
   ]
  },
  {
   "cell_type": "code",
   "execution_count": 47,
   "metadata": {
    "colab": {
     "base_uri": "https://localhost:8080/",
     "height": 34
    },
    "colab_type": "code",
    "id": "EfAMrH-_D-lB",
    "outputId": "6f4fbe79-34d9-48e9-cb17-b5cdbe639a48"
   },
   "outputs": [
    {
     "name": "stderr",
     "output_type": "stream",
     "text": [
      "100%|███████████████████████████████████| 18000/18000 [00:45<00:00, 397.61it/s]\n"
     ]
    }
   ],
   "source": [
    "# TF-IDF weighted Word2Vec\n",
    "#dictionary = dict(zip(tfidf.get_feature_names(), list(tfidf.idf_)))\n",
    "tfidf_feat = tfidf.get_feature_names() # tfidf words/col-names\n",
    "# final_tf_idf is the sparse matrix with row= sentence, col=word and cell_val = tfidf\n",
    "\n",
    "tfidf_sent_vectors_test = []; # the tfidf-w2v for each sentence/review is stored in this list\n",
    "row=0;\n",
    "for sent in tqdm(list_of_sent_test): # for each review/sentence \n",
    "    sent_vec = np.zeros(50) # as word vectors are of zero length\n",
    "    weight_sum =0; # num of words with a valid vector in the sentence/review\n",
    "    for word in sent: # for each word in a review/sentence\n",
    "        try:\n",
    "            if word in w2v_words:\n",
    "                vec = w2v_model.wv[word]\n",
    "#             tf_idf = tf_idf_matrix[row, tfidf_feat.index(word)]\n",
    "            # to reduce the computation we are \n",
    "            # dictionary[word] = idf value of word in whole courpus\n",
    "            # sent.count(word) = tf valeus of word in this review\n",
    "                tf_idf = dictionary[word]*sent.count(word)\n",
    "                sent_vec += (vec * tf_idf)\n",
    "                weight_sum += tf_idf\n",
    "        except:\n",
    "            pass\n",
    "    if weight_sum != 0:\n",
    "        sent_vec /= weight_sum\n",
    "    tfidf_sent_vectors_test.append(sent_vec)\n",
    "    row += 1"
   ]
  },
  {
   "cell_type": "code",
   "execution_count": 48,
   "metadata": {
    "colab": {},
    "colab_type": "code",
    "id": "FbsbR9m1D-lC"
   },
   "outputs": [],
   "source": [
    "\n",
    "X_trainw2vtfidf=np.array(tfidf_sent_vectors)\n",
    "X_testw2vtfidf=np.array(tfidf_sent_vectors_test)"
   ]
  },
  {
   "cell_type": "code",
   "execution_count": 49,
   "metadata": {
    "colab": {
     "base_uri": "https://localhost:8080/",
     "height": 34
    },
    "colab_type": "code",
    "id": "crCwx35kD-lE",
    "outputId": "bfc379da-4f19-4d52-dc93-1f18d0b4594a"
   },
   "outputs": [
    {
     "data": {
      "text/plain": [
       "(42000, 50)"
      ]
     },
     "execution_count": 49,
     "metadata": {},
     "output_type": "execute_result"
    }
   ],
   "source": [
    "X_trainw2vtfidf.shape\n"
   ]
  },
  {
   "cell_type": "code",
   "execution_count": 50,
   "metadata": {},
   "outputs": [],
   "source": [
    "std_scale = StandardScaler(with_mean = False).fit(X_trainw2vtfidf)\n",
    "X_trainw2vtfidf = std_scale.transform(X_trainw2vtfidf)\n",
    "X_testw2vtfidf  = std_scale.transform(X_testw2vtfidf)"
   ]
  },
  {
   "cell_type": "code",
   "execution_count": 0,
   "metadata": {
    "colab": {},
    "colab_type": "code",
    "id": "g0USaAC3X6gE"
   },
   "outputs": [],
   "source": [
    "X_trainw2vtfidf=X_trainw2vtfidf.ravel()"
   ]
  },
  {
   "cell_type": "code",
   "execution_count": 0,
   "metadata": {
    "colab": {},
    "colab_type": "code",
    "id": "gxvke8GPD-lR"
   },
   "outputs": [],
   "source": [
    "X_trainw2vtfidf=np.nan_to_num(X_trainw2vtfidf)"
   ]
  },
  {
   "cell_type": "markdown",
   "metadata": {
    "colab_type": "text",
    "id": "vSTZawlqD-lU"
   },
   "source": [
    "##### Logistic Regression usin GridSearch CV "
   ]
  },
  {
   "cell_type": "code",
   "execution_count": 52,
   "metadata": {
    "colab": {
     "base_uri": "https://localhost:8080/",
     "height": 786
    },
    "colab_type": "code",
    "id": "F6EaPt1MD-lU",
    "outputId": "895cbcec-605d-437c-f6ac-8a8ce095f0c7"
   },
   "outputs": [
    {
     "name": "stdout",
     "output_type": "stream",
     "text": [
      "SGDClassifier(alpha=0.005, average=False, class_weight=None, epsilon=0.1,\n",
      "       eta0=0.0, fit_intercept=True, l1_ratio=0.15,\n",
      "       learning_rate='optimal', loss='hinge', max_iter=None, n_iter=None,\n",
      "       n_jobs=1, penalty='l2', power_t=0.5, random_state=None,\n",
      "       shuffle=True, tol=None, verbose=0, warm_start=False)\n"
     ]
    }
   ],
   "source": [
    "model_linear.fit(X_trainw2vtfidf,y_train)\n",
    "print(model_linear.best_estimator_)"
   ]
  },
  {
   "cell_type": "code",
   "execution_count": 53,
   "metadata": {},
   "outputs": [
    {
     "name": "stdout",
     "output_type": "stream",
     "text": [
      "\n",
      "The accuracy of the classifier is 84.211111%\n",
      "accuracy on train data is 84.15714285714286%\n",
      "error on train data is 15.842857142857142%\n",
      "error on test data is 15.788888888888891%\n",
      "-------------------------------------------------\n",
      "             precision    recall  f1-score   support\n",
      "\n",
      "   negative       0.76      0.13      0.22      3125\n",
      "   positive       0.84      0.99      0.91     14875\n",
      "\n",
      "avg / total       0.83      0.84      0.79     18000\n",
      "\n"
     ]
    }
   ],
   "source": [
    "sgd = SGDClassifier(alpha=0.005)\n",
    "\n",
    "# fitting the model\n",
    "sgd.fit(X_trainw2vtfidf, y_train)\n",
    "\n",
    "# predict the response\n",
    "pred_w2vtfidf=sgd.predict(X_testw2vtfidf)\n",
    "\n",
    "acc_w2vtfidf = accuracy_score(y_test, pred_w2vtfidf) * 100\n",
    "print('\\nThe accuracy of the classifier is %f%%' %(acc_w2vtfidf))\n",
    "acc_train_w2vtfidf = sgd.score(X_trainw2vtfidf,y_train)*100\n",
    "print(\"accuracy on train data is {}%\".format(acc_train_w2vtfidf))\n",
    "error_train_w2vtfidf = (100-acc_train_w2vtfidf)\n",
    "print(\"error on train data is {}%\".format(error_train_w2vtfidf))\n",
    "error_test_w2vtfidf = (100-acc_w2vtfidf)\n",
    "print(\"error on test data is {}%\".format(error_test_w2vtfidf))\n",
    "print(\"-------------------------------------------------\")\n",
    "print(classification_report(y_test, pred_w2vtfidf))"
   ]
  },
  {
   "cell_type": "code",
   "execution_count": 54,
   "metadata": {},
   "outputs": [
    {
     "data": {
      "text/plain": [
       "<matplotlib.axes._subplots.AxesSubplot at 0x3c25d5f8>"
      ]
     },
     "execution_count": 54,
     "metadata": {},
     "output_type": "execute_result"
    },
    {
     "data": {
      "image/png": "[encoded data removed]",
      "text/plain": [
       "<Figure size 432x288 with 2 Axes>"
      ]
     },
     "metadata": {},
     "output_type": "display_data"
    }
   ],
   "source": [
    "import seaborn as sns\n",
    "def plot_confusion_matrix(targets, predictions,title='Confusion matrix', cmap=\"Blues\"):\n",
    "    \"\"\"Plot Confusion Matrix.\"\"\"\n",
    "    cm = confusion_matrix(targets, predictions)\n",
    "    df = pd.DataFrame(data=cm)\n",
    "    g = sns.heatmap(df, annot=True, fmt=\".1f\", linewidths=.5,cmap=cmap)\n",
    "    g.set_title(title)\n",
    "    g.set_ylabel('True label')\n",
    "    g.set_xlabel('Predicted label')\n",
    "    return g\n",
    "plot_confusion_matrix(y_test, pred_w2vtfidf)"
   ]
  },
  {
   "cell_type": "code",
   "execution_count": 55,
   "metadata": {},
   "outputs": [
    {
     "name": "stdout",
     "output_type": "stream",
     "text": [
      "SGDClassifier(alpha=0.02241573398966068, average=False, class_weight=None,\n",
      "       epsilon=0.1, eta0=0.0, fit_intercept=True, l1_ratio=0.15,\n",
      "       learning_rate='optimal', loss='hinge', max_iter=None, n_iter=None,\n",
      "       n_jobs=1, penalty='l2', power_t=0.5, random_state=None,\n",
      "       shuffle=True, tol=None, verbose=0, warm_start=False)\n"
     ]
    }
   ],
   "source": [
    "model_randomlinear.fit(X_trainw2vtfidf,y_train)\n",
    "print(model_randomlinear.best_estimator_)"
   ]
  },
  {
   "cell_type": "code",
   "execution_count": 56,
   "metadata": {},
   "outputs": [
    {
     "name": "stdout",
     "output_type": "stream",
     "text": [
      "\n",
      "The accuracy of the classifier is 83.055556%\n",
      "accuracy on train data is 83.22857142857143%\n",
      "error on train data is 16.771428571428572%\n",
      "error on test data is 16.944444444444443%\n",
      "-------------------------------------------------\n",
      "             precision    recall  f1-score   support\n",
      "\n",
      "   negative       0.80      0.03      0.06      3125\n",
      "   positive       0.83      1.00      0.91     14875\n",
      "\n",
      "avg / total       0.83      0.83      0.76     18000\n",
      "\n"
     ]
    }
   ],
   "source": [
    "sgd = SGDClassifier(alpha=0.022)\n",
    "\n",
    "# fitting the model\n",
    "sgd.fit(X_trainw2vtfidf, y_train)\n",
    "\n",
    "# predict the response\n",
    "pred_w2vtfidf=sgd.predict(X_testw2vtfidf)\n",
    "\n",
    "acc_w2vtfidf = accuracy_score(y_test, pred_w2vtfidf) * 100\n",
    "print('\\nThe accuracy of the classifier is %f%%' %(acc_w2vtfidf))\n",
    "acc_train_w2vtfidf = sgd.score(X_trainw2vtfidf,y_train)*100\n",
    "print(\"accuracy on train data is {}%\".format(acc_train_w2vtfidf))\n",
    "error_train_w2vtfidf = (100-acc_train_w2vtfidf)\n",
    "print(\"error on train data is {}%\".format(error_train_w2vtfidf))\n",
    "error_test_w2vtfidf = (100-acc_w2vtfidf)\n",
    "print(\"error on test data is {}%\".format(error_test_w2vtfidf))\n",
    "print(\"-------------------------------------------------\")\n",
    "print(classification_report(y_test, pred_w2vtfidf))"
   ]
  },
  {
   "cell_type": "code",
   "execution_count": 57,
   "metadata": {},
   "outputs": [
    {
     "data": {
      "text/plain": [
       "<matplotlib.axes._subplots.AxesSubplot at 0x43d139e8>"
      ]
     },
     "execution_count": 57,
     "metadata": {},
     "output_type": "execute_result"
    },
    {
     "data": {
      "image/png": "[encoded data removed]",
      "text/plain": [
       "<Figure size 432x288 with 2 Axes>"
      ]
     },
     "metadata": {},
     "output_type": "display_data"
    }
   ],
   "source": [
    "import seaborn as sns\n",
    "def plot_confusion_matrix(targets, predictions,title='Confusion matrix', cmap=\"Blues\"):\n",
    "    \"\"\"Plot Confusion Matrix.\"\"\"\n",
    "    cm = confusion_matrix(targets, predictions)\n",
    "    df = pd.DataFrame(data=cm)\n",
    "    g = sns.heatmap(df, annot=True, fmt=\".1f\", linewidths=.5,cmap=cmap)\n",
    "    g.set_title(title)\n",
    "    g.set_ylabel('True label')\n",
    "    g.set_xlabel('Predicted label')\n",
    "    return g\n",
    "plot_confusion_matrix(y_test, pred_w2vtfidf)"
   ]
  },
  {
   "cell_type": "code",
   "execution_count": 58,
   "metadata": {},
   "outputs": [
    {
     "name": "stdout",
     "output_type": "stream",
     "text": [
      "variance preserved [0.02109509 0.20555713 0.15084606 0.11210046 0.07444917 0.0633069\n",
      " 0.05629894 0.0456525  0.04008681 0.0356921 ]\n"
     ]
    }
   ],
   "source": [
    "svd = TruncatedSVD(n_components=10)\n",
    "std_data3=svd.fit_transform(X_trainw2vtfidf)\n",
    "print(\"variance preserved\",svd.explained_variance_ratio_)\n",
    "std_data3=csr_matrix((X_trainw2vtfidf))\n",
    "X_trainden3 = std_data3.todense()"
   ]
  },
  {
   "cell_type": "code",
   "execution_count": null,
   "metadata": {},
   "outputs": [],
   "source": [
    "model_rbf.fit(X_trainden3,y_train)\n",
    "print(model_rbf.best_estimator_)"
   ]
  },
  {
   "cell_type": "markdown",
   "metadata": {
    "colab_type": "text",
    "id": "N5XbJA9iD-lW"
   },
   "source": [
    "#####  AccuracyScore with best C"
   ]
  },
  {
   "cell_type": "code",
   "execution_count": 0,
   "metadata": {
    "colab": {},
    "colab_type": "code",
    "id": "0647WPIVD-lW",
    "outputId": "c951366b-e14d-42a1-af4a-7fb66ba1daef"
   },
   "outputs": [
    {
     "name": "stdout",
     "output_type": "stream",
     "text": [
      "\n",
      "The accuracy of the  classifier for k is 87.216667%\n",
      "accuracy on train data is 87.5%\n",
      "error on train data is 12.5%\n",
      "error on test data is 12.783333333333331%\n"
     ]
    }
   ],
   "source": [
    "\n",
    "logistic_optimal = LogisticRegression(C=50,penalty='l2')\n",
    "\n",
    "# fitting the model\n",
    "logistic_optimal.fit(X_trainw2vtfidf, y_train)\n",
    "# predict the response\n",
    "\n",
    "predicted_labels = []\n",
    "for i in range(0,30000 , 1000):\n",
    "    predicted_labels.append(logistic_optimal.predict(X_testw2vtfidf[i:i+1000]))\n",
    "\n",
    "pred_w2vtfidf = np.hstack(predicted_labels)\n",
    "#pred_bow= knn_optimal.predict(X_testbow)\n",
    "# evaluate accuracy\n",
    "acc_w2v = accuracy_score(y_test, pred_w2vtfidf) * 100\n",
    "print('\\nThe accuracy of the  classifier for k is %f%%' %(acc_w2v))\n",
    "for i in range(0,70000 , 1000):\n",
    "    acc_train_w2v = logistic_optimal.score(X_trainw2vtfidf[i:i+1000],y_train[i:i+1000])*100\n",
    "print(\"accuracy on train data is {}%\".format(acc_train_w2v))\n",
    "error_train_w2v = (100-acc_train_w2v)\n",
    "print(\"error on train data is {}%\".format(error_train_w2v))\n",
    "error_test_w2v = (100-acc_w2v)\n",
    "print(\"error on test data is {}%\".format(error_test_w2v))"
   ]
  },
  {
   "cell_type": "markdown",
   "metadata": {
    "colab_type": "text",
    "id": "mfLayByaD-lZ"
   },
   "source": [
    "#### Confusion Matrix"
   ]
  },
  {
   "cell_type": "code",
   "execution_count": 0,
   "metadata": {
    "colab": {},
    "colab_type": "code",
    "id": "0es9WIMxD-la",
    "outputId": "80f156e2-90a7-45ef-e70b-19b197713017"
   },
   "outputs": [
    {
     "data": {
      "text/plain": [
       "array([[ 1358,  3032],\n",
       "       [  804, 24806]], dtype=int64)"
      ]
     },
     "execution_count": 36,
     "metadata": {
      "tags": []
     },
     "output_type": "execute_result"
    }
   ],
   "source": [
    "from sklearn.metrics import confusion_matrix\n",
    "confusion_matrix(y_test, pred_w2vtfidf)"
   ]
  },
  {
   "cell_type": "code",
   "execution_count": 0,
   "metadata": {
    "colab": {},
    "colab_type": "code",
    "id": "GfW24TSRD-lc",
    "outputId": "5ce7ff3e-75d4-49ca-fcdb-d42a439b6213"
   },
   "outputs": [
    {
     "data": {
      "text/plain": [
       "<matplotlib.axes._subplots.AxesSubplot at 0x3d1b6320>"
      ]
     },
     "execution_count": 37,
     "metadata": {
      "tags": []
     },
     "output_type": "execute_result"
    },
    {
     "data": {
      "image/png": "[encoded data removed]",
      "text/plain": [
       "<Figure size 432x288 with 2 Axes>"
      ]
     },
     "metadata": {
      "tags": []
     },
     "output_type": "display_data"
    }
   ],
   "source": [
    "import seaborn as sns\n",
    "def plot_confusion_matrix(targets, predictions,title='Confusion matrix'):\n",
    "    \"\"\"Plot Confusion Matrix.\"\"\"\n",
    "    cm = confusion_matrix(targets, predictions)\n",
    "   # cm = 100 * cm.astype('float') / cm.sum(axis=1)[:, np.newaxis]\n",
    " \n",
    "    df = pd.DataFrame(data=cm)\n",
    "    g = sns.heatmap(df, annot=True, fmt=\".1f\", linewidths=.5)\n",
    "    g.set_title(title)\n",
    "    g.set_ylabel('True label')\n",
    "    g.set_xlabel('Predicted label')\n",
    "    return g\n",
    "plot_confusion_matrix(y_test, pred_w2vtfidf)"
   ]
  },
  {
   "cell_type": "markdown",
   "metadata": {
    "colab_type": "text",
    "id": "20HLmT4nD-lh"
   },
   "source": [
    "#### Classification Report"
   ]
  },
  {
   "cell_type": "code",
   "execution_count": 0,
   "metadata": {
    "colab": {},
    "colab_type": "code",
    "id": "HGVtDNNRD-lh",
    "outputId": "379cde7f-778c-4c5d-e92f-926f419cb83e",
    "scrolled": true
   },
   "outputs": [
    {
     "name": "stdout",
     "output_type": "stream",
     "text": [
      "             precision    recall  f1-score   support\n",
      "\n",
      "   negative       0.63      0.31      0.41      4390\n",
      "   positive       0.89      0.97      0.93     25610\n",
      "\n",
      "avg / total       0.85      0.87      0.85     30000\n",
      "\n"
     ]
    }
   ],
   "source": [
    "from sklearn.metrics import classification_report\n",
    "print(classification_report(y_test, pred_w2vtfidf))"
   ]
  },
  {
   "cell_type": "markdown",
   "metadata": {
    "colab_type": "text",
    "id": "JES0G7-gD-lj"
   },
   "source": [
    "##### Logistic Regression usin RandomSearchCV "
   ]
  },
  {
   "cell_type": "code",
   "execution_count": 56,
   "metadata": {
    "colab": {
     "base_uri": "https://localhost:8080/",
     "height": 84
    },
    "colab_type": "code",
    "id": "OSTGzgCCD-lk",
    "outputId": "e9e6b40c-78aa-4f5b-8c36-6b8b4a712791"
   },
   "outputs": [
    {
     "name": "stdout",
     "output_type": "stream",
     "text": [
      "SVC(C=3.73320614319169, cache_size=200, class_weight=None, coef0=0.0,\n",
      "  decision_function_shape='ovr', degree=3, gamma=0.1, kernel='rbf',\n",
      "  max_iter=-1, probability=False, random_state=None, shrinking=True,\n",
      "  tol=0.001, verbose=False)\n"
     ]
    }
   ],
   "source": [
    "model_randomrbf.fit(X_trainden3,y_train)\n",
    "print(model_randomrbf.best_estimator_)"
   ]
  },
  {
   "cell_type": "markdown",
   "metadata": {
    "colab_type": "text",
    "id": "DuZ99wnSD-lm"
   },
   "source": [
    "#####  AccuracyScore with best C"
   ]
  },
  {
   "cell_type": "code",
   "execution_count": 0,
   "metadata": {
    "colab": {},
    "colab_type": "code",
    "id": "4VkfaS2HD-lm",
    "outputId": "bd6f8024-ecdd-44ff-dbae-f43caae9315e"
   },
   "outputs": [
    {
     "name": "stdout",
     "output_type": "stream",
     "text": [
      "\n",
      "The accuracy of the  classifier for k is 87.213333%\n",
      "accuracy on train data is 87.6%\n",
      "error on train data is 12.400000000000006%\n",
      "error on test data is 12.786666666666662%\n"
     ]
    }
   ],
   "source": [
    "\n",
    "logistic_optimal = LogisticRegression(C=3.336,penalty='l2')\n",
    "\n",
    "# fitting the model\n",
    "logistic_optimal.fit(X_trainw2vtfidf, y_train)\n",
    "X_testw2vtfidf=np.nan_to_num(X_testw2vtfidf)\n",
    "# predict the response\n",
    "\n",
    "predicted_labels = []\n",
    "for i in range(0,30000 , 1000):\n",
    "    predicted_labels.append(logistic_optimal.predict(X_testw2vtfidf[i:i+1000]))\n",
    "\n",
    "pred_w2vtfidf = np.hstack(predicted_labels)\n",
    "#pred_bow= knn_optimal.predict(X_testbow)\n",
    "# evaluate accuracy\n",
    "acc_w2vtfidf = accuracy_score(y_test, pred_w2vtfidf) * 100\n",
    "print('\\nThe accuracy of the  classifier for k is %f%%' %(acc_w2vtfidf))\n",
    "for i in range(0,70000 , 1000):\n",
    "    acc_train_w2vtfidf = logistic_optimal.score(X_trainw2vtfidf[i:i+1000],y_train[i:i+1000])*100\n",
    "print(\"accuracy on train data is {}%\".format(acc_train_w2vtfidf))\n",
    "error_train_w2vtfidf = (100-acc_train_w2vtfidf)\n",
    "print(\"error on train data is {}%\".format(error_train_w2vtfidf))\n",
    "error_test_w2vtfidf = (100-acc_w2vtfidf)\n",
    "print(\"error on test data is {}%\".format(error_test_w2vtfidf))"
   ]
  },
  {
   "cell_type": "markdown",
   "metadata": {
    "colab_type": "text",
    "id": "64plMn2KD-lo"
   },
   "source": [
    "#### Confusion Matrix"
   ]
  },
  {
   "cell_type": "code",
   "execution_count": 0,
   "metadata": {
    "colab": {},
    "colab_type": "code",
    "id": "hwdpV0yMD-lq",
    "outputId": "eb8ba957-7bff-4e92-e921-010e583f1411"
   },
   "outputs": [
    {
     "data": {
      "text/plain": [
       "array([[ 1352,  3038],\n",
       "       [  797, 24813]], dtype=int64)"
      ]
     },
     "execution_count": 73,
     "metadata": {
      "tags": []
     },
     "output_type": "execute_result"
    }
   ],
   "source": [
    "from sklearn.metrics import confusion_matrix\n",
    "confusion_matrix(y_test, pred_w2vtfidf)"
   ]
  },
  {
   "cell_type": "markdown",
   "metadata": {
    "colab_type": "text",
    "id": "_LqBSypTD-lt"
   },
   "source": [
    "#### Classification Report"
   ]
  },
  {
   "cell_type": "code",
   "execution_count": 0,
   "metadata": {
    "colab": {},
    "colab_type": "code",
    "id": "zVUjjxmOD-lu",
    "outputId": "f80cd93e-638b-4994-f16b-e89995afb239",
    "scrolled": true
   },
   "outputs": [
    {
     "name": "stdout",
     "output_type": "stream",
     "text": [
      "             precision    recall  f1-score   support\n",
      "\n",
      "   negative       0.63      0.31      0.41      4390\n",
      "   positive       0.89      0.97      0.93     25610\n",
      "\n",
      "avg / total       0.85      0.87      0.85     30000\n",
      "\n"
     ]
    }
   ],
   "source": [
    "from sklearn.metrics import classification_report\n",
    "print(classification_report(y_test, pred_w2vtfidf))"
   ]
  },
  {
   "cell_type": "code",
   "execution_count": 0,
   "metadata": {
    "colab": {},
    "colab_type": "code",
    "id": "Vfyg9v1-D-mA",
    "outputId": "29d0b5ba-44e3-4425-cee9-14c2c67fcea9"
   },
   "outputs": [
    {
     "data": {
      "text/plain": [
       "LogisticRegression(C=50, class_weight=None, dual=False, fit_intercept=True,\n",
       "          intercept_scaling=1, max_iter=100, multi_class='ovr', n_jobs=1,\n",
       "          penalty='l2', random_state=None, solver='liblinear', tol=0.0001,\n",
       "          verbose=0, warm_start=False)"
      ]
     },
     "execution_count": 78,
     "metadata": {
      "tags": []
     },
     "output_type": "execute_result"
    }
   ],
   "source": [
    "logistic_optimal.fit(X_trainw2vtfidf_n,y_train)"
   ]
  },
  {
   "cell_type": "markdown",
   "metadata": {
    "colab_type": "text",
    "id": "wlBNQVqdD-mJ"
   },
   "source": [
    "## Conclusion\n",
    "1)AVG W2V Featurization performs best with accuracy of 93.704 and F1-Score of 0.808\n",
    "2)Sparsity increases as we increase lambda or decrease C when L1 Regularizer is used\n",
    "3)Logistic Regression performed best on this data"
   ]
  },
  {
   "cell_type": "markdown",
   "metadata": {
    "colab_type": "text",
    "id": "ar0AQiVgD-mK"
   },
   "source": [
    "## Performance Table"
   ]
  },
  {
   "cell_type": "code",
   "execution_count": 0,
   "metadata": {
    "colab": {},
    "colab_type": "code",
    "id": "-GjV0qcQD-mK",
    "outputId": "7cb8d4c9-656b-4216-f68c-014413a8eeb6"
   },
   "outputs": [
    {
     "name": "stdout",
     "output_type": "stream",
     "text": [
      "+---------------+--------------+-------+---------+----------+----------+\n",
      "| Featurization |      CV      |   C   | Penalty | Accuracy | F1 Score |\n",
      "+---------------+--------------+-------+---------+----------+----------+\n",
      "|      BOW      |  GridSearch  |   1   |    L2   |  86.82   |   0.87   |\n",
      "|      BOW      | RandomSearch |   1   |    L2   |  86.82   |   0.87   |\n",
      "|     TFIDF     |  GridSearch  |   5   |    L2   |  86.82   |   0.86   |\n",
      "|     TFIDF     | RandomSearch |   5   |    L2   |  86.82   |   0.86   |\n",
      "|    AVG W2V    |  GridSearch  |   50  |    L2   |  87.98   |   0.87   |\n",
      "|    AVG W2V    | RandomSearch |   1   |    L2   |  87.89   |   0.86   |\n",
      "|   TFIDF W2V   |  GridSearch  |   50  |    L2   |  87.21   |   0.85   |\n",
      "|   TFIDF W2V   | RandomSearch | 3.336 |    L2   |  87.21   |   0.85   |\n",
      "+---------------+--------------+-------+---------+----------+----------+\n"
     ]
    }
   ],
   "source": [
    "x = PrettyTable()\n",
    "\n",
    "x.field_names = [\"Featurization\", \"CV\",\"C\", \"Penalty\",\"Accuracy\",\"F1 Score\"]\n",
    "\n",
    "x.add_row([\"BOW\",\"GridSearch\", 1,\"L2\" ,86.82,0.87])\n",
    "x.add_row([\"BOW\",\"RandomSearch\",1,\"L2\",86.82,0.87])\n",
    "x.add_row([\"TFIDF\",\"GridSearch\", 5,\"L2\" ,86.82,0.86])\n",
    "x.add_row([\"TFIDF\",\"RandomSearch\",5,\"L2\",86.82,0.86])\n",
    "x.add_row([\"AVG W2V\",\"GridSearch\", 50,\"L2\" ,87.98,0.87])\n",
    "x.add_row([\"AVG W2V\",\"RandomSearch\",1,\"L2\",87.89,0.86])\n",
    "x.add_row([\"TFIDF W2V\",\"GridSearch\", 50,\"L2\" ,87.21,0.85])\n",
    "x.add_row([\"TFIDF W2V\",\"RandomSearch\",3.336,\"L2\",87.21,0.85])\n",
    "\n",
    "print(x)\n"
   ]
  },
  {
   "cell_type": "markdown",
   "metadata": {
    "colab_type": "text",
    "id": "TwWLc96lD-mO"
   },
   "source": [
    "\n"
   ]
  }
 ],
 "metadata": {
  "accelerator": "GPU",
  "colab": {
   "collapsed_sections": [
    "CkKhKxHJD-hu",
    "FtNdmkuvD-h6",
    "fsyZ_y5JD-ie",
    "64plMn2KD-lo",
    "wlBNQVqdD-mJ"
   ],
   "name": "SVM on Amazon fine food reviews analysis.ipynb",
   "provenance": [],
   "version": "0.3.2"
  },
  "kernelspec": {
   "display_name": "Python 3",
   "language": "python",
   "name": "python3"
  },
  "language_info": {
   "codemirror_mode": {
    "name": "ipython",
    "version": 3
   },
   "file_extension": ".py",
   "mimetype": "text/x-python",
   "name": "python",
   "nbconvert_exporter": "python",
   "pygments_lexer": "ipython3",
   "version": "3.6.5"
  }
 },
 "nbformat": 4,
 "nbformat_minor": 1
}
